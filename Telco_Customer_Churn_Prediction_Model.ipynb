{
  "nbformat": 4,
  "nbformat_minor": 0,
  "metadata": {
    "colab": {
      "provenance": [],
      "authorship_tag": "ABX9TyPKQ2zOubc15zpsd2U4Fwc1",
      "include_colab_link": true
    },
    "kernelspec": {
      "name": "python3",
      "display_name": "Python 3"
    },
    "language_info": {
      "name": "python"
    }
  },
  "cells": [
    {
      "cell_type": "markdown",
      "metadata": {
        "id": "view-in-github",
        "colab_type": "text"
      },
      "source": [
        "<a href=\"https://colab.research.google.com/github/9mithun9/customer-churn-prediction-app/blob/main/Telco_Customer_Churn_Prediction_Model.ipynb\" target=\"_parent\"><img src=\"https://colab.research.google.com/assets/colab-badge.svg\" alt=\"Open In Colab\"/></a>"
      ]
    },
    {
      "cell_type": "markdown",
      "source": [
        "**Downloading Data and Dependencies**\n",
        "\n",
        "\n",
        "*   data has been doanloaded from a kaggle resource: https://www.kaggle.com/datasets/blastchar/telco-customer-churn\n",
        "*   other dependencies are also been downloaded here\n",
        "\n"
      ],
      "metadata": {
        "id": "K8eIdKHPL9MA"
      }
    },
    {
      "cell_type": "code",
      "execution_count": 1,
      "metadata": {
        "collapsed": true,
        "id": "OCNexaBxbxA9",
        "colab": {
          "base_uri": "https://localhost:8080/"
        },
        "outputId": "b166a562-785a-43df-ce1a-f1dd5cac170b"
      },
      "outputs": [
        {
          "output_type": "stream",
          "name": "stdout",
          "text": [
            "Collecting opendatasets\n",
            "  Downloading opendatasets-0.1.22-py3-none-any.whl.metadata (9.2 kB)\n",
            "Requirement already satisfied: tqdm in /usr/local/lib/python3.11/dist-packages (from opendatasets) (4.67.1)\n",
            "Requirement already satisfied: kaggle in /usr/local/lib/python3.11/dist-packages (from opendatasets) (1.7.4.5)\n",
            "Requirement already satisfied: click in /usr/local/lib/python3.11/dist-packages (from opendatasets) (8.2.1)\n",
            "Requirement already satisfied: bleach in /usr/local/lib/python3.11/dist-packages (from kaggle->opendatasets) (6.2.0)\n",
            "Requirement already satisfied: certifi>=14.05.14 in /usr/local/lib/python3.11/dist-packages (from kaggle->opendatasets) (2025.6.15)\n",
            "Requirement already satisfied: charset-normalizer in /usr/local/lib/python3.11/dist-packages (from kaggle->opendatasets) (3.4.2)\n",
            "Requirement already satisfied: idna in /usr/local/lib/python3.11/dist-packages (from kaggle->opendatasets) (3.10)\n",
            "Requirement already satisfied: protobuf in /usr/local/lib/python3.11/dist-packages (from kaggle->opendatasets) (5.29.5)\n",
            "Requirement already satisfied: python-dateutil>=2.5.3 in /usr/local/lib/python3.11/dist-packages (from kaggle->opendatasets) (2.9.0.post0)\n",
            "Requirement already satisfied: python-slugify in /usr/local/lib/python3.11/dist-packages (from kaggle->opendatasets) (8.0.4)\n",
            "Requirement already satisfied: requests in /usr/local/lib/python3.11/dist-packages (from kaggle->opendatasets) (2.32.3)\n",
            "Requirement already satisfied: setuptools>=21.0.0 in /usr/local/lib/python3.11/dist-packages (from kaggle->opendatasets) (75.2.0)\n",
            "Requirement already satisfied: six>=1.10 in /usr/local/lib/python3.11/dist-packages (from kaggle->opendatasets) (1.17.0)\n",
            "Requirement already satisfied: text-unidecode in /usr/local/lib/python3.11/dist-packages (from kaggle->opendatasets) (1.3)\n",
            "Requirement already satisfied: urllib3>=1.15.1 in /usr/local/lib/python3.11/dist-packages (from kaggle->opendatasets) (2.4.0)\n",
            "Requirement already satisfied: webencodings in /usr/local/lib/python3.11/dist-packages (from kaggle->opendatasets) (0.5.1)\n",
            "Downloading opendatasets-0.1.22-py3-none-any.whl (15 kB)\n",
            "Installing collected packages: opendatasets\n",
            "Successfully installed opendatasets-0.1.22\n"
          ]
        }
      ],
      "source": [
        "!pip install opendatasets"
      ]
    },
    {
      "cell_type": "code",
      "source": [
        "import opendatasets as od"
      ],
      "metadata": {
        "id": "Lnl2FmfLeiIg"
      },
      "execution_count": 2,
      "outputs": []
    },
    {
      "cell_type": "code",
      "source": [
        "dataset_url = 'https://www.kaggle.com/datasets/blastchar/telco-customer-churn'"
      ],
      "metadata": {
        "id": "vDxLK9llelMs"
      },
      "execution_count": 3,
      "outputs": []
    },
    {
      "cell_type": "code",
      "source": [
        "od.download(dataset_url)"
      ],
      "metadata": {
        "id": "bmy1PuTmeqLJ",
        "colab": {
          "base_uri": "https://localhost:8080/"
        },
        "outputId": "15f148a6-2111-40fd-ee5d-82d19f6c881d"
      },
      "execution_count": 4,
      "outputs": [
        {
          "output_type": "stream",
          "name": "stdout",
          "text": [
            "Please provide your Kaggle credentials to download this dataset. Learn more: http://bit.ly/kaggle-creds\n",
            "Your Kaggle username: mehedferewrfs\n",
            "Your Kaggle Key: ··········\n",
            "Dataset URL: https://www.kaggle.com/datasets/blastchar/telco-customer-churn\n",
            "Downloading telco-customer-churn.zip to ./telco-customer-churn\n"
          ]
        },
        {
          "output_type": "stream",
          "name": "stderr",
          "text": [
            "100%|██████████| 172k/172k [00:00<00:00, 332MB/s]"
          ]
        },
        {
          "output_type": "stream",
          "name": "stdout",
          "text": [
            "\n"
          ]
        },
        {
          "output_type": "stream",
          "name": "stderr",
          "text": [
            "\n"
          ]
        }
      ]
    },
    {
      "cell_type": "code",
      "source": [
        "data_dir = 'telco-customer-churn'"
      ],
      "metadata": {
        "id": "-iKa1hJ3e_wK"
      },
      "execution_count": 5,
      "outputs": []
    },
    {
      "cell_type": "code",
      "source": [
        "import pandas as pd\n",
        "import os"
      ],
      "metadata": {
        "id": "15Wr5gUNfF0P"
      },
      "execution_count": 6,
      "outputs": []
    },
    {
      "cell_type": "code",
      "source": [
        "df = pd.read_csv(os.path.join(data_dir,'WA_Fn-UseC_-Telco-Customer-Churn.csv'))"
      ],
      "metadata": {
        "id": "hQTso_QkfQh0"
      },
      "execution_count": 7,
      "outputs": []
    },
    {
      "cell_type": "code",
      "source": [
        "len(df)"
      ],
      "metadata": {
        "colab": {
          "base_uri": "https://localhost:8080/"
        },
        "id": "ddyfRn3LyT_9",
        "outputId": "0744ba5a-e8d0-4889-8bc1-5bdc1f71cd42"
      },
      "execution_count": 8,
      "outputs": [
        {
          "output_type": "execute_result",
          "data": {
            "text/plain": [
              "7043"
            ]
          },
          "metadata": {},
          "execution_count": 8
        }
      ]
    },
    {
      "cell_type": "code",
      "source": [
        "df.sample(5)"
      ],
      "metadata": {
        "colab": {
          "base_uri": "https://localhost:8080/",
          "height": 342
        },
        "collapsed": true,
        "id": "BRYL8ebc0f2b",
        "outputId": "7c3fafc6-6c13-49f1-ae94-2ab3bd04fea4"
      },
      "execution_count": null,
      "outputs": [
        {
          "output_type": "execute_result",
          "data": {
            "text/plain": [
              "      customerID  gender  SeniorCitizen Partner Dependents  tenure  \\\n",
              "1448  2958-NHPPS    Male              0      No         No      23   \n",
              "6995  7164-BPTUT    Male              0      No        Yes      57   \n",
              "21    1680-VDCWW    Male              0     Yes         No      12   \n",
              "1849  0621-TWIEM    Male              0      No         No      10   \n",
              "5767  1972-XMUWV  Female              0     Yes         No      65   \n",
              "\n",
              "     PhoneService MultipleLines InternetService       OnlineSecurity  ...  \\\n",
              "1448          Yes            No              No  No internet service  ...   \n",
              "6995          Yes           Yes             DSL                  Yes  ...   \n",
              "21            Yes            No              No  No internet service  ...   \n",
              "1849          Yes            No             DSL                   No  ...   \n",
              "5767          Yes            No             DSL                   No  ...   \n",
              "\n",
              "         DeviceProtection          TechSupport          StreamingTV  \\\n",
              "1448  No internet service  No internet service  No internet service   \n",
              "6995                  Yes                  Yes                  Yes   \n",
              "21    No internet service  No internet service  No internet service   \n",
              "1849                   No                   No                   No   \n",
              "5767                   No                  Yes                  Yes   \n",
              "\n",
              "          StreamingMovies        Contract PaperlessBilling  \\\n",
              "1448  No internet service  Month-to-month               No   \n",
              "6995                  Yes        Two year               No   \n",
              "21    No internet service        One year               No   \n",
              "1849                   No  Month-to-month              Yes   \n",
              "5767                   No        Two year              Yes   \n",
              "\n",
              "                  PaymentMethod MonthlyCharges  TotalCharges Churn  \n",
              "1448           Electronic check          20.85         473.9    No  \n",
              "6995               Mailed check          89.55       5012.35    No  \n",
              "21    Bank transfer (automatic)          19.80        202.25    No  \n",
              "1849           Electronic check          45.55         402.6   Yes  \n",
              "5767    Credit card (automatic)          59.80        3808.2    No  \n",
              "\n",
              "[5 rows x 21 columns]"
            ],
            "text/html": [
              "\n",
              "  <div id=\"df-004026f1-5f5a-4379-99a5-8e9636506032\" class=\"colab-df-container\">\n",
              "    <div>\n",
              "<style scoped>\n",
              "    .dataframe tbody tr th:only-of-type {\n",
              "        vertical-align: middle;\n",
              "    }\n",
              "\n",
              "    .dataframe tbody tr th {\n",
              "        vertical-align: top;\n",
              "    }\n",
              "\n",
              "    .dataframe thead th {\n",
              "        text-align: right;\n",
              "    }\n",
              "</style>\n",
              "<table border=\"1\" class=\"dataframe\">\n",
              "  <thead>\n",
              "    <tr style=\"text-align: right;\">\n",
              "      <th></th>\n",
              "      <th>customerID</th>\n",
              "      <th>gender</th>\n",
              "      <th>SeniorCitizen</th>\n",
              "      <th>Partner</th>\n",
              "      <th>Dependents</th>\n",
              "      <th>tenure</th>\n",
              "      <th>PhoneService</th>\n",
              "      <th>MultipleLines</th>\n",
              "      <th>InternetService</th>\n",
              "      <th>OnlineSecurity</th>\n",
              "      <th>...</th>\n",
              "      <th>DeviceProtection</th>\n",
              "      <th>TechSupport</th>\n",
              "      <th>StreamingTV</th>\n",
              "      <th>StreamingMovies</th>\n",
              "      <th>Contract</th>\n",
              "      <th>PaperlessBilling</th>\n",
              "      <th>PaymentMethod</th>\n",
              "      <th>MonthlyCharges</th>\n",
              "      <th>TotalCharges</th>\n",
              "      <th>Churn</th>\n",
              "    </tr>\n",
              "  </thead>\n",
              "  <tbody>\n",
              "    <tr>\n",
              "      <th>1448</th>\n",
              "      <td>2958-NHPPS</td>\n",
              "      <td>Male</td>\n",
              "      <td>0</td>\n",
              "      <td>No</td>\n",
              "      <td>No</td>\n",
              "      <td>23</td>\n",
              "      <td>Yes</td>\n",
              "      <td>No</td>\n",
              "      <td>No</td>\n",
              "      <td>No internet service</td>\n",
              "      <td>...</td>\n",
              "      <td>No internet service</td>\n",
              "      <td>No internet service</td>\n",
              "      <td>No internet service</td>\n",
              "      <td>No internet service</td>\n",
              "      <td>Month-to-month</td>\n",
              "      <td>No</td>\n",
              "      <td>Electronic check</td>\n",
              "      <td>20.85</td>\n",
              "      <td>473.9</td>\n",
              "      <td>No</td>\n",
              "    </tr>\n",
              "    <tr>\n",
              "      <th>6995</th>\n",
              "      <td>7164-BPTUT</td>\n",
              "      <td>Male</td>\n",
              "      <td>0</td>\n",
              "      <td>No</td>\n",
              "      <td>Yes</td>\n",
              "      <td>57</td>\n",
              "      <td>Yes</td>\n",
              "      <td>Yes</td>\n",
              "      <td>DSL</td>\n",
              "      <td>Yes</td>\n",
              "      <td>...</td>\n",
              "      <td>Yes</td>\n",
              "      <td>Yes</td>\n",
              "      <td>Yes</td>\n",
              "      <td>Yes</td>\n",
              "      <td>Two year</td>\n",
              "      <td>No</td>\n",
              "      <td>Mailed check</td>\n",
              "      <td>89.55</td>\n",
              "      <td>5012.35</td>\n",
              "      <td>No</td>\n",
              "    </tr>\n",
              "    <tr>\n",
              "      <th>21</th>\n",
              "      <td>1680-VDCWW</td>\n",
              "      <td>Male</td>\n",
              "      <td>0</td>\n",
              "      <td>Yes</td>\n",
              "      <td>No</td>\n",
              "      <td>12</td>\n",
              "      <td>Yes</td>\n",
              "      <td>No</td>\n",
              "      <td>No</td>\n",
              "      <td>No internet service</td>\n",
              "      <td>...</td>\n",
              "      <td>No internet service</td>\n",
              "      <td>No internet service</td>\n",
              "      <td>No internet service</td>\n",
              "      <td>No internet service</td>\n",
              "      <td>One year</td>\n",
              "      <td>No</td>\n",
              "      <td>Bank transfer (automatic)</td>\n",
              "      <td>19.80</td>\n",
              "      <td>202.25</td>\n",
              "      <td>No</td>\n",
              "    </tr>\n",
              "    <tr>\n",
              "      <th>1849</th>\n",
              "      <td>0621-TWIEM</td>\n",
              "      <td>Male</td>\n",
              "      <td>0</td>\n",
              "      <td>No</td>\n",
              "      <td>No</td>\n",
              "      <td>10</td>\n",
              "      <td>Yes</td>\n",
              "      <td>No</td>\n",
              "      <td>DSL</td>\n",
              "      <td>No</td>\n",
              "      <td>...</td>\n",
              "      <td>No</td>\n",
              "      <td>No</td>\n",
              "      <td>No</td>\n",
              "      <td>No</td>\n",
              "      <td>Month-to-month</td>\n",
              "      <td>Yes</td>\n",
              "      <td>Electronic check</td>\n",
              "      <td>45.55</td>\n",
              "      <td>402.6</td>\n",
              "      <td>Yes</td>\n",
              "    </tr>\n",
              "    <tr>\n",
              "      <th>5767</th>\n",
              "      <td>1972-XMUWV</td>\n",
              "      <td>Female</td>\n",
              "      <td>0</td>\n",
              "      <td>Yes</td>\n",
              "      <td>No</td>\n",
              "      <td>65</td>\n",
              "      <td>Yes</td>\n",
              "      <td>No</td>\n",
              "      <td>DSL</td>\n",
              "      <td>No</td>\n",
              "      <td>...</td>\n",
              "      <td>No</td>\n",
              "      <td>Yes</td>\n",
              "      <td>Yes</td>\n",
              "      <td>No</td>\n",
              "      <td>Two year</td>\n",
              "      <td>Yes</td>\n",
              "      <td>Credit card (automatic)</td>\n",
              "      <td>59.80</td>\n",
              "      <td>3808.2</td>\n",
              "      <td>No</td>\n",
              "    </tr>\n",
              "  </tbody>\n",
              "</table>\n",
              "<p>5 rows × 21 columns</p>\n",
              "</div>\n",
              "    <div class=\"colab-df-buttons\">\n",
              "\n",
              "  <div class=\"colab-df-container\">\n",
              "    <button class=\"colab-df-convert\" onclick=\"convertToInteractive('df-004026f1-5f5a-4379-99a5-8e9636506032')\"\n",
              "            title=\"Convert this dataframe to an interactive table.\"\n",
              "            style=\"display:none;\">\n",
              "\n",
              "  <svg xmlns=\"http://www.w3.org/2000/svg\" height=\"24px\" viewBox=\"0 -960 960 960\">\n",
              "    <path d=\"M120-120v-720h720v720H120Zm60-500h600v-160H180v160Zm220 220h160v-160H400v160Zm0 220h160v-160H400v160ZM180-400h160v-160H180v160Zm440 0h160v-160H620v160ZM180-180h160v-160H180v160Zm440 0h160v-160H620v160Z\"/>\n",
              "  </svg>\n",
              "    </button>\n",
              "\n",
              "  <style>\n",
              "    .colab-df-container {\n",
              "      display:flex;\n",
              "      gap: 12px;\n",
              "    }\n",
              "\n",
              "    .colab-df-convert {\n",
              "      background-color: #E8F0FE;\n",
              "      border: none;\n",
              "      border-radius: 50%;\n",
              "      cursor: pointer;\n",
              "      display: none;\n",
              "      fill: #1967D2;\n",
              "      height: 32px;\n",
              "      padding: 0 0 0 0;\n",
              "      width: 32px;\n",
              "    }\n",
              "\n",
              "    .colab-df-convert:hover {\n",
              "      background-color: #E2EBFA;\n",
              "      box-shadow: 0px 1px 2px rgba(60, 64, 67, 0.3), 0px 1px 3px 1px rgba(60, 64, 67, 0.15);\n",
              "      fill: #174EA6;\n",
              "    }\n",
              "\n",
              "    .colab-df-buttons div {\n",
              "      margin-bottom: 4px;\n",
              "    }\n",
              "\n",
              "    [theme=dark] .colab-df-convert {\n",
              "      background-color: #3B4455;\n",
              "      fill: #D2E3FC;\n",
              "    }\n",
              "\n",
              "    [theme=dark] .colab-df-convert:hover {\n",
              "      background-color: #434B5C;\n",
              "      box-shadow: 0px 1px 3px 1px rgba(0, 0, 0, 0.15);\n",
              "      filter: drop-shadow(0px 1px 2px rgba(0, 0, 0, 0.3));\n",
              "      fill: #FFFFFF;\n",
              "    }\n",
              "  </style>\n",
              "\n",
              "    <script>\n",
              "      const buttonEl =\n",
              "        document.querySelector('#df-004026f1-5f5a-4379-99a5-8e9636506032 button.colab-df-convert');\n",
              "      buttonEl.style.display =\n",
              "        google.colab.kernel.accessAllowed ? 'block' : 'none';\n",
              "\n",
              "      async function convertToInteractive(key) {\n",
              "        const element = document.querySelector('#df-004026f1-5f5a-4379-99a5-8e9636506032');\n",
              "        const dataTable =\n",
              "          await google.colab.kernel.invokeFunction('convertToInteractive',\n",
              "                                                    [key], {});\n",
              "        if (!dataTable) return;\n",
              "\n",
              "        const docLinkHtml = 'Like what you see? Visit the ' +\n",
              "          '<a target=\"_blank\" href=https://colab.research.google.com/notebooks/data_table.ipynb>data table notebook</a>'\n",
              "          + ' to learn more about interactive tables.';\n",
              "        element.innerHTML = '';\n",
              "        dataTable['output_type'] = 'display_data';\n",
              "        await google.colab.output.renderOutput(dataTable, element);\n",
              "        const docLink = document.createElement('div');\n",
              "        docLink.innerHTML = docLinkHtml;\n",
              "        element.appendChild(docLink);\n",
              "      }\n",
              "    </script>\n",
              "  </div>\n",
              "\n",
              "\n",
              "    <div id=\"df-f9a92212-42ab-4cfa-822c-018c0c733504\">\n",
              "      <button class=\"colab-df-quickchart\" onclick=\"quickchart('df-f9a92212-42ab-4cfa-822c-018c0c733504')\"\n",
              "                title=\"Suggest charts\"\n",
              "                style=\"display:none;\">\n",
              "\n",
              "<svg xmlns=\"http://www.w3.org/2000/svg\" height=\"24px\"viewBox=\"0 0 24 24\"\n",
              "     width=\"24px\">\n",
              "    <g>\n",
              "        <path d=\"M19 3H5c-1.1 0-2 .9-2 2v14c0 1.1.9 2 2 2h14c1.1 0 2-.9 2-2V5c0-1.1-.9-2-2-2zM9 17H7v-7h2v7zm4 0h-2V7h2v10zm4 0h-2v-4h2v4z\"/>\n",
              "    </g>\n",
              "</svg>\n",
              "      </button>\n",
              "\n",
              "<style>\n",
              "  .colab-df-quickchart {\n",
              "      --bg-color: #E8F0FE;\n",
              "      --fill-color: #1967D2;\n",
              "      --hover-bg-color: #E2EBFA;\n",
              "      --hover-fill-color: #174EA6;\n",
              "      --disabled-fill-color: #AAA;\n",
              "      --disabled-bg-color: #DDD;\n",
              "  }\n",
              "\n",
              "  [theme=dark] .colab-df-quickchart {\n",
              "      --bg-color: #3B4455;\n",
              "      --fill-color: #D2E3FC;\n",
              "      --hover-bg-color: #434B5C;\n",
              "      --hover-fill-color: #FFFFFF;\n",
              "      --disabled-bg-color: #3B4455;\n",
              "      --disabled-fill-color: #666;\n",
              "  }\n",
              "\n",
              "  .colab-df-quickchart {\n",
              "    background-color: var(--bg-color);\n",
              "    border: none;\n",
              "    border-radius: 50%;\n",
              "    cursor: pointer;\n",
              "    display: none;\n",
              "    fill: var(--fill-color);\n",
              "    height: 32px;\n",
              "    padding: 0;\n",
              "    width: 32px;\n",
              "  }\n",
              "\n",
              "  .colab-df-quickchart:hover {\n",
              "    background-color: var(--hover-bg-color);\n",
              "    box-shadow: 0 1px 2px rgba(60, 64, 67, 0.3), 0 1px 3px 1px rgba(60, 64, 67, 0.15);\n",
              "    fill: var(--button-hover-fill-color);\n",
              "  }\n",
              "\n",
              "  .colab-df-quickchart-complete:disabled,\n",
              "  .colab-df-quickchart-complete:disabled:hover {\n",
              "    background-color: var(--disabled-bg-color);\n",
              "    fill: var(--disabled-fill-color);\n",
              "    box-shadow: none;\n",
              "  }\n",
              "\n",
              "  .colab-df-spinner {\n",
              "    border: 2px solid var(--fill-color);\n",
              "    border-color: transparent;\n",
              "    border-bottom-color: var(--fill-color);\n",
              "    animation:\n",
              "      spin 1s steps(1) infinite;\n",
              "  }\n",
              "\n",
              "  @keyframes spin {\n",
              "    0% {\n",
              "      border-color: transparent;\n",
              "      border-bottom-color: var(--fill-color);\n",
              "      border-left-color: var(--fill-color);\n",
              "    }\n",
              "    20% {\n",
              "      border-color: transparent;\n",
              "      border-left-color: var(--fill-color);\n",
              "      border-top-color: var(--fill-color);\n",
              "    }\n",
              "    30% {\n",
              "      border-color: transparent;\n",
              "      border-left-color: var(--fill-color);\n",
              "      border-top-color: var(--fill-color);\n",
              "      border-right-color: var(--fill-color);\n",
              "    }\n",
              "    40% {\n",
              "      border-color: transparent;\n",
              "      border-right-color: var(--fill-color);\n",
              "      border-top-color: var(--fill-color);\n",
              "    }\n",
              "    60% {\n",
              "      border-color: transparent;\n",
              "      border-right-color: var(--fill-color);\n",
              "    }\n",
              "    80% {\n",
              "      border-color: transparent;\n",
              "      border-right-color: var(--fill-color);\n",
              "      border-bottom-color: var(--fill-color);\n",
              "    }\n",
              "    90% {\n",
              "      border-color: transparent;\n",
              "      border-bottom-color: var(--fill-color);\n",
              "    }\n",
              "  }\n",
              "</style>\n",
              "\n",
              "      <script>\n",
              "        async function quickchart(key) {\n",
              "          const quickchartButtonEl =\n",
              "            document.querySelector('#' + key + ' button');\n",
              "          quickchartButtonEl.disabled = true;  // To prevent multiple clicks.\n",
              "          quickchartButtonEl.classList.add('colab-df-spinner');\n",
              "          try {\n",
              "            const charts = await google.colab.kernel.invokeFunction(\n",
              "                'suggestCharts', [key], {});\n",
              "          } catch (error) {\n",
              "            console.error('Error during call to suggestCharts:', error);\n",
              "          }\n",
              "          quickchartButtonEl.classList.remove('colab-df-spinner');\n",
              "          quickchartButtonEl.classList.add('colab-df-quickchart-complete');\n",
              "        }\n",
              "        (() => {\n",
              "          let quickchartButtonEl =\n",
              "            document.querySelector('#df-f9a92212-42ab-4cfa-822c-018c0c733504 button');\n",
              "          quickchartButtonEl.style.display =\n",
              "            google.colab.kernel.accessAllowed ? 'block' : 'none';\n",
              "        })();\n",
              "      </script>\n",
              "    </div>\n",
              "\n",
              "    </div>\n",
              "  </div>\n"
            ],
            "application/vnd.google.colaboratory.intrinsic+json": {
              "type": "dataframe"
            }
          },
          "metadata": {},
          "execution_count": 48
        }
      ]
    },
    {
      "cell_type": "code",
      "source": [
        "df.to_csv('data.csv', index=False)"
      ],
      "metadata": {
        "id": "CICxzmdcX9ee"
      },
      "execution_count": 9,
      "outputs": []
    },
    {
      "cell_type": "markdown",
      "source": [
        "**Data Exploration**\n",
        "\n",
        "\n",
        "*   Unnecessary columns have been dropped\n",
        "*   Converting the Yes/No, Male/Female to 1,0\n",
        "*   Dropped the rows with missing values\n",
        "*   Having some visualization to relate between columns\n",
        "\n",
        "\n",
        "\n",
        "\n",
        "\n"
      ],
      "metadata": {
        "id": "BpZXnBayMODM"
      }
    },
    {
      "cell_type": "code",
      "source": [
        "def print_unique_col_values(df):\n",
        "  for column in df:\n",
        "    if df[column].dtype == 'object':\n",
        "      print(f'{column}: {df[column].unique()}')"
      ],
      "metadata": {
        "id": "QmlFWvZMyDUP"
      },
      "execution_count": null,
      "outputs": []
    },
    {
      "cell_type": "code",
      "source": [
        "print_unique_col_values(df)"
      ],
      "metadata": {
        "id": "1MMOvT5my-fI",
        "colab": {
          "base_uri": "https://localhost:8080/"
        },
        "outputId": "7e01d928-ca91-4c11-af55-1bf3d530703d"
      },
      "execution_count": null,
      "outputs": [
        {
          "output_type": "stream",
          "name": "stdout",
          "text": [
            "customerID: ['7590-VHVEG' '5575-GNVDE' '3668-QPYBK' ... '4801-JZAZL' '8361-LTMKD'\n",
            " '3186-AJIEK']\n",
            "gender: ['Female' 'Male']\n",
            "Partner: ['Yes' 'No']\n",
            "Dependents: ['No' 'Yes']\n",
            "PhoneService: ['No' 'Yes']\n",
            "MultipleLines: ['No phone service' 'No' 'Yes']\n",
            "InternetService: ['DSL' 'Fiber optic' 'No']\n",
            "OnlineSecurity: ['No' 'Yes' 'No internet service']\n",
            "OnlineBackup: ['Yes' 'No' 'No internet service']\n",
            "DeviceProtection: ['No' 'Yes' 'No internet service']\n",
            "TechSupport: ['No' 'Yes' 'No internet service']\n",
            "StreamingTV: ['No' 'Yes' 'No internet service']\n",
            "StreamingMovies: ['No' 'Yes' 'No internet service']\n",
            "Contract: ['Month-to-month' 'One year' 'Two year']\n",
            "PaperlessBilling: ['Yes' 'No']\n",
            "PaymentMethod: ['Electronic check' 'Mailed check' 'Bank transfer (automatic)'\n",
            " 'Credit card (automatic)']\n",
            "TotalCharges: ['29.85' '1889.5' '108.15' ... '346.45' '306.6' '6844.5']\n",
            "Churn: ['No' 'Yes']\n"
          ]
        }
      ]
    },
    {
      "cell_type": "code",
      "source": [
        "df.drop('customerID', axis=1, inplace=True)"
      ],
      "metadata": {
        "id": "03pB4iyV2gIk"
      },
      "execution_count": null,
      "outputs": []
    },
    {
      "cell_type": "code",
      "source": [
        "df.replace('No phone service', 'No', inplace=True)\n",
        "df.replace('No internet service', 'No', inplace=True)"
      ],
      "metadata": {
        "id": "fvY24Xlezjui"
      },
      "execution_count": null,
      "outputs": []
    },
    {
      "cell_type": "code",
      "source": [
        "binary_cols = ['Partner', 'Dependents', 'PhoneService', 'MultipleLines', 'OnlineSecurity', 'OnlineBackup', 'DeviceProtection', 'TechSupport', 'StreamingTV', 'StreamingMovies', 'PaperlessBilling', 'Churn', 'SeniorCitizen']\n"
      ],
      "metadata": {
        "id": "nVf8QAz91NDf"
      },
      "execution_count": null,
      "outputs": []
    },
    {
      "cell_type": "code",
      "source": [
        "for col in binary_cols:\n",
        "  df[col] = df[col].replace({'Yes': 1, 'No': 0})"
      ],
      "metadata": {
        "id": "y6E0pAzK1kWp",
        "colab": {
          "base_uri": "https://localhost:8080/"
        },
        "outputId": "9ef93c7c-879e-46a9-dee3-8fa3fc4fcca2"
      },
      "execution_count": null,
      "outputs": [
        {
          "output_type": "stream",
          "name": "stderr",
          "text": [
            "/tmp/ipython-input-14-1556447478.py:2: FutureWarning: Downcasting behavior in `replace` is deprecated and will be removed in a future version. To retain the old behavior, explicitly call `result.infer_objects(copy=False)`. To opt-in to the future behavior, set `pd.set_option('future.no_silent_downcasting', True)`\n",
            "  df[col] = df[col].replace({'Yes': 1, 'No': 0})\n"
          ]
        }
      ]
    },
    {
      "cell_type": "code",
      "source": [
        "df['gender'] = df['gender'].map({'Female': 0, 'Male': 1})"
      ],
      "metadata": {
        "id": "48PVoEOIieU3"
      },
      "execution_count": null,
      "outputs": []
    },
    {
      "cell_type": "code",
      "source": [
        "import plotly.express as px\n",
        "\n",
        "fig = px.histogram(df, x='TotalCharges', color='Churn')\n",
        "fig.update_layout(title='Churn Rate by Gender')\n",
        "fig.show()"
      ],
      "metadata": {
        "colab": {
          "base_uri": "https://localhost:8080/",
          "height": 542
        },
        "id": "I4uqpB6fhrhi",
        "outputId": "f9fc6d2d-0faf-440c-92f5-9326b092b1d1"
      },
      "execution_count": null,
      "outputs": [
        {
          "output_type": "display_data",
          "data": {
            "text/html": [
              "<html>\n",
              "<head><meta charset=\"utf-8\" /></head>\n",
              "<body>\n",
              "    <div>            <script src=\"https://cdnjs.cloudflare.com/ajax/libs/mathjax/2.7.5/MathJax.js?config=TeX-AMS-MML_SVG\"></script><script type=\"text/javascript\">if (window.MathJax && window.MathJax.Hub && window.MathJax.Hub.Config) {window.MathJax.Hub.Config({SVG: {font: \"STIX-Web\"}});}</script>                <script type=\"text/javascript\">window.PlotlyConfig = {MathJaxConfig: 'local'};</script>\n",
              "        <script charset=\"utf-8\" src=\"https://cdn.plot.ly/plotly-2.35.2.min.js\"></script>                <div id=\"322ef568-0eaf-4be4-a630-e1ccd17e891e\" class=\"plotly-graph-div\" style=\"height:525px; width:100%;\"></div>            <script type=\"text/javascript\">                                    window.PLOTLYENV=window.PLOTLYENV || {};                                    if (document.getElementById(\"322ef568-0eaf-4be4-a630-e1ccd17e891e\")) {                    Plotly.newPlot(                        \"322ef568-0eaf-4be4-a630-e1ccd17e891e\",                        [{\"alignmentgroup\":\"True\",\"bingroup\":\"x\",\"hovertemplate\":\"Churn=0\\u003cbr\\u003eTotalCharges=%{x}\\u003cbr\\u003ecount=%{y}\\u003cextra\\u003e\\u003c\\u002fextra\\u003e\",\"legendgroup\":\"0\",\"marker\":{\"color\":\"#636efa\",\"pattern\":{\"shape\":\"\"}},\"name\":\"0\",\"offsetgroup\":\"0\",\"orientation\":\"v\",\"showlegend\":true,\"x\":[\"29.85\",\"1889.5\",\"1840.75\",\"1949.4\",\"301.9\",\"3487.95\",\"587.45\",\"326.8\",\"5681.1\",\"2686.05\",\"7895.15\",\"1022.95\",\"7382.25\",\"1862.9\",\"202.25\",\"3505.1\",\"2970.3\",\"1530.6\",\"6369.45\",\"6766.95\",\"181.65\",\"1874.45\",\"20.2\",\"45.25\",\"7251.7\",\"3548.3\",\"475.7\",\"4872.35\",\"418.25\",\"4861.45\",\"981.45\",\"3906.7\",\"97\",\"4217.8\",\"4254.1\",\"3838.75\",\"1752.65\",\"4456.35\",\"6311.2\",\"7076.35\",\"894.3\",\"7853.7\",\"4707.1\",\"5450.7\",\"2962\",\"957.1\",\"244.1\",\"3650.35\",\"2497.2\",\"930.9\",\"887.35\",\"49.05\",\"1090.65\",\"7099\",\"1424.6\",\"177.4\",\"6139.5\",\"2688.85\",\"482.25\",\"2111.3\",\"1216.6\",\"565.35\",\"4327.5\",\"973.35\",\"918.75\",\"2215.45\",\"1057\",\"927.1\",\"1009.25\",\"2570.2\",\"74.7\",\"5714.25\",\"7107\",\"7459.05\",\"4748.7\",\"1107.2\",\"20.2\",\"19.45\",\"3605.6\",\"3027.25\",\"100.2\",\"7303.05\",\"927.65\",\"3921.3\",\"1363.25\",\"3042.25\",\"3954.1\",\"3423.5\",\"248.4\",\"1126.35\",\"835.15\",\"2151.6\",\"5515.45\",\"112.75\",\"350.35\",\"62.9\",\"3027.65\",\"1723.95\",\"19.75\",\"3985.35\",\"1215.65\",\"3260.1\",\"1188.2\",\"1778.5\",\"1277.75\",\"1170.55\",\"6425.65\",\"5971.25\",\"5289.05\",\"1756.2\",\"6416.7\",\"61.35\",\"1929.95\",\"1071.4\",\"564.35\",\"7930.55\",\"5215.25\",\"113.5\",\"1152.8\",\"1821.95\",\"419.9\",\"1024\",\"251.6\",\"764.55\",\"135.2\",\"3958.25\",\"233.9\",\"1363.45\",\"6254.45\",\"321.4\",\"3539.25\",\"1181.75\",\"654.55\",\"780.2\",\"1559.25\",\"1252\",\"45.3\",\"2453.3\",\"1023.85\",\"82.15\",\"244.8\",\"2379.1\",\"3173.35\",\"1375.4\",\"8129.3\",\"1192.7\",\"1901.65\",\"587.4\",\"6519.75\",\"8041.65\",\"20.75\",\"2681.15\",\"1112.3\",\"7405.5\",\"1033.95\",\"2958.95\",\"2684.85\",\"4179.2\",\"6654.1\",\"25.25\",\"1124.2\",\"540.05\",\"1975.85\",\"3437.45\",\"3139.8\",\"3789.2\",\"5324.5\",\"624.6\",\"1836.9\",\"20.2\",\"219.35\",\"1288.75\",\"2545.75\",\"2723.15\",\"4107.25\",\"5760.65\",\"4747.5\",\"1566.9\",\"702\",\"299.05\",\"1305.95\",\"284.35\",\"6350.5\",\"7878.3\",\"3187.65\",\"6126.15\",\"731.3\",\"273.4\",\"2531.8\",\"4298.45\",\"4619.55\",\"2633.3\",\"193.05\",\"4103.9\",\"7008.15\",\"5791.1\",\"1228.65\",\"4925.35\",\"1520.1\",\"5032.25\",\"5526.75\",\"1195.25\",\"2007.25\",\"1732.95\",\"3450.15\",\"2172.05\",\"1339.8\",\"771.95\",\"244.75\",\"322.9\",\"498.25\",\"25.4\",\"3687.75\",\"1783.6\",\"927.15\",\"2021.2\",\"1940.8\",\"567.8\",\"220.35\",\"20.25\",\"5436.45\",\"3437.5\",\"3015.75\",\"1509.8\",\"356.65\",\"4109\",\"3141.7\",\"1229.1\",\"2054.4\",\"3741.85\",\"3682.45\",\"19.25\",\"1886.25\",\"4895.1\",\"341.6\",\"5686.4\",\"1355.1\",\"3236.35\",\"4264\",\"44.8\",\"422.3\",\"4176.7\",\"5138.1\",\"880.05\",\"973.65\",\"1470.05\",\"739.35\",\"161.95\",\"4422.95\",\"6148.45\",\"3565.65\",\"1830.1\",\"6223.8\",\"4508.65\",\"1328.15\",\"865\",\"72.1\",\"1303.5\",\"996.85\",\"6430.9\",\"2278.75\",\"681.4\",\"574.35\",\"889\",\"6823.4\",\"4016.75\",\"83.75\",\"3959.15\",\"2878.55\",\"945.7\",\"1373.05\",\"1406\",\"19.15\",\"6962.85\",\"8126.65\",\"690.25\",\"830.8\",\"5608.4\",\"3646.8\",\"3662.25\",\"25.35\",\"5308.7\",\"1410.25\",\"3339.05\",\"4732.35\",\"5067.45\",\"2348.45\",\"4063\",\"44\",\"2595.25\",\"2309.55\",\"89.3\",\"367.55\",\"3944.5\",\"5965.95\",\"3694.7\",\"1803.7\",\"415.1\",\"624.15\",\"237.7\",\"3848.8\",\"419.4\",\"1468.75\",\"5812\",\"2861.45\",\"1066.15\",\"2149.05\",\"4473\",\"3545.05\",\"1195.75\",\"6858.9\",\"1024.7\",\"132.25\",\"515.45\",\"2830.45\",\"1110.5\",\"449.3\",\"2838.55\",\"5376.4\",\"858.6\",\"1395.05\",\"3975.7\",\"4784.45\",\"119.5\",\"899.45\",\"1183.8\",\"720.05\",\"8468.2\",\"3161.2\",\"55.05\",\"1882.55\",\"5070.4\",\"6049.5\",\"1166.7\",\"2937.65\",\"1270.25\",\"759.55\",\"7611.55\",\"1642.75\",\"1545.4\",\"3582.4\",\"1417.9\",\"2494.65\",\"2768.35\",\"2369.3\",\"38\",\"75.1\",\"100.9\",\"1614.05\",\"8404.9\",\"2799.75\",\"6538.45\",\"6588.95\",\"868.1\",\"330.6\",\"564.4\",\"1315.35\",\"2747.2\",\"554.05\",\"225.75\",\"1671.6\",\"8003.8\",\"6130.85\",\"1415\",\"6201.95\",\" \",\"6597.25\",\"114.15\",\"3902.6\",\"20.4\",\"1785.65\",\"1397.65\",\"3899.05\",\"5676\",\"4543.15\",\"4326.8\",\"5502.55\",\"851.8\",\"19.85\",\"1818.3\",\"6300.15\",\"5916.95\",\"2852.4\",\"1546.3\",\"302.6\",\"265.45\",\"6989.45\",\"1442\",\"4713.4\",\"4738.3\",\"8399.15\",\"5430.35\",\"686.95\",\"5706.3\",\"490.65\",\"1360.25\",\"174.45\",\"7379.8\",\"1021.75\",\"5029.05\",\"1955.4\",\"6744.2\",\"4946.7\",\"8248.5\",\"601.6\",\"19.55\",\"2647.2\",\"6744.25\",\"5265.5\",\"311.6\",\"7966.9\",\"8220.4\",\"1153.25\",\"514.75\",\"3808\",\"19.9\",\"2708.2\",\"760.05\",\"49.3\",\"6033.3\",\"89.05\",\"516.15\",\"5861.75\",\"445.95\",\"4973.4\",\"1667.25\",\"5357.75\",\"422.6\",\"1103.25\",\"2754\",\"697.25\",\"3204.4\",\"4747.65\",\"3082.1\",\"597.9\",\"3365.4\",\"38.8\",\"19\",\"61.7\",\"3342.45\",\"85.1\",\"7422.1\",\"6668.05\",\"8071.05\",\"1174.8\",\"5435\",\"2438.6\",\"45.6\",\"916.15\",\"237.2\",\"4614.55\",\"1414.45\",\"1170.5\",\"47.7\",\"4859.25\",\"4903.2\",\"3608\",\"6094.25\",\"3084.9\",\"2356.75\",\"8306.05\",\"1357.1\",\"4860.35\",\"3418.2\",\"631.4\",\"186.3\",\"6976.75\",\"4884.85\",\"522.95\",\"362.6\",\"5755.8\",\"3355.65\",\"406.95\",\"2395.7\",\"1968.1\",\"6819.45\",\"7943.45\",\"2473.95\",\"6562.9\",\"176.3\",\"2236.2\",\"3109.9\",\"4911.35\",\"1620.2\",\"4287.2\",\"394.85\",\"3442.15\",\"1732.6\",\"655.3\",\"475.25\",\"865.1\",\"6132.7\",\"3597.5\",\"697.65\",\"428.7\",\"20.05\",\"4459.15\",\"1167.6\",\"238.1\",\"1453.1\",\"4039.3\",\"1039.45\",\"1336.1\",\"493.4\",\"7246.15\",\"1203.95\",\"313.6\",\"3775.85\",\"4616.05\",\"195.65\",\"4188.4\",\"71.1\",\"49.9\",\"1266.4\",\"1623.4\",\"4149.45\",\"20.45\",\"2344.5\",\"1013.05\",\"417\",\"20.65\",\"6316.2\",\"4018.05\",\"4811.6\",\"4189.7\",\"2848.45\",\"2516.2\",\"33.6\",\"208.45\",\"3739.8\",\"2964\",\"2263.4\",\"2211.8\",\"1683.7\",\"1519\",\"1164.05\",\"1710.9\",\"4245.55\",\"4145.9\",\"2664.3\",\"1277.5\",\"5589.3\",\"34.75\",\"1305.95\",\"204.55\",\"605.9\",\"356.1\",\"4805.65\",\"92.75\",\"1901.05\",\"5730.7\",\"2423.4\",\"1653.45\",\"3327.05\",\"7085.5\",\"3344.1\",\"6697.35\",\"2879.9\",\"137.1\",\"1551.6\",\"202.15\",\"7882.25\",\"8196.4\",\"202.9\",\"855.1\",\"5817\",\"1652.95\",\"5600.15\",\"515.75\",\" \",\"190.5\",\"1253.8\",\"57.2\",\"6563.4\",\"20.8\",\"4758.8\",\"1292.6\",\"363.15\",\"1600.25\",\"275.7\",\"3089.1\",\"1175.6\",\"237.3\",\"8065.65\",\"92.5\",\"6152.3\",\"5154.5\",\"220.45\",\"1510.3\",\"2588.95\",\"3983.6\",\"2003.6\",\"1832.4\",\"4908.25\",\"3590.2\",\"5023\",\"146.6\",\"2339.3\",\"298.7\",\"143.65\",\"2548.65\",\"507.4\",\"20\",\"5411.4\",\"903.8\",\"3009.5\",\"5468.45\",\"1058.1\",\"7616\",\"1108.2\",\"938.65\",\"94.15\",\"2088.05\",\"5656.75\",\"5986.45\",\"6751.35\",\"3566.6\",\"4889.3\",\"318.1\",\"1563.95\",\"372.45\",\"1442.6\",\"963.95\",\"5222.3\",\"3340.55\",\"5774.55\",\"4487.3\",\"2854.95\",\"905.55\",\"7589.8\",\"394.1\",\"295.95\",\"5459.2\",\"444.75\",\"6782.15\",\"6510.45\",\"8476.5\",\"4461.85\",\"62\",\"352.65\",\"1424.9\",\"6309.65\",\"5898.6\",\"4719.75\",\"457.3\",\"5822.3\",\"2337.45\",\"104.3\",\"121.25\",\"7015.9\",\"5598\",\"1269.1\",\"4634.35\",\"113.95\",\"3077\",\"4039.5\",\"1665.2\",\"504.2\",\"7511.65\",\"1782\",\"20.05\",\"609.65\",\"2857.6\",\"3247.55\",\"2823\",\"2619.25\",\"4965.1\",\"2679.7\",\"8310.55\",\"5682.25\",\"4914.9\",\"27.55\",\"6068.65\",\"5398.6\",\"234.85\",\"1231.85\",\"170.9\",\"7984.15\",\"1288.3\",\"7848.5\",\"267\",\"1798.9\",\"1643.55\",\"4807.45\",\"2193\",\"2239.4\",\"1505.9\",\"255.35\",\"1189.4\",\"4786.15\",\"1820.9\",\"2404.15\",\"7039.45\",\"2538.05\",\"1212.85\",\"2651.1\",\"1304.8\",\"435.45\",\"308.05\",\" \",\"7118.9\",\"320.45\",\"531.55\",\"382.2\",\"2001\",\"4919.7\",\"5645.8\",\"77.6\",\"2896.55\",\"759.35\",\"535.55\",\"1253.15\",\"955.15\",\"2162.6\",\"1813.35\",\"245.15\",\"2028.8\",\"2723.75\",\"220.45\",\"365.8\",\"551.95\",\"4054.2\",\"60.65\",\"5550.1\",\"4733.1\",\"4048.95\",\"4542.35\",\"888.65\",\"1916\",\"413\",\"808.95\",\"1886.4\",\"1679.25\",\"540.95\",\"19.75\",\"537.35\",\"678.8\",\"4513.65\",\"1423.85\",\"555.4\",\"225.55\",\"268.45\",\"1492.1\",\"132.4\",\"284.9\",\"784.25\",\"417.7\",\"5016.25\",\"485.2\",\"160.85\",\"4145.25\",\"827.45\",\"49.5\",\"5585.4\",\"1601.2\",\"162.45\",\"470.2\",\"2066\",\"1426.45\",\"392.5\",\"3861.45\",\"2552.9\",\"6668.35\",\"4615.25\",\"3557.7\",\"1957.1\",\"1416.75\",\"5924.4\",\"1697.7\",\"7849.85\",\"649.4\",\"4557.5\",\"360.35\",\"1046.5\",\"447.75\",\"4209.95\",\"3877.65\",\"152.3\",\"572.2\",\"552.7\",\"3208.65\",\"620.75\",\"505.9\",\"8046.85\",\"1815.3\",\"612.95\",\"795.15\",\"973.1\",\"2210.2\",\"1055.9\",\"1304.85\",\"21.1\",\"5580.8\",\"1497.9\",\"4590.35\",\"200.2\",\"614.45\",\"4564.9\",\" \",\"1012.4\",\"2766.4\",\"1129.35\",\"5680.9\",\"2243.9\",\"4523.25\",\"7159.7\",\"2839.95\",\"80.55\",\"580.1\",\"6038.55\",\"259.4\",\"324.15\",\"417.65\",\"5637.85\",\"839.4\",\"769.1\",\"6253\",\"1641.8\",\"1678.05\",\"2058.5\",\"2424.5\",\"6293.45\",\"3145.9\",\"2200.7\",\"914.4\",\"4577.75\",\"4997.5\",\"4144.8\",\"1493.55\",\"4179.1\",\"1611\",\"593.05\",\"1533.8\",\"529.8\",\"3865.6\",\"515.75\",\"48.35\",\"2070.05\",\"8333.95\",\"1209.25\",\"1396.25\",\"723.35\",\"228.65\",\"1161.75\",\"98.35\",\"775.3\",\"1074.65\",\"2324.7\",\"1072.6\",\"170.5\",\"1677.85\",\"18.85\",\"370.4\",\"3410.6\",\"1138.8\",\"5264.25\",\"1005.7\",\"5936.55\",\"5475.9\",\"2326.05\",\"4991.5\",\"5831.2\",\"510.8\",\"283.95\",\"1295.4\",\"19.65\",\"3011.65\",\"8093.15\",\"3217.65\",\"773.2\",\"1029.35\",\"3593.8\",\"3953.15\",\"1971.15\",\"3196\",\"4872.2\",\"1500.5\",\"3478.75\",\"7413.55\",\"3532\",\"256.75\",\"3887.25\",\"2490.15\",\"3510.3\",\"765.45\",\"1259.35\",\"5538.35\",\"340.85\",\"844.45\",\"1348.95\",\"3778\",\"611.65\",\"1505.05\",\"467.85\",\"194.2\",\"571.45\",\"5253.95\",\"521.35\",\"1412.65\",\"1090.6\",\"1446.8\",\"4300.45\",\"1111.2\",\"190.1\",\"4447.75\",\"1830.05\",\"2820.65\",\"4847.35\",\"4729.3\",\"4017.45\",\"1398.6\",\"1685.9\",\"5826.65\",\"6066.55\",\"270.2\",\"168.6\",\"536.35\",\"1888.45\",\"629.35\",\"2117.25\",\"4730.9\",\"2033.05\",\"5744.35\",\"19.45\",\"4805.3\",\"6110.75\",\"1596.6\",\"1046.2\",\"92.75\",\"194.55\",\"612.1\",\"6671.7\",\"5264.3\",\"303.7\",\"4818.8\",\"7159.05\",\"1574.5\",\"2879.2\",\"86.05\",\"4159.45\",\"6638.35\",\"3112.05\",\"7168.25\",\"1326.25\",\"2234.55\",\"495.15\",\"8317.95\",\"679.8\",\"62.8\",\"7544\",\"1188.25\",\"74.1\",\"3242.5\",\"1240.15\",\"4111.35\",\"5899.85\",\"5193.2\",\"7530.8\",\"5460.2\",\"1614.2\",\"402.5\",\"1367.75\",\"7962.2\",\"3810.8\",\"3533.6\",\"1396.9\",\"1646.45\",\"2680.15\",\"2049.05\",\"3629.2\",\"202.3\",\"147.5\",\"86.35\",\"579\",\"3131.55\",\"3928.3\",\"187.75\",\"1710.15\",\"2151.6\",\"1221.55\",\"1496.45\",\"1292.2\",\"25.15\",\"1713.1\",\"1748.9\",\"1114.55\",\"609.1\",\" \",\"141.6\",\"4688.65\",\"563.05\",\"5985\",\"373.5\",\"2553.35\",\"4322.85\",\"250.8\",\"4549.05\",\"1359.5\",\"178.85\",\"633.85\",\"5315.1\",\"735.5\",\"6474.4\",\"4421.95\",\"4904.85\",\"4484.05\",\"2033.85\",\"538.2\",\"2192.9\",\"19.85\",\"3858.05\",\"854.8\",\"5815.15\",\"3970.4\",\"3058.15\",\"6145.2\",\"129.2\",\"1165.9\",\"4904.25\",\"5632.55\",\"1643.25\",\"740.55\",\"4888.2\",\"2440.25\",\"620.55\",\"20.35\",\"6840.95\",\"319.6\",\"1938.05\",\"294.5\",\"58.3\",\"546.45\",\"797.1\",\"1673.8\",\"343.45\",\"7412.25\",\"4039\",\"2948.6\",\"6078.75\",\"3418.2\",\"6603.8\",\"3166.9\",\"865.75\",\"6373.1\",\"1177.05\",\"5985.75\",\"7869.05\",\"936.7\",\"741.4\",\"6585.2\",\"3122.4\",\"1088.25\",\"615.35\",\"2908.2\",\"739.9\",\"593.85\",\"7227.45\",\"1291.35\",\"2023.55\",\"153.95\",\"5458.8\",\"5244.45\",\"154.55\",\"4507.15\",\"2031.95\",\"50.05\",\"473.9\",\"106.8\",\"152.6\",\"1199.4\",\"2555.05\",\"2979.2\",\"654.85\",\"3834.4\",\"4586.15\",\"5941.05\",\"2234.95\",\"666.75\",\"547.8\",\"74.6\",\"571.15\",\"1756.6\",\"5731.45\",\"156.85\",\"2683.2\",\"4456.65\",\"6998.95\",\"36.8\",\"2265\",\"1309.15\",\"4754.3\",\"1235.55\",\"3562.5\",\"7213.75\",\"5914.4\",\"51.25\",\"1282.85\",\"4738.85\",\"19.55\",\"795.65\",\"4993.4\",\"61.45\",\"4018.55\",\"6081.4\",\"1478.85\",\"243.65\",\"2633.95\",\"4735.35\",\"1247.75\",\"3794.5\",\"1008.7\",\"2130.55\",\"5727.15\",\"1372.9\",\"1203.9\",\"1215.1\",\"2877.05\",\"1579.7\",\"5514.95\",\"96.1\",\"55.25\",\"2443.3\",\"335.4\",\"7002.95\",\"158.95\",\"293.15\",\"1493.75\",\"1093.4\",\"1057.85\",\"882.55\",\"300.4\",\"1436.95\",\"475\",\"5388.15\",\"5730.15\",\"217.1\",\"4896.35\",\"1434.1\",\"937.1\",\"1474.9\",\"6536.5\",\"1128.1\",\"2199.05\",\"457.1\",\"566.5\",\"2471.6\",\"3107.3\",\"518.3\",\"832.3\",\"45.3\",\"1790.6\",\"246.6\",\"261.65\",\"4509.5\",\"5480.25\",\"653.15\",\"1183.05\",\"639.45\",\"478.75\",\"20.05\",\"4391.45\",\"270.6\",\"3975.9\",\"1497.05\",\"780.15\",\"3512.15\",\"273.25\",\"3517.9\",\"3375.9\",\"7508.55\",\"1245.05\",\"5347.95\",\"493.65\",\"1263.85\",\"385.55\",\"84.2\",\"1638.7\",\"120.25\",\"4473.45\",\"520.55\",\"5717.85\",\"4312.5\",\"6511.25\",\"1218.65\",\"7447.7\",\"279.5\",\"5720.35\",\"3121.45\",\"6468.6\",\"675.6\",\"3521.7\",\"923.1\",\"1110.35\",\"1611.65\",\"5553.25\",\"44.75\",\"3231.05\",\"5129.45\",\"1191.2\",\"866.4\",\"2627.2\",\"4741.45\",\"4009.2\",\"43.8\",\"3707.6\",\"220.45\",\"1133.7\",\"1983.15\",\"5746.75\",\"134.05\",\"6230.1\",\"573.05\",\"3419.3\",\"3801.3\",\"4859.1\",\"1439.35\",\"592.75\",\"1185.95\",\"18.8\",\"4921.2\",\"901.25\",\"4859.95\",\"1139.2\",\"7082.45\",\"663.55\",\"174.65\",\"321.7\",\"5125.5\",\"548.9\",\"7031.3\",\"5016.65\",\"611.45\",\"319.85\",\"153.3\",\"7035.6\",\"344.2\",\"1431.65\",\"1849.2\",\"6083.1\",\"426.65\",\"1655.35\",\"1943.9\",\"314.95\",\"804.85\",\"465.7\",\"6669.05\",\"1161.75\",\"947.75\",\"8375.05\",\"3770\",\"4707.85\",\"6152.4\",\"958.1\",\"943\",\"425.1\",\"5044.8\",\"6743.55\",\"196.4\",\"2093.9\",\"417.75\",\"1725.4\",\"1620.2\",\"3169.55\",\"5233.25\",\"967.85\",\"438.05\",\"1421.9\",\"323.15\",\"318.6\",\"163.7\",\"2928.5\",\"100.35\",\"273.2\",\"1608.15\",\"1441.95\",\"2168.15\",\"3618.7\",\"5692.65\",\"5969.3\",\"19.05\",\"8100.55\",\"313.45\",\"6130.95\",\"745.3\",\"1212.1\",\"1583.5\",\"4162.05\",\"1119.9\",\"8013.55\",\"1102.4\",\"5832\",\"4304.5\",\"1421.75\",\"6827.5\",\"4698.05\",\"654.5\",\"3268.05\",\"4362.05\",\"1386.9\",\"415.4\",\"2614.1\",\"1513.6\",\"3161.6\",\"80.95\",\"4676.7\",\"6526.65\",\"583.3\",\"8078.1\",\"3503.5\",\"6669.45\",\"1292.65\",\"48.75\",\"7108.2\",\"1802.55\",\"1505.15\",\"1859.1\",\"168.5\",\"6339.45\",\"1652.4\",\"6392.85\",\"4599.15\",\"1134.25\",\"1621.35\",\"2722.2\",\"3058.3\",\"1769.6\",\"6293.75\",\"1642.75\",\"578.5\",\"954.9\",\"43.85\",\"1490.4\",\"280\",\"1901.25\",\"716.4\",\"4720\",\"930.95\",\"6770.85\",\"1835.3\",\"1588.25\",\"75.5\",\"258.35\",\"1502.25\",\"19.2\",\"6929.4\",\"4453.3\",\"3244.4\",\"323.45\",\"1401.15\",\"1739.6\",\"5931\",\"2333.85\",\"949.85\",\"572.45\",\"696.8\",\"1381.8\",\"47.95\",\"45\",\"4931.8\",\"116.95\",\"1261.7\",\"3273.8\",\"1415.85\",\"3958.2\",\"2492.25\",\"279.2\",\"1083\",\"755.5\",\"3252\",\"936.85\",\"3857.1\",\"1378.45\",\"2566.3\",\"171\",\"1597.4\",\"4744.35\",\"6721.6\",\"44.05\",\"1734.65\",\"45.55\",\"4539.35\",\"804.25\",\"5011.15\",\"3574.5\",\"8086.4\",\"4563\",\"6362.35\",\"67.1\",\"1156.55\",\"1834.15\",\"1477.65\",\"1706.45\",\"3953.7\",\"1327.85\",\"419.7\",\"207.35\",\"1083.7\",\"2007.85\",\"5882.75\",\"2657.55\",\"1612.2\",\"76.65\",\"260.7\",\"6441.85\",\"266.8\",\"962.25\",\"1382.9\",\"571.05\",\"1399.35\",\"150\",\"167.2\",\"7657.4\",\"865.05\",\"6153.85\",\"174.2\",\"1269.6\",\"6352.4\",\"1348.5\",\"471.55\",\"5931.75\",\"1404.65\",\"726.1\",\"1961.6\",\"4194.85\",\"81.05\",\"76.95\",\"5809.75\",\"20.2\",\"415.9\",\"996.95\",\"3145.15\",\"265.3\",\"20.9\",\"21.05\",\"4576.3\",\"189.1\",\"908.15\",\"49.8\",\"1500.95\",\"5099.15\",\"6385.95\",\"6885.75\",\"668.85\",\"1916.2\",\"4613.95\",\"7261.25\",\"2459.8\",\"2048.8\",\"163.55\",\"2888.7\",\"2421.6\",\"2292.75\",\"553.4\",\"3465.7\",\"1291.3\",\"5200.8\",\"3237.05\",\"433.75\",\"1868.4\",\"5728.55\",\"390.4\",\"2845.15\",\"3894.4\",\"886.4\",\"1021.55\",\"268.4\",\"2204.35\",\"6398.05\",\"1662.05\",\"3600.65\",\"1329.15\",\"422.5\",\"4627.65\",\"6717.9\",\"637.4\",\"117.95\",\"2460.55\",\"5731.85\",\"4616.1\",\"589.25\",\"750.1\",\"1410.25\",\"743.5\",\"3865.45\",\"6825.65\",\"1340.1\",\"1184\",\"8477.7\",\"7382.85\",\"456.85\",\"331.6\",\"134.6\",\"125.5\",\"2511.3\",\"2737.05\",\"74.3\",\"70.6\",\"6404\",\"165.35\",\"1867.6\",\"1043.3\",\"128.6\",\"7455.45\",\"24.7\",\"206.15\",\"5869.4\",\"3377.8\",\"1346.2\",\"4946.05\",\"4964.7\",\"4085.75\",\"6224.8\",\"3415.25\",\"6325.25\",\"1683.6\",\"3966.3\",\"608.5\",\"2896.6\",\"1514.85\",\"6792.45\",\"4669.2\",\"6302.8\",\"779.2\",\"283.75\",\"5594\",\"772.85\",\"857.8\",\"7554.05\",\"5981.65\",\"1702.9\",\"467.15\",\"1941.5\",\"1932.75\",\"1423.05\",\"970.85\",\"5810.9\",\"223.9\",\"391.7\",\"811.65\",\"174.75\",\"3126.85\",\"6841.45\",\"1406.65\",\"834.7\",\"3157\",\"3092\",\"2168.9\",\"980.35\",\"65.95\",\"711.9\",\"1952.8\",\"4368.85\",\"2647.1\",\"8477.6\",\"4528\",\"1790.65\",\"845.6\",\"1210.3\",\"20.45\",\"854.45\",\"2429.1\",\"5229.45\",\"44.45\",\"3023.55\",\"2032.3\",\"436.9\",\"20.15\",\"5893.95\",\"1430.05\",\"313\",\"3871.85\",\"458.1\",\"341.35\",\"1336.8\",\"2181.75\",\"147.75\",\"818.45\",\"7133.45\",\"348.8\",\"128.6\",\"4674.4\",\"1737.45\",\"1498.85\",\"50.1\",\"1797.75\",\"498.1\",\"5498.8\",\"4845.4\",\"369.1\",\"6096.9\",\"2684.35\",\"6994.8\",\"273.25\",\"5483.9\",\"4985.9\",\"1258.35\",\"111.4\",\"43.95\",\"308.1\",\"383.65\",\"1284.2\",\"7550.3\",\"1110.05\",\"99.6\",\"6707.15\",\"4164.4\",\"5873.75\",\"109.25\",\"862.4\",\"8564.75\",\"926.2\",\"1718.2\",\"5956.85\",\"4824.45\",\"1238.65\",\"672.2\",\"382.2\",\"4264.6\",\"1070.7\",\"1345.85\",\"1045.25\",\"3003.55\",\"7537.5\",\"3343.15\",\"161.15\",\"7028.5\",\"5232.9\",\"225.85\",\"274.7\",\"3370.2\",\"7111.3\",\"5958.85\",\"5999.85\",\"1648.45\",\"5753.25\",\"4492.9\",\"3956.7\",\"1309\",\"813.45\",\"1108.8\",\"7349.35\",\"294.2\",\"929.2\",\"754.5\",\"3883.3\",\"1414.2\",\"3211.2\",\"371.6\",\"1246.4\",\"95.85\",\"2545.7\",\"6448.85\",\"1468.9\",\"1013.6\",\"6690.75\",\"7240.65\",\"830.25\",\"1588.7\",\"829.3\",\"302.45\",\"712.25\",\"1336.65\",\"5360.75\",\"6735.05\",\"51.2\",\"1010\",\"4847.05\",\"3019.7\",\"161.65\",\"2583.75\",\"7711.25\",\"5481.25\",\"8124.2\",\"827.3\",\"3673.6\",\"49.85\",\"576.65\",\"4495.65\",\"340.35\",\"1789.9\",\"908.55\",\"157.55\",\"581.7\",\"420.45\",\"7576.7\",\"4965\",\"6151.9\",\"45.2\",\"5420.65\",\"2627.35\",\"743.75\",\"6589.6\",\"6733.15\",\"3410\",\"199.85\",\"593.3\",\"7288.4\",\"5229.8\",\"4464.8\",\"5068.05\",\"401.85\",\"4451.85\",\"6688.95\",\"2661.1\",\"73.05\",\"1211.65\",\"7030.65\",\"1020.2\",\"5597.65\",\"6223.3\",\"1024.65\",\"82.9\",\"7789.6\",\"2067\",\"3452.55\",\"5468.95\",\"1802.15\",\"733.55\",\"3021.45\",\"3687.85\",\"1391.15\",\"274.35\",\"1322.85\",\"2196.3\",\"7843.55\",\"3211.9\",\"130.15\",\"692.35\",\"85.5\",\"6849.4\",\"203.95\",\"2117.2\",\"6565.85\",\"424.75\",\"3306.85\",\"168.9\",\"253.8\",\"197.4\",\"3838.2\",\"2065.15\",\"5064.45\",\"1140.05\",\"2447.45\",\"1263.9\",\"1838.15\",\"44.75\",\"1185\",\"1743.9\",\"8529.5\",\"6549.45\",\"7806.5\",\"25.7\",\"6287.3\",\"3251.85\",\"50.6\",\"7904.25\",\"729.95\",\"2654.05\",\"5969.95\",\"226.8\",\"1082.75\",\"565.75\",\"4370.75\",\"90.05\",\"2169.4\",\"550.6\",\"55.45\",\"6300.85\",\"160.05\",\"436.6\",\"1781.35\",\"5552.5\",\"2835.5\",\"3591.25\",\"63.75\",\"617.15\",\"870.25\",\"601.25\",\"111.65\",\"6046.1\",\"3923.8\",\"892.15\",\"1682.05\",\"3398.9\",\"4984.85\",\"305.55\",\"507.9\",\"2673.45\",\"389.8\",\"2401.05\",\"651.55\",\"156.1\",\"2796.35\",\"70.05\",\"407.05\",\"511.25\",\"646.05\",\"4903.15\",\"1653.85\",\"1306.3\",\"463.6\",\"60.65\",\"824.85\",\"2094.65\",\"438.9\",\"329.75\",\"674.55\",\"162.55\",\"7887.25\",\"1972.35\",\"490.55\",\"683.25\",\"8058.85\",\"294.45\",\"1719.15\",\"1160.45\",\"5199.8\",\"5163.3\",\"162.3\",\"883.35\",\"1341.5\",\"70.45\",\"659.45\",\"1205.05\",\"4917.9\",\"599.3\",\"1733.15\",\"4677.1\",\"119.3\",\"4849.1\",\"5424.25\",\"5878.9\",\"244.85\",\"220.75\",\"4261.2\",\"1501.75\",\"89.75\",\"255.5\",\"2509.25\",\"1440.75\",\"5333.35\",\"3895.35\",\"869.9\",\"512.25\",\"814.75\",\"388.6\",\"93.45\",\"1389.85\",\"2894.55\",\"4025.6\",\"1354.4\",\"1856.4\",\"926\",\"682.1\",\"1778.7\",\"1816.2\",\"7069.25\",\"1841.2\",\"2656.7\",\"1689.45\",\"1054.75\",\"7334.05\",\"2404.85\",\"171.45\",\"2839.45\",\"3942.45\",\"873.4\",\"1529.65\",\"6991.6\",\"715\",\"1681.6\",\"4016.2\",\"3281.65\",\"7317.1\",\"6474.45\",\"8164.1\",\"1325.85\",\"1654.85\",\"7795.95\",\"3952.45\",\"2495.15\",\"876.75\",\"4263.45\",\"1992.95\",\"1982.1\",\"562.7\",\"33.7\",\"1090.1\",\"227.45\",\"1250.85\",\"37.2\",\"892.7\",\"487.75\",\"3713.95\",\"141.7\",\"678.2\",\"8425.3\",\"7061.65\",\"3364.55\",\"332.5\",\"5963.95\",\"278.85\",\"1871.85\",\"4303.65\",\"1753\",\"617.65\",\"5935.1\",\"982.95\",\"2974.5\",\"198.7\",\"1275.65\",\"4003\",\"3791.6\",\"813.3\",\"780.25\",\"552.9\",\"408.25\",\"2191.15\",\"5611.7\",\"246.25\",\"1296.15\",\"7082.85\",\"5662.25\",\"1215.45\",\"7854.15\",\"525\",\"5265.2\",\"70.1\",\"7129.45\",\"7266.95\",\"8496.7\",\"2878.75\",\"261.3\",\"3205.6\",\"1137.05\",\"6697.2\",\"505.45\",\"1299.8\",\"5564.85\",\"1381.8\",\"188.1\",\"1077.05\",\"4922.4\",\"2911.5\",\"826.1\",\"83.4\",\"5377.8\",\"3617.1\",\"6643.5\",\"1559.3\",\"7987.6\",\"1547.35\",\"2142.8\",\"287.85\",\"19.8\",\"4534.45\",\"40.9\",\"2094.9\",\"1584.8\",\"1302.65\",\"55.55\",\"5437.75\",\"2209.15\",\"1912.15\",\"255.55\",\"5175.3\",\"670.65\",\"3177.25\",\"6557.75\",\"5791.85\",\"3055.5\",\"5196.1\",\"8405\",\"5000.05\",\"6713.2\",\"562.6\",\"91.45\",\"828.85\",\"617.35\",\"625.05\",\"6029.9\",\"1842.7\",\"7386.05\",\"7334.05\",\"2626.15\",\"8277.05\",\"369.25\",\"1049.05\",\"1414.8\",\"169.75\",\"4354.45\",\"2719.2\",\"6365.35\",\"51.6\",\"3190.25\",\"812.5\",\"1143.8\",\"44\",\"3297\",\"1887\",\"2215.4\",\"482.8\",\"216.45\",\"20.45\",\"5064.85\",\"996.45\",\"839.65\",\"6733\",\"2618.3\",\"4084.35\",\"613.95\",\"402.85\",\"1244.8\",\"46.4\",\"581.85\",\"1540.2\",\"5168.1\",\"6780.1\",\"94.5\",\"55.3\",\"208\",\"3829.75\",\"5294.6\",\"6889.8\",\"3254.35\",\"6383.9\",\"4447.55\",\"7321.05\",\"4135\",\"697.7\",\"168.65\",\"2753.8\",\"69.25\",\"434.8\",\"107.25\",\"851.2\",\"5848.6\",\"109.8\",\"19.65\",\"595.5\",\"2513.5\",\"5135.35\",\"2000.2\",\"931.75\",\"7396.15\",\"3958.85\",\"260.9\",\"816.8\",\"4868.4\",\"688\",\"288.35\",\"185.4\",\"966.25\",\"265.8\",\"3297\",\"4107.3\",\"2809.05\",\"1567.55\",\"1851.45\",\"6028.95\",\"2072.75\",\"4317.35\",\"736.8\",\"336.15\",\"1522.65\",\"4959.6\",\"1001.5\",\"442.6\",\"6703.5\",\"779.25\",\"3483.45\",\"4890.5\",\"136.75\",\"184.15\",\"1315\",\"6767.1\",\"757.95\",\"1657.4\",\"3008.55\",\"8165.1\",\"875.55\",\"220.65\",\"1301.9\",\"790\",\"1237.65\",\"378.6\",\"592.65\",\"50.15\",\"20.45\",\"3638.25\",\"2921.75\",\"4017.45\",\"854.9\",\"4174.35\",\"4920.55\",\"810.3\",\"772.4\",\"1936.85\",\"79.8\",\"202.25\",\"1070.5\",\"999.9\",\"113.1\",\"2015.8\",\"1454.25\",\"246.7\",\"6017.9\",\"5817.45\",\"5595.3\",\"4765\",\"1201.65\",\"867.3\",\"50.15\",\"3007.25\",\"252.75\",\"6306.5\",\"6841.05\",\"44.6\",\"226.2\",\"7082.5\",\"1017.35\",\"527.35\",\"2146.5\",\"5969.85\",\"1014.25\",\"1225.65\",\"386.5\",\"1850.65\",\"1043.4\",\"1910.75\",\"716.1\",\"1686.15\",\"6716.45\",\"7839.85\",\"6236.75\",\"2919.85\",\"20.45\",\"717.5\",\"253.8\",\"1110.05\",\"348.8\",\"3888.65\",\"6843.15\",\"450.9\",\"432.25\",\"1742.45\",\"297.35\",\"2444.25\",\"949.8\",\"2970.8\",\"3334.95\",\"2010.95\",\"4684.3\",\"2181.55\",\"1303.25\",\"371.4\",\"2409.9\",\"6155.4\",\"4667\",\"5153.5\",\"8182.85\",\"69.9\",\"6683.4\",\"1564.05\",\"755.6\",\"3465.05\",\"6292.7\",\"1664.3\",\"198.1\",\"6045.9\",\"4108.15\",\"5980.75\",\"5043.2\",\"7114.25\",\"907.05\",\"973.95\",\"605.75\",\"661.55\",\"4116.9\",\"4494.65\",\"3282.75\",\"55.7\",\"1274.45\",\"493.95\",\"5038.15\",\"324.2\",\"19.55\",\"2793.55\",\"648.65\",\"917.15\",\"1346.9\",\"672.7\",\"6561.25\",\"268.45\",\"7337.55\",\"5194.05\",\"4478.85\",\"196.9\",\"439.2\",\"19.5\",\"2107.15\",\"3035.8\",\"1866.45\",\"1430.95\",\"1071.6\",\"6457.15\",\"684.05\",\"3914.05\",\"3842.6\",\"670.35\",\"7880.25\",\"19.2\",\"3371.75\",\"442.45\",\"20.4\",\"2345.55\",\"25.25\",\"1156.35\",\"144.8\",\"414.95\",\"181.8\",\"2212.55\",\"459.95\",\"211.95\",\"25\",\"3162.65\",\"210.65\",\"3566.7\",\"2080.1\",\"4040.2\",\"5186\",\"1087.45\",\"1672.15\",\"1113.95\",\"107.05\",\"38.15\",\"6339.3\",\"184.1\",\"1688.9\",\"137.6\",\"369.05\",\"7553.6\",\"1813.1\",\"3321.35\",\"707.5\",\"7112.15\",\"4641.1\",\"49.9\",\"3094.65\",\"6518.35\",\"82.7\",\"6342.7\",\"2030.75\",\"6700.05\",\"7244.7\",\"3486.65\",\"411.15\",\"1559.15\",\"970.4\",\"828.2\",\"3810.55\",\"1493.2\",\"45.8\",\"777.3\",\"4911.05\",\"187.35\",\"307.6\",\"4318.35\",\"4820.55\",\"3038.55\",\"2136.9\",\"7472.15\",\"2296.25\",\"38.45\",\"3043.6\",\"1506.4\",\"163.7\",\"1640\",\"3846.35\",\"5646.6\",\"79.05\",\"1516.6\",\"2224.5\",\"888.75\",\"4310.35\",\"42.9\",\"353.65\",\"5073.1\",\"4526.85\",\"678.45\",\"1237.3\",\"1023.95\",\"8182.75\",\"4532.3\",\"1444.05\",\"19.1\",\"7325.1\",\"3474.2\",\"392.65\",\"3990.75\",\"7475.85\",\"835.5\",\"1718.35\",\"1193.55\",\"1205.5\",\"5776.45\",\"78.9\",\"1025.15\",\"122\",\"6602.9\",\"1712.9\",\"5682.25\",\"74.3\",\"3635.15\",\"702.9\",\"4454.25\",\"1117.55\",\"930.05\",\"110.15\",\"1669.4\",\"3545.1\",\"504.05\",\"440.2\",\"1151.55\",\"2475.35\",\"1249.25\",\"317.75\",\"535.05\",\"461.3\",\"335.75\",\"3121.4\",\"324.8\",\"1394.55\",\"3413.25\",\"3143.65\",\"439.75\",\"664.4\",\"4759.55\",\"1033\",\"3482.85\",\"2688.45\",\"435.25\",\"307\",\"2689.35\",\"1281.25\",\"3527\",\"561.15\",\"63.6\",\"5129.3\",\"4285.8\",\"5894.5\",\"1160.75\",\"3091.75\",\"272.95\",\"3632\",\"381.2\",\"1035.5\",\"52\",\"653.9\",\"71.2\",\"4178.65\",\"1821.8\",\"4024.2\",\"55.25\",\"6520.8\",\"854.9\",\"8308.9\",\"109.2\",\"92.05\",\"3420.5\",\"4068\",\"337.9\",\"3168.75\",\"1412.4\",\"3974.7\",\"3439\",\"42.45\",\"5461.45\",\"571.75\",\"5498.2\",\"96.85\",\"111.05\",\"94.4\",\"923.85\",\"141.1\",\"628.65\",\"5576.3\",\"1245.6\",\"1287.85\",\"1939.35\",\"118.25\",\"452.55\",\"2696.55\",\"875.35\",\"1267.05\",\"494.9\",\"799\",\"106.9\",\"710.05\",\"568.2\",\"8012.75\",\"551.3\",\"184.95\",\"1096.65\",\"3684.95\",\"1752.45\",\"7210.85\",\"5264.5\",\"2157.3\",\"24.4\",\"433.95\",\"5607.75\",\"4433.3\",\"964.35\",\"1460.85\",\"951.55\",\"1821.2\",\"1600.95\",\"399.25\",\"3634.8\",\"292.4\",\"218.55\",\"5071.9\",\"1423.35\",\"3068.6\",\"4690.65\",\"6157.6\",\"1442.65\",\"3369.05\",\"4671.65\",\"272.35\",\"3645.05\",\"135.75\",\"1319.85\",\"229.4\",\"370.25\",\"5714.2\",\"1233.25\",\"3571.6\",\"83.3\",\"8035.95\",\"579.4\",\"7634.25\",\"3653\",\"241.3\",\"3870.3\",\"387.9\",\"527.5\",\"2104.55\",\"20.3\",\"19.2\",\"3019.1\",\"7051.95\",\"1190.5\",\"4448.8\",\"1011.05\",\"1714.95\",\"535.35\",\"75.55\",\"6273.4\",\"70.25\",\"908.75\",\" \",\"212.3\",\"316.2\",\"1079.05\",\"564.65\",\"6161.9\",\"2106.05\",\"2511.55\",\"318.6\",\"7323.15\",\"186.05\",\"454\",\"7521.95\",\"999.8\",\"2369.7\",\"6297.65\",\"1461.45\",\"416.4\",\"4869.35\",\"3265.95\",\"358.15\",\"2939.8\",\"4652.4\",\"4408.45\",\"580.8\",\"2495.2\",\"5913.95\",\"1389.35\",\"19.4\",\"1629.2\",\"6033.1\",\"44.4\",\"3320.75\",\"1867.7\",\"3972.25\",\"155.9\",\"3673.15\",\"70.6\",\"1126.75\",\"73.45\",\"2413.05\",\"6912.7\",\"1581.95\",\"5586.45\",\"5846.65\",\"6424.7\",\"6018.65\",\"3373.4\",\"1537.9\",\"1080.55\",\"82.85\",\"2016.45\",\"5327.25\",\"683.25\",\"1263.05\",\"7714.65\",\"130.5\",\"2621.75\",\"1875.25\",\"837.5\",\"401.5\",\"6118.95\",\"6480.9\",\"1800.05\",\"7104.2\",\"4214.25\",\"1992.2\",\"1948.35\",\"1007.9\",\"5036.9\",\"6859.05\",\"6521.9\",\"617.85\",\"157.75\",\"516.3\",\"2364\",\"6239.05\",\"2042.05\",\"2807.1\",\"4116.8\",\"1317.95\",\"4594.65\",\"6332.75\",\"3213.75\",\"4976.15\",\"7308.95\",\"4555.2\",\"44.95\",\"6982.5\",\"1025.15\",\"5714.2\",\"19.5\",\"789.55\",\"4834\",\"3131.8\",\"3369.25\",\"2674.15\",\"199.75\",\"1790.8\",\"19.7\",\"1400.3\",\"411.6\",\"741\",\"5841.35\",\"5688.45\",\"31.9\",\"6674.65\",\"1345.75\",\"1843.05\",\"1433.8\",\"214.55\",\"865.85\",\"1358.6\",\"3147.15\",\"4535.85\",\"1078.75\",\"542.4\",\"2312.55\",\"3250.45\",\"98.5\",\"87.9\",\"1952.25\",\"153.8\",\"5610.15\",\"4519.5\",\"2440.25\",\"6860.6\",\"1377.7\",\"190.25\",\"1651.95\",\"78.3\",\"7939.25\",\"44.9\",\"576.7\",\"1279\",\"1260.7\",\"267.35\",\"6586.85\",\"934.15\",\"19.45\",\"3645.6\",\"314.45\",\"3053\",\"677.05\",\"7965.95\",\"140.1\",\"1108\",\"295.55\",\"198.25\",\"6741.15\",\"79.15\",\"1355.45\",\"7209\",\"7726.35\",\"2070.75\",\"1636.95\",\"7581.5\",\"4729.75\",\"6126.1\",\"6333.4\",\"6687.85\",\"4158.25\",\"7149.35\",\"1429.65\",\"472.65\",\"113.5\",\"1884.65\",\"2568.15\",\"470\",\"278.4\",\"2595.85\",\"5825.5\",\"4449.75\",\"1956.4\",\"310.6\",\"290.55\",\"2096.1\",\"2665\",\"543.8\",\"20.35\",\"3005.8\",\"1623.15\",\"2586\",\"3292.3\",\"4674.55\",\"232.35\",\"2448.5\",\"658.1\",\"3128.8\",\"653.95\",\"1825.5\",\"943.1\",\"359.4\",\"2338.35\",\"46.3\",\"3541.1\",\"1087.25\",\"2522.4\",\"717.3\",\"1734.2\",\"7069.3\",\"742.9\",\"6423\",\"4220.35\",\"1558.7\",\"2743.45\",\"4055.5\",\"6055.55\",\"2538.2\",\"6129.2\",\"1750.85\",\"6652.45\",\"2575.45\",\"6019.35\",\"1379.6\",\"1284.2\",\"296.15\",\"653.25\",\"412.6\",\"1928.7\",\"71.25\",\"7845.8\",\"1750.7\",\"216.2\",\"6029\",\"3721.9\",\"3121.1\",\"990.45\",\"1004.35\",\"157.65\",\"3219.75\",\"572.85\",\"4554.85\",\"1847.55\",\"1766.75\",\"1462.05\",\"2193.2\",\"2433.5\",\"641.15\",\"2398.4\",\"861.85\",\"583\",\"7332.4\",\"249.55\",\"4475.9\",\"788.6\",\"202.3\",\"6994.6\",\"2263.45\",\"1374.35\",\"4915.15\",\"838.5\",\"20.5\",\"2044.75\",\"30.55\",\"1398.25\",\"3778.2\",\"3161.4\",\"2188.45\",\"3990.6\",\"2635\",\"235\",\"2347.85\",\"3089.6\",\"2901.8\",\"4949.1\",\"2198.9\",\"761.95\",\"190.25\",\"5163\",\"4059.85\",\"2281.6\",\"1356.7\",\"231.45\",\"50.75\",\"242.4\",\"4264.25\",\"2774.55\",\"4069.9\",\"874.2\",\"1323.7\",\"5497.05\",\"534.7\",\"2455.05\",\"947.4\",\"357\",\"1476.25\",\"5903.15\",\"1201.65\",\"146.65\",\"1759.4\",\"844.45\",\"7774.05\",\"134.05\",\"140.95\",\"1701.65\",\"592.65\",\"135.75\",\"7732.65\",\"4282.4\",\"2018.1\",\"224.85\",\"3771.5\",\"943.85\",\"6572.85\",\"3175.85\",\"29.15\",\"20.05\",\"2762.75\",\"49.55\",\"232.5\",\"5919.35\",\"749.25\",\"245.15\",\"134.75\",\"8240.85\",\"4266.4\",\"1077.5\",\"1115.6\",\"4079.55\",\"2391.15\",\"890.5\",\"137.25\",\"3119.9\",\"529.5\",\"966.55\",\"6936.85\",\"1929\",\"5817.7\",\"178.8\",\"435\",\"186.15\",\"445.85\",\"912\",\"3581.6\",\"4222.95\",\"5930.05\",\"20\",\"797.25\",\"1359.45\",\"54.7\",\"989.05\",\"44.55\",\"87.3\",\"351.55\",\"7297.75\",\"6301.7\",\"3822.45\",\"1048.45\",\"6393.65\",\"1489.3\",\"8061.5\",\"518.75\",\"5763.15\",\"238.5\",\"1031.7\",\" \",\"34.8\",\"1319.95\",\"3950.85\",\"827.05\",\"533.5\",\"3756.45\",\"2599.95\",\"284.3\",\"1740.8\",\"2462.55\",\"411.75\",\"198.6\",\"103.7\",\"4089.45\",\"864.2\",\"19.65\",\"3249.4\",\"5405.8\",\"3363.8\",\"7132.15\",\"93.55\",\"4138.9\",\"5121.75\",\"566.1\",\"2715.3\",\"1782.05\",\"1742.5\",\"24\",\"485.9\",\"1905.7\",\"4858.7\",\"3723.65\",\"970.45\",\"1782\",\"405.7\",\"2415.95\",\"8297.5\",\"2083.1\",\"4681.75\",\"176.2\",\"1001.2\",\"1594.75\",\"212.4\",\"7677.4\",\"259.65\",\"2386.85\",\"340.35\",\"419.35\",\"7990.05\",\"1402.25\",\"749.35\",\"8425.15\",\"1171.5\",\"5647.95\",\"708.8\",\"7567.2\",\"29.9\",\"4348.1\",\"635.9\",\"1682.4\",\"6925.9\",\"223.15\",\"6758.45\",\"1874.3\",\"791.15\",\"4639.45\",\"143.9\",\"6172\",\"1559.45\",\"6079\",\"2658.4\",\"383.55\",\"1745.5\",\"2230.85\",\"7281.6\",\"1837.7\",\"180.7\",\"411.45\",\"1328.35\",\"576.95\",\"68.45\",\"123.05\",\"468.35\",\"174.7\",\"44\",\"172.35\",\"300.4\",\"4968\",\"992.7\",\"5536.5\",\"7806.6\",\"1563.9\",\"1332.4\",\"6296.75\",\"3645.5\",\"161.45\",\"226.95\",\"1441.65\",\"7511.3\",\"5621.85\",\"7919.8\",\"593.2\",\"1423.65\",\"69.95\",\"2763.35\",\"2298.55\",\"2640.55\",\"2911.8\",\"6705.7\",\"237.65\",\"1672.35\",\"695.75\",\"1654.6\",\"1857.85\",\"825.1\",\"6424.25\",\"4126.2\",\"330.8\",\"1337.45\",\"5991.05\",\"4891.5\",\"487.05\",\"4131.2\",\"2301.15\",\"4036\",\"4900.65\",\"5727.45\",\"743.05\",\"4804.65\",\"1414.65\",\"1443.65\",\"2898.95\",\"5309.5\",\"20.4\",\"451.55\",\"117.05\",\"5839.3\",\"1893.5\",\"45.35\",\"1654.45\",\"477.05\",\"4546\",\"163.2\",\"849.9\",\"189.95\",\"8058.55\",\"7049.75\",\"2560.1\",\"286.8\",\"7982.5\",\"5683.6\",\"3994.05\",\"369.15\",\"4631.7\",\"401.95\",\"1534.05\",\"1093\",\"701.3\",\"1980.3\",\"2893.4\",\"262.3\",\"3886.85\",\"5917.55\",\"2139.1\",\"5948.7\",\"3624.35\",\"4753.85\",\"5780.7\",\"6869.7\",\"662.95\",\"1765.95\",\"2431.95\",\"1859.2\",\"3409.1\",\"709.5\",\"50.15\",\"3665.55\",\"5515.8\",\"272\",\"6668\",\"4052.4\",\"664.4\",\"718.55\",\"2546.85\",\"6944.5\",\"1346.3\",\"765.15\",\"692.55\",\"1187.05\",\"5401.9\",\"247\",\"49.9\",\"1370.35\",\"20.25\",\"2215.25\",\"74\",\"214.4\",\"1871.15\",\"6171.2\",\"161.45\",\"1013.2\",\"336.7\",\"333.65\",\"6511.8\",\"393.45\",\"7009.5\",\"6921.7\",\"600.25\",\"4664.15\",\"1441.8\",\"5623.7\",\"695.85\",\"1028.75\",\"4155.95\",\"395.6\",\"6330.4\",\"2971.7\",\"638\",\"2034.25\",\"3419.5\",\"2427.35\",\"1760.25\",\"3551.65\",\"122.9\",\"1424.2\",\"2909.95\",\"374\",\"5581.05\",\"5676.65\",\"3379.25\",\"942.95\",\"232.4\",\"2088.45\",\"1434.6\",\"3870\",\"2215\",\"842.25\",\"1901\",\"601.6\",\"605.45\",\"3094.05\",\"4929.55\",\"595.05\",\"8436.25\",\"19.75\",\"492\",\"987.95\",\"5496.9\",\"1908.35\",\"107.1\",\"4575.35\",\"4309.55\",\"7922.75\",\"522.35\",\"587.7\",\"3876.2\",\"3778.85\",\"8349.45\",\"19.5\",\"1066.9\",\"1226.45\",\"342.3\",\"985.05\",\"3948.45\",\"828.05\",\"6164.7\",\"33.6\",\"20.7\",\"6590.5\",\"717.95\",\"4885.85\",\"6871.7\",\"405.6\",\"208.25\",\"1801.9\",\"3062.45\",\"1764.75\",\"1816.75\",\"1255.1\",\"3921.1\",\"1463.45\",\"189.45\",\"96.8\",\"408.5\",\"1846.65\",\"8456.75\",\"1011.5\",\"4263.4\",\"2549.1\",\"3965.05\",\"7840.6\",\"6632.75\",\"1013.35\",\"152.95\",\"3772.65\",\"1026.35\",\"19.3\",\"5031.85\",\"220.4\",\"1416.5\",\"158.35\",\"5542.55\",\"8443.7\",\"5708.2\",\"2016.3\",\"326.65\",\"5471.75\",\"19.95\",\"1061.6\",\"1971.5\",\"19.75\",\"2460.35\",\"856.5\",\"1275.85\",\"7467.5\",\"7261.75\",\"5116.6\",\"660.05\",\"6590.8\",\"1208.15\",\"1033.9\",\"1885.15\",\"2006.95\",\"5025\",\"3088.25\",\"3134.7\",\"8312.4\",\"4863.85\",\"6637.9\",\"3165.6\",\"6786.1\",\"543\",\"867.3\",\"25.75\",\"109.5\",\"4692.95\",\"546.85\",\"1274.05\",\"1782.4\",\"5301.1\",\"280.35\",\"2897.95\",\"3371\",\"801.3\",\"1079.45\",\"6997.3\",\"979.05\",\"4119.4\",\"3349.1\",\"492.1\",\"1718.95\",\"605.25\",\"1344.5\",\"4267.15\",\"1121.05\",\"918.7\",\"521.8\",\"4469.1\",\"1729.35\",\"1073.3\",\"4566.5\",\"2603.1\",\"1783.75\",\"6322.1\",\"57.4\",\"4284.65\",\"7138.65\",\"1539.75\",\"1058.1\",\"123.8\",\"2731\",\"20.75\",\"497.3\",\"711.15\",\"1898.1\",\"3273.95\",\"2929.75\",\"838.7\",\"1443.65\",\"7746.7\",\"6951.15\",\"214.75\",\"2669.45\",\"235.2\",\"3103.25\",\"5330.2\",\"1403.1\",\"2727.8\",\"5038.45\",\"1462.6\",\"150.6\",\"5960.5\",\"1192.3\",\"314.55\",\"56\",\"330.8\",\"877.35\",\"2249.1\",\"2807.65\",\"1696.2\",\"1032.05\",\"4902.8\",\"4995.35\",\"5034.05\",\"1857.75\",\"1992.85\",\"1714.95\",\"343.6\",\"20.15\",\"520.1\",\"1387.45\",\"7383.7\",\"4483.95\",\"1706.45\",\"1327.4\",\"5974.3\",\" \",\"179.85\",\"5040.2\",\"422.7\",\"20.25\",\"358.05\",\"2936.25\",\"1271.8\",\"530.05\",\"19.2\",\"1144.6\",\"7556.9\",\"4858.7\",\"6595\",\"149.05\",\"4972.1\",\"2045.55\",\"2187.15\",\"2976.95\",\"178.7\",\"5025.85\",\"3353.4\",\"1461.15\",\"2782.4\",\"1699.15\",\"452.2\",\"4428.45\",\"1322.55\",\"139.75\",\"1927.3\",\"3000.25\",\"3021.3\",\"2245.4\",\"944.65\",\"1264.2\",\"4917.75\",\"5743.3\",\"1864.65\",\"1221.65\",\"1390.85\",\"302.35\",\"1374.9\",\"1336.9\",\"1297.8\",\"6067.4\",\"1222.25\",\"487.95\",\"2548.55\",\"835.5\",\"44.75\",\"6218.45\",\"7320.9\",\"6333.8\",\"4200.25\",\"5950.2\",\"93.4\",\"1614.9\",\"1573.95\",\"1468.75\",\"2607.6\",\"1523.4\",\"3435.6\",\"4549.45\",\"322.5\",\"5375.15\",\"2510.7\",\"3090.05\",\"61.05\",\"955.6\",\"140.4\",\"1493.1\",\"1626.05\",\"1784.9\",\"70.35\",\"6075.9\",\"5500.6\",\"73.1\",\"3399.85\",\"6431.05\",\"19.75\",\"1230.9\",\"454.65\",\"235.05\",\"6595.9\",\"5867\",\"196.35\",\"6449.15\",\"762.45\",\"785.75\",\"1776\",\"5396.25\",\"574.5\",\"400.3\",\"2656.3\",\"1445.95\",\"5212.65\",\"2244.95\",\"1130\",\"6463.15\",\"6252.7\",\"2062.15\",\"587.1\",\"720.45\",\"2979.3\",\"956.65\",\"3973.2\",\"447.9\",\"1335.2\",\"7555\",\"49\",\"836.35\",\"20.95\",\"2570\",\"798.2\",\"44.15\",\"6487.2\",\"1556.85\",\"1988.05\",\"5432.2\",\"147.55\",\"8424.9\",\"2203.7\",\"387.4\",\"3045.75\",\"130.5\",\"767.9\",\"446.8\",\"8100.25\",\"4689.15\",\"6754.35\",\"3540.65\",\"2184.6\",\"130.55\",\"1540.35\",\"6411.25\",\"1432.55\",\"7629.85\",\"101.9\",\"313.4\",\"6312.9\",\"629.55\",\"2640.55\",\"1372.45\",\"1212.25\",\"6237.05\",\"6310.9\",\"5031\",\"8672.45\",\"2196.45\",\"3008.15\",\"220.8\",\"5779.6\",\"222.65\",\"914.6\",\"246.3\",\"5560\",\"1633\",\"969.85\",\"2610.65\",\"6567.9\",\"4747.85\",\"1759.55\",\"101.1\",\"6496.15\",\"4234.15\",\"300.7\",\"59.55\",\"4323.35\",\"1466.1\",\"1776.45\",\"2933.95\",\"144.35\",\"4804.75\",\"1125.2\",\"39.85\",\"422.4\",\"8332.15\",\"314.6\",\"4331.4\",\"6382\",\"600.15\",\"5538.8\",\"7049.5\",\"690.5\",\"279.3\",\"1427.55\",\"1709.15\",\"53.15\",\"777.35\",\"860.85\",\"5012.1\",\"2404.1\",\"24.4\",\"209.9\",\"610.75\",\"70.7\",\"155.35\",\"144\",\"7875\",\"911.6\",\"478.1\",\"761.85\",\"2282.95\",\"1615.1\",\"1097.15\",\"369.3\",\"6725.3\",\"6293.2\",\"432.5\",\"2434.45\",\"532.1\",\"375.25\",\"125.95\",\"1042.65\",\"1620.25\",\"659.35\",\"1285.8\",\"377.55\",\"6058.95\",\"964.9\",\"2322.85\",\"4854.3\",\"7748.75\",\"6470.1\",\"57.4\",\"2019.8\",\"1522.7\",\"1334.5\",\"252\",\"700.45\",\"5655.45\",\"6747.35\",\"5174.35\",\"105.6\",\"2271.85\",\"2966.95\",\"61.15\",\"494.95\",\"5290.45\",\"3346.8\",\"5219.65\",\"217.5\",\"607.7\",\"5431.4\",\"6004.85\",\"5957.9\",\"5442.05\",\"4370.25\",\"4428.6\",\"416.45\",\"6688.1\",\"4224.7\",\"4042.2\",\"3580.95\",\"1198.8\",\"1755.35\",\"3772.5\",\"2877.95\",\"357.7\",\"1397.3\",\"959.9\",\"3704.15\",\"4620.4\",\"8312.75\",\"929.3\",\"1285.05\",\"1521.2\",\"3389.25\",\"1198.05\",\"3414.65\",\"754\",\"467.15\",\"373\",\"481.1\",\"1728.2\",\"2964.05\",\"2156.25\",\"1051.9\",\"5013\",\"1738.9\",\"2275.1\",\"5511.65\",\"1316.9\",\"7993.3\",\"19.85\",\"1388.45\",\"666\",\"94.45\",\"4134.7\",\"4862.5\",\"351.5\",\"106.2\",\"1413\",\"1743.05\",\"657.5\",\"1050.5\",\"426.35\",\"4982.5\",\"19.55\",\"7634.8\",\"235.05\",\"3116.15\",\"2633.4\",\"49.65\",\"4920.8\",\"46.35\",\"5276.1\",\"8289.2\",\"2659.45\",\"196.75\",\"5824.75\",\"1517.5\",\"3479.05\",\"7365.7\",\"1331.05\",\"1195.95\",\"3946.9\",\"4299.95\",\"20.3\",\"4391.25\",\"4213.9\",\"19.9\",\"5017.7\",\"4916.4\",\"2959.8\",\"7559.55\",\"7133.1\",\"1799.3\",\"1597.05\",\"524.35\",\"4191.45\",\"711.95\",\"2201.75\",\"806.95\",\"1620.45\",\"6812.95\",\"1837.9\",\"7344.45\",\"1500.25\",\"2283.15\",\"1376.5\",\"755.4\",\"825.4\",\"488.65\",\"2075.1\",\"5299.65\",\"1356.3\",\"5042.75\",\"812.4\",\"6605.55\",\"505.95\",\"3509.4\",\"6991.9\",\"590.35\",\"2789.7\",\"1123.15\",\"7953.25\",\"349.8\",\"1067.05\",\"3527.3\",\"1248.9\",\"3035.35\",\"4300.8\",\"6065.3\",\"144.95\",\"2308.6\",\"1882.8\",\"3255.35\",\"1067.65\",\"2065.4\",\"4136.4\",\"3848\",\"8022.85\",\"173.15\",\"781.25\",\"4510.8\",\"5317.8\",\"4779.45\",\"250.1\",\"1745.2\",\"4140.1\",\"3670.5\",\"1167.8\",\"469.65\",\"1381.2\",\"3645.5\",\"1158.85\",\"6954.15\",\"1672.1\",\"4307.1\",\"6141.65\",\"1054.8\",\"5430.65\",\"849.9\",\"151.75\",\"299.4\",\"1086.75\",\"2692.75\",\"1389.6\",\"3767.4\",\"3641.5\",\"2535.55\",\"6880.85\",\"3753.2\",\"637.55\",\"5329.55\",\"44.55\",\"1539.8\",\"2209.75\",\"223.75\",\"7751.7\",\"1174.35\",\"4385.05\",\"2606.35\",\"18.9\",\"1261.35\",\"5969.3\",\"253.9\",\"400\",\"227.35\",\"2357.75\",\"198.5\",\"554.25\",\"251.65\",\"5597.65\",\"768.05\",\"1215.8\",\"3522.65\",\"910.45\",\"3656.25\",\"52\",\"150.85\",\"389.25\",\"1873.7\",\"1261\",\"7346.2\",\"3708.4\",\"469.65\",\"1385.85\",\"548.8\",\"2536.55\",\"6042.7\",\"958.25\",\"1730.65\",\"459.6\",\"201.95\",\"285.2\",\"1529.45\",\"4664.5\",\"3496.3\",\"7053.35\",\"301.55\",\"312.7\",\"2960.1\",\"6953.4\",\"541.5\",\"116.85\",\"7942.15\",\"5321.25\",\"4156.8\",\"223.6\",\"768.45\",\"3765.05\",\"2157.5\",\"1391.65\",\"1379.8\",\"1273.3\",\"810.45\",\"1810.85\",\"7782.85\",\"1797.1\",\"377.85\",\"445.3\",\"7624.2\",\"355.1\",\"906.85\",\"1057.55\",\"19.4\",\"1388.75\",\"1641.3\",\"185.2\",\"1826.7\",\"417.5\",\"344.5\",\"2180.55\",\"2835.9\",\"45.15\",\"2730.85\",\"5437.1\",\"5794.45\",\"747.2\",\"1267.95\",\"3674.95\",\"1275.6\",\"5893.9\",\"724.65\",\"1536.75\",\"607.3\",\"4154.55\",\"847.8\",\"2390.45\",\"1923.5\",\"1493.2\",\"75.35\",\"2184.85\",\"1031.4\",\"921.3\",\"3875.4\",\"144.15\",\"6689\",\"1451.1\",\"6368.2\",\"3729.6\",\"350.1\",\"2847.2\",\"452.35\",\"1494.5\",\"41.85\",\"1272.05\",\"475.1\",\"150.75\",\"3199\",\"5844.65\",\"2462.6\",\"6263.8\",\"3403.4\",\"1672.1\",\"7881.2\",\"2320.8\",\"370.5\",\"3043.7\",\"2723.4\",\"1081.25\",\"4097.05\",\"632.2\",\"8166.8\",\"4113.7\",\"3047.15\",\"4193.4\",\"3729.75\",\"399.45\",\"1964.6\",\"1336.15\",\"486.05\",\"5925.75\",\"4747.2\",\"1028.9\",\"4692.55\",\"19.75\",\"154.3\",\"6382.55\",\"7623.2\",\"1261.45\",\"89.25\",\"86.05\",\"6779.05\",\"4345\",\"82.85\",\"1714.55\",\"893.2\",\"810.85\",\"6347.55\",\"1123.65\",\"43.15\",\"35.1\",\"1388\",\"3851.45\",\"2638.1\",\"946.95\",\"1114.85\",\"1777.6\",\"684.85\",\"74.35\",\"1312.45\",\"159.2\",\"610.2\",\"404.35\",\"6363.45\",\"4124.65\",\"950.75\",\"19.65\",\"505.95\",\"1149.65\",\"169.65\",\"393.15\",\"1147\",\"5718.2\",\"4539.6\",\"6397.6\",\"280.4\",\"5711.05\",\"3478.15\",\"4133.95\",\"2917.65\",\"54.3\",\"2964.8\",\"2198.3\",\"1189.9\",\"1914.5\",\"5336.35\",\"7238.6\",\"7998.8\",\"5703.25\",\"7397\",\"164.6\",\"6555.2\",\"225.65\",\"955.75\",\"3382.3\",\"2313.8\",\"780.85\",\"7852.4\",\"2763\",\"1614.7\",\"270.15\",\" \",\"20.6\",\"1734.5\",\"7047.5\",\"573.15\",\"1538.6\",\"4459.8\",\"7459\",\"306.05\",\"639.7\",\"348.15\",\"5563.65\",\"40.25\",\"4228.55\",\"784.45\",\"3729.75\",\"1406.9\",\"1857.3\",\"7322.5\",\"6725.5\",\"3627.3\",\"1725.95\",\"4192.15\",\"1411.2\",\"264.55\",\"4671.7\",\"1173.55\",\"7713.55\",\"2471.25\",\"7842.3\",\"2227.8\",\"2351.45\",\"2989.6\",\"6077.75\",\"4070.95\",\"2479.05\",\"2134.3\",\"6000.1\",\"2203.1\",\"183.15\",\"6194.1\",\"638.95\",\"831.75\",\"1337.5\",\"7181.95\",\"2560.1\",\"5953\",\"1790.15\",\"2531.4\",\"4760.3\",\"953.65\",\"5705.05\",\"20.55\",\"6993.65\",\"4122.65\",\"5762.95\",\"1537.85\",\"2603.3\",\"5566.4\",\"5431.9\",\"2258.25\",\"1092.35\",\"6401.25\",\"616.9\",\"1912.85\",\"849.1\",\"3460.3\",\"90.1\",\"5555.3\",\"1278.8\",\"2907.35\",\"4952.95\",\"4504.9\",\"4520.15\",\"2316.85\",\"8075.35\",\"2302.35\",\"7251.9\",\"2078.55\",\"6225.4\",\"1242.25\",\"99.45\",\"599.25\",\"3462.1\",\"2375.2\",\"2813.05\",\"6314.35\",\"19.1\",\"1003.05\",\"1593.1\",\"2509.95\",\"3187.65\",\"3330.1\",\"5522.7\",\"4798.4\",\"8594.4\",\"970.55\",\"7665.8\",\"3686.05\",\"2537\",\"1393.6\",\"89.35\",\"4445.3\",\"978.6\",\"1258.15\",\"331.35\",\"84.75\",\"1715.1\",\"1715.15\",\"1250.1\",\"3996.8\",\"5215.1\",\"673.2\",\"1442.2\",\"5222.35\",\"7291.75\",\"424.5\",\"249.4\",\"4415.75\",\"5270.6\",\"2884.9\",\"253\",\"436.2\",\"118.4\",\"3649.6\",\"255.6\",\"2395.05\",\"5083.55\",\"644.5\",\"39.3\",\"989.05\",\"2406.1\",\"638.55\",\"191.1\",\"4524.05\",\"4664.2\",\"3470.8\",\"6910.3\",\"4014.2\",\"1288\",\"6375.8\",\"5251.75\",\"1505.45\",\"913.3\",\"5535.8\",\"815.55\",\"1411.65\",\"5602.25\",\"8244.3\",\"741.5\",\"4375.8\",\"5968.4\",\"3096.9\",\"3901.25\",\"2613.4\",\"5661.7\",\"695.05\",\"5552.05\",\"3275.15\",\"4236.6\",\"54.5\",\"962.9\",\"1498.35\",\"1233.15\",\"4882.8\",\"5411.65\",\"148.05\",\"3930.55\",\"6895.5\",\"6856.95\",\"2658.8\",\"3766.2\",\"129.55\",\"581.7\",\"929.45\",\"679\",\"3846.75\",\"4480.7\",\"499.4\",\"1553.2\",\"219.5\",\"5311.85\",\"2576.8\",\"6435.25\",\"1993.25\",\"1923.85\",\"939.8\",\"84.6\",\"5986.55\",\"5487\",\"651.5\",\"45.4\",\"6856.45\",\"50.75\",\"4735.2\",\"682.15\",\"4525.8\",\"321.05\",\"335.65\",\"1424.4\",\"1748.55\",\"1077.95\",\"3694.45\",\"382.8\",\"746.75\",\"368.85\",\"20.2\",\"1654.7\",\"1940.85\",\"1794.65\",\"5289.8\",\"501.2\",\"6140.85\",\"48.45\",\"309.25\",\"6179.35\",\"55.7\",\"4589.85\",\"3735.45\",\"477.55\",\"2553.7\",\"1342.15\",\"1216.35\",\"7578.05\",\"2603.95\",\"42.7\",\"6056.9\",\"2983.65\",\"689.35\",\"2025.1\",\"1747.2\",\"4657.95\",\"8016.6\",\"433.5\",\"5883.85\",\"1043.8\",\"1857.25\",\"146.4\",\"1724.15\",\"429.55\",\"356.15\",\"488.25\",\"1298.7\",\"1378.75\",\"384.25\",\"8543.25\",\"389.95\",\"5731.85\",\"20.65\",\"4275.75\",\"84.5\",\"1924.1\",\"5784.3\",\"5166.2\",\"4060.55\",\"3532.85\",\"4914.8\",\"5315.8\",\"775.6\",\"5445.95\",\"1007.8\",\"833.55\",\"1004.5\",\"1183.05\",\"501.35\",\"4126.35\",\"477.6\",\"265.75\",\"2424.45\",\"1849.95\",\"61.05\",\"1698.55\",\"998.1\",\"1383.6\",\"493.4\",\"1207\",\"563.5\",\"864.55\",\"701.05\",\"5749.8\",\"2796.45\",\"5165.7\",\"5696.6\",\"2076.05\",\"44.2\",\"215.25\",\"1859.5\",\"7470.1\",\"2092.9\",\"5629.55\",\"469.85\",\"733.95\",\"485.25\",\"78.25\",\"1131.5\",\"184.05\",\"1178.75\",\"5629.15\",\"109.3\",\"958.45\",\"403.15\",\"4392.5\",\"3168\",\"1096.6\",\"669.45\",\"2343.85\",\"48.6\",\"7511.9\",\"1725\",\"49.75\",\"1691.9\",\"2248.05\",\"4479.2\",\"3471.1\",\"63\",\"3314.15\",\"852.7\",\"1930.9\",\"91.4\",\"3949.15\",\"4304\",\"1554.9\",\"3472.05\",\"117.8\",\"3210.35\",\"207.4\",\"19.75\",\"3132.75\",\"2106.3\",\"35\",\"903.7\",\"3882.3\",\"879.8\",\"383.65\",\"4390.25\",\"68.2\",\"452.8\",\"5329\",\"1758.9\",\"5737.6\",\"1219.85\",\"2414.55\",\"1155.6\",\"1809.35\",\"1564.4\",\"19.65\",\"84.4\",\"864.85\",\"228.75\",\"7752.05\",\"470.6\",\"4060.9\",\"108.65\",\"3952.65\",\"494.05\",\"3416.85\",\"1498.65\",\"4807.35\",\"471.35\",\"1041.8\",\"7689.8\",\"1815\",\"1311.3\",\"199.45\",\"1637.3\",\"1326.35\",\"6376.55\",\"935.9\",\"20.05\",\"1611.15\",\"6989.7\",\"2779.5\",\"8331.95\",\"735.9\",\"2283.3\",\"1445.2\",\"2333.05\",\"1992.55\",\"5890\",\"1029.8\",\"1796.55\",\"33.7\",\"454.05\",\"1392.25\",\"1049.6\",\"734.6\",\"475.1\",\"1540.05\",\"1978.65\",\"3181.8\",\"229.7\",\"5625.55\",\"1347.15\",\"3808.2\",\"3974.15\",\"7661.8\",\"2479.25\",\"266.6\",\"5601.4\",\"1982.6\",\"339.9\",\"4828.05\",\"5980.55\",\"4808.7\",\"20.3\",\"1068.15\",\"2383.6\",\"1438.05\",\"917.45\",\"6096.45\",\"99.95\",\"475.2\",\"2036.55\",\"6444.05\",\"767.55\",\"7932.5\",\"4040.65\",\"2768.65\",\"1672.35\",\"1345.65\",\"2425.4\",\"2077.95\",\"1663.5\",\"1286.05\",\"1094.35\",\"7719.5\",\"514.6\",\"4932.5\",\"5443.65\",\"330.25\",\"122.7\",\"6631.85\",\"8250\",\"3561.15\",\"1763.55\",\"2419\",\"470.2\",\"5234.95\",\"3097\",\"1709.1\",\"1848.8\",\"723.3\",\"577.15\",\"6914.95\",\"602.9\",\"124.4\",\"96.8\",\"3827.9\",\"533.05\",\"2961.4\",\"995.35\",\"2815.25\",\"154.8\",\"257.6\",\"5757.2\",\"7517.7\",\"1234.8\",\"3836.3\",\"6001.45\",\"720.1\",\"2832.75\",\"472.25\",\"1336.35\",\"6388.65\",\"677.9\",\"1165.6\",\"921.55\",\"72\",\"68.35\",\"847.25\",\"44\",\"4295.35\",\"1380.4\",\"4386.2\",\"52.05\",\"2018.4\",\"2727.3\",\"263.65\",\"275.4\",\"538.5\",\"948.9\",\"846.8\",\"2997.45\",\"5897.4\",\"524.5\",\"269.65\",\"2341.5\",\"1789.65\",\"1626.4\",\"800.3\",\"5060.85\",\"466.6\",\"4627.8\",\"6838.6\",\"85\",\"44.3\",\"4297.6\",\"414.1\",\"256.6\",\"2274.1\",\"1296.8\",\"1268.85\",\"8192.6\",\"59.25\",\"1147.85\",\"4361.55\",\"2006.1\",\"2078.95\",\"7609.75\",\"487.05\",\"1218.45\",\"1416.2\",\"483.3\",\"1234.6\",\"1311.6\",\"5618.3\",\"6185.15\",\"788.35\",\"756.4\",\"3625.2\",\"550.35\",\"4793.8\",\"1267.2\",\"5567.45\",\"5706.2\",\"3085.35\",\"24.7\",\"3541.4\",\"84.2\",\"50.7\",\"1165.55\",\"4855.35\",\"608.15\",\"641.35\",\"4959.15\",\"35.9\",\"1321.3\",\"1663.75\",\"3024.15\",\"2188.5\",\"2724.25\",\"413.25\",\"1374.2\",\"6692.65\",\"218.5\",\"1004.75\",\"1125.6\",\"3847.6\",\"978\",\"1387.35\",\"746.05\",\"304.6\",\"1098.85\",\"4368.95\",\"827.7\",\"20.35\",\"262.05\",\"3512.5\",\"151.75\",\"8033.1\",\"1253.65\",\"552.65\",\"1036\",\"4025.5\",\"928.4\",\"24.9\",\"6506.15\",\"5598.3\",\"4374.55\",\"678.75\",\"2191.7\",\"239.75\",\"609.05\",\"683.75\",\"5189.75\",\"5060.9\",\"233.65\",\"291.45\",\"689.75\",\"3263.9\",\"1993.2\",\"254.5\",\"347.65\",\"967.9\",\"1841.9\",\"232.1\",\"809.25\",\"360.55\",\"355.9\",\"129.15\",\"5835.5\",\"7031.45\",\"109.6\",\"727.8\",\"893\",\"763.1\",\"781.4\",\"902.25\",\"1016.7\",\"5943.65\",\"275.7\",\"3126.45\",\"1070.15\",\"340.4\",\"4299.2\",\"1093.2\",\"521.9\",\"1630.4\",\"713.6\",\"1265.65\",\"4003.85\",\"1401.4\",\"1510.5\",\"264.8\",\"4541.9\",\"4976.15\",\"7542.25\",\"251.25\",\"1595.5\",\"685.55\",\"3874.1\",\"6891.4\",\"4916.95\",\"1373\",\"49.8\",\"1548.65\",\"3440.25\",\"4226.7\",\"1023.75\",\"7074.4\",\"6849.75\",\"3263.6\",\"1252.85\",\"67.55\",\"70.2\",\"5750\",\"1549.75\",\"1810.55\",\"7467.55\",\"5484.4\",\"294.9\",\"97.5\",\"19.95\",\"476.8\",\"101.65\",\"1130.85\",\"3532.25\",\"6891.45\",\"1570.7\",\"520.95\",\"7854.9\",\"3581.4\",\"1447.9\",\"8547.15\",\"727.85\",\"357.6\",\"159.35\",\"280.85\",\"6069.25\",\"3274.35\",\"6109.65\",\"1122.4\",\"2020.9\",\"3795.45\",\"3579.15\",\"49.7\",\"276.5\",\"8175.9\",\"890.35\",\"5588.8\",\"50.6\",\"58\",\"938.95\",\"2024.1\",\"3623.95\",\"3877.95\",\"4577.9\",\"25.85\",\"2871.5\",\"1270.55\",\"7711.45\",\"2193.65\",\"31.2\",\"38.25\",\"3348.1\",\"533.6\",\"2907.55\",\"1620.8\",\"3480.35\",\"293.85\",\"4137.2\",\"19.4\",\"5348.65\",\"3180.5\",\"3023.85\",\"1031.1\",\"6471.85\",\"6241.35\",\"6501.35\",\"2317.1\",\"2237.55\",\"5231.3\",\"165.5\",\"358.5\",\"6614.9\",\"2421.75\",\"1294.6\",\"1299.1\",\"5733.4\",\"7430.75\",\"630.6\",\"1222.65\",\"374.8\",\"7234.8\",\"331.85\",\"5088.4\",\"4860.85\",\"788.05\",\"1266.35\",\"688.2\",\"387.7\",\"845.25\",\"4230.25\",\"4983.05\",\"4113.15\",\"521\",\"471.85\",\"5976.9\",\"4299.75\",\"7548.6\",\"1654.75\",\"4551.5\",\"6227.5\",\"20.05\",\"57.5\",\"1474.35\",\"3270.25\",\"3919.15\",\"7285.7\",\"7658.3\",\"5959.3\",\"5295.7\",\"4693.2\",\"3512.9\",\"5231.2\",\"3603.45\",\"217.45\",\"6875.35\",\"19.25\",\"2021.35\",\"2564.95\",\"5611.75\",\"7610.1\",\"45.75\",\"4543.95\",\"450.4\",\"1297.35\",\"4442.75\",\"1423.15\",\"4378.35\",\"74.2\",\"450.65\",\"1175.85\",\"558.8\",\"2220.1\",\"3283.05\",\"4939.25\",\"4237.5\",\"335.95\",\"7188.5\",\"926.25\",\"1119.35\",\"116.6\",\"68.8\",\"2341.55\",\"1362.85\",\"163.6\",\"145.15\",\"4786.1\",\"3835.55\",\"397\",\"1027.25\",\"1580.1\",\"7222.75\",\"3769.7\",\"4233.95\",\"1680.25\",\"3725.5\",\"7707.7\",\"8309.55\",\"601.55\",\"139.25\",\"1888.25\",\"2773.9\",\"5409.75\",\"401.3\",\"3238.4\",\"1573.05\",\"235.8\",\"1364.75\",\"1985.15\",\"4335.2\",\"647.5\",\"2748.7\",\"2483.65\",\"6367.2\",\"4904.2\",\"2044.95\",\"1794.8\",\"7173.15\",\"7039.05\",\"921.4\",\"4018.35\",\"5448.6\",\"20.25\",\"2085.45\",\"5135.15\",\"730.1\",\"118.25\",\"1108.6\",\"1815.65\",\"730.4\",\"75.45\",\"4014.6\",\"568.85\",\"5860.7\",\"7279.35\",\"1064.95\",\"5886.85\",\"4238.45\",\"418.3\",\"136.05\",\"708.2\",\"788.55\",\"4378.8\",\"3442.8\",\"7171.7\",\"553\",\"96.85\",\"4122.9\",\"1482.3\",\"1240.8\",\"6578.55\",\"19.55\",\"2802.3\",\"857.75\",\"184.4\",\"6093.3\",\"1861.1\",\"1079.65\",\"7475.1\",\"2862.55\",\"3069.45\",\"2349.8\",\"469.25\",\"3301.05\",\"3529.95\",\"4144.9\",\"4265\",\"3246.45\",\"8337.45\",\"5731.4\",\"6176.6\",\"1905.4\",\"931.9\",\"776.25\",\"5243.05\",\"141.65\",\"7679.65\",\"1006.9\",\"2540.1\",\"3097.2\",\"2484\",\"5785.65\",\"2619.15\",\"1524.85\",\"2790.65\",\"1784.5\",\"2276.1\",\"2029.05\",\"802.35\",\"4653.25\",\"275.9\",\"343.45\",\"2130.45\",\"1191.4\",\"2554\",\"5589.45\",\"467.7\",\"3756.45\",\"3334.9\",\"920.5\",\"3431.75\",\"150.35\",\"367.95\",\"5125.75\",\"4801.1\",\"19.55\",\"550.1\",\"7862.25\",\"1242.2\",\"3190.65\",\"2666.75\",\"3533.6\",\"792.15\",\"295.65\",\"1459.35\",\"4297.95\",\"4096.9\",\"3454.6\",\"1286\",\"1387\",\"786.3\",\"641.25\",\"705.45\",\"345.5\",\"345.9\",\"5811.8\",\"124.45\",\"1375.6\",\"3491.55\",\"7920.7\",\"6640.7\",\"718.1\",\"320.4\",\"1334.45\",\"3358.65\",\"4764\",\"5703\",\"525.55\",\"483.15\",\"934.8\",\"786.5\",\"5364.8\",\"20.3\",\"770.4\",\"6816.95\",\"2419.55\",\"4138.7\",\"3457.45\",\"4630.2\",\"3221.25\",\"688.5\",\"867.1\",\"4746.05\",\"355.1\",\"5764.7\",\"428.45\",\"1505.35\",\"693.45\",\"1177.95\",\"1458.1\",\"2298.9\",\"1679.65\",\"369.6\",\"2998\",\"5206.55\",\"24.4\",\"1959.5\",\"2053.05\",\"398.55\",\"3425.35\",\"1275.7\",\"2965.75\",\"1647\",\"6109.75\",\"3751.15\",\"411.25\",\"105.5\",\"3320.6\",\"5669.5\",\"465.45\",\"704.3\",\"95.55\",\"6375.2\",\"8152.3\",\"1566.75\",\"130.25\",\"162.15\",\"110.05\",\"1885.15\",\"6302.85\",\"2264.5\",\"816.8\",\"1253.5\",\"41.2\",\"5265.55\",\"693.3\",\"5997.1\",\"3824.2\",\"3886.05\",\"7283.25\",\"412.55\",\"1070.25\",\"817.95\",\"1171.3\",\"6548.65\",\"625.65\",\"1911.5\",\"1507\",\"299.3\",\"5832.65\",\"5567.55\",\"4166.35\",\"7898.45\",\"3915.4\",\"979.5\",\"90.05\",\"398.55\",\"1958.45\",\"63.15\",\"1301.1\",\"484.05\",\"3887.85\",\"2208.75\",\"238.15\",\"958.15\",\"3845.45\",\"1267\",\"633.45\",\"6129.65\",\"1218.25\",\"1405.3\",\"533.9\",\"676.15\",\"3804.4\",\"1118.8\",\"5236.4\",\"1386.8\",\"1902\",\"239.05\",\"5673.7\",\"39.8\",\"997.75\",\"5574.35\",\"406.05\",\"138.85\",\"123.65\",\"1801.1\",\"689\",\"790.7\",\"1618.2\",\"1173.35\",\"900.9\",\"6719.9\",\"3784\",\"1798.65\",\"54.65\",\"3886.45\",\"1224.05\",\"2310.2\",\"3988.5\",\"3554.6\",\" \",\"6034.85\",\"531.6\",\"85.1\",\"173\",\"2511.95\",\"3893.6\",\"357.15\",\"467.5\",\"2288.7\",\"6460.55\",\"1931.3\",\"402.6\",\"2221.55\",\"7758.9\",\"224.5\",\"7388.45\",\"3460.95\",\"1700.9\",\"3090.65\",\"1293.8\",\"645.8\",\"5224.95\",\"500.1\",\"2427.1\",\"3488.15\",\"1035.7\",\"7565.35\",\"2799\",\"1601.5\",\"6256.2\",\"1232.9\",\"19.9\",\"1937.4\",\"5059.75\",\"3023.65\",\"4889.2\",\"2289.9\",\"6503.2\",\"1313.25\",\"990.3\",\"1864.2\",\"5979.7\",\"3902.45\",\"7142.5\",\"902\",\"805.2\",\"528.45\",\"8349.7\",\"4953.25\",\"332.65\",\"470.2\",\"2259.35\",\"1411.35\",\"6328.7\",\"1411.9\",\"6841.4\",\"20.35\",\"238.5\",\"4016.3\",\"226.55\",\"7110.75\",\"1958.95\",\"5528.9\",\"1463.7\",\"1025.05\",\"552.1\",\"3815.4\",\" \",\"3313.4\",\"1938.9\",\"460.25\",\"4839.15\",\"19.9\",\"5139.65\",\"1673.4\",\"309.35\",\"3171.6\",\"8670.1\",\"916\",\"299.75\",\"702.05\",\"19.65\",\"4438.2\",\"4819.75\",\"92.25\",\"1567\",\"1242.45\",\"559.2\",\"531.15\",\"1183.2\",\"465.85\",\"3782.4\",\"460.2\",\"1790.35\",\"7767.25\",\"876.15\",\"4600.95\",\"1793.25\",\"886.7\",\"7737.55\",\"1686.85\",\"1879.25\",\"4013.8\",\"434.5\",\"7195.35\",\"780.1\",\"107.6\",\"3801.7\",\"3778.1\",\"5438.95\",\"5102.35\",\"1872.2\",\"213.35\",\"5386.5\",\"235.65\",\"2272.8\",\"83.75\",\"4663.4\",\"201.7\",\"125\",\"684.4\",\"1146.05\",\"1806.35\",\"603\",\"5798.3\",\"497.6\",\"19.3\",\"266.95\",\"257\",\"2623.65\",\"45.85\",\"1082.8\",\"147.8\",\"2570.2\",\"4378.9\",\"3616.25\",\"2924.05\",\"32.7\",\"2882.25\",\"1509.9\",\"5305.05\",\"7985.9\",\"2985.25\",\"564.35\",\"1311.75\",\"3720.35\",\"5025.8\",\"5224.5\",\"6185.8\",\"1498.55\",\"1208.6\",\"6613.65\",\"1818.9\",\"1787.35\",\"1051.05\",\"7181.25\",\"3688.6\",\"821.6\",\"239.45\",\"244.45\",\"3357.9\",\"129.6\",\"4977.2\",\"2424.05\",\"4981.15\",\"2090.25\",\"4905.75\",\"2038.7\",\"4014\",\"2441.7\",\"2751\",\"1307.8\",\"383.65\",\"53.55\",\"7882.5\",\"1087.7\",\"791.7\",\"7493.05\",\"6841.3\",\"819.95\",\"6052.25\",\"4869.5\",\"509.3\",\"4308.25\",\"221.1\",\"3833.95\",\"294.95\",\"316.9\",\"2651.2\",\"471.7\",\"5720.95\",\"503.25\",\"7365.3\",\"7245.9\",\"961.4\",\"4615.9\",\"3251.3\",\"3880.05\",\"3088.75\",\"1396\",\"53.05\",\"2108.35\",\"6770.5\",\"4730.6\",\"1151.05\",\"232.55\",\"1022.6\",\"309.4\",\"523.1\",\"4250.1\",\"770.5\",\"246.7\",\"3342\",\"3930.6\",\"897.75\",\"2780.6\",\"5895.45\",\"2208.05\",\"4871.45\",\"4947.55\",\"1558.65\",\"4284.2\",\"1218.25\",\"5617.95\",\"24.2\",\"554.45\",\"5237.4\",\"2032.3\",\"789.2\",\"1525.35\",\"3726.15\",\"1652.1\",\"1588.75\",\"3366.05\",\"7113.75\",\"993.15\",\"5012.35\",\"2093.4\",\"1011.8\",\"1343.4\",\"6794.75\",\"1022.5\",\"3691.2\",\"486.2\",\"4685.55\",\"5150.55\",\"3756.4\",\"3645.75\",\"2874.45\",\"49.95\",\"1020.75\",\"826\",\"239\",\"7544.3\",\"6479.4\",\"3626.35\",\"1679.4\",\"931.55\",\"4326.25\",\"263.05\",\"39.25\",\"3316.1\",\"2625.25\",\"1495.1\",\"743.3\",\"1419.4\",\"1990.5\",\"7362.9\",\"346.45\",\"6844.5\"],\"xaxis\":\"x\",\"yaxis\":\"y\",\"type\":\"histogram\"},{\"alignmentgroup\":\"True\",\"bingroup\":\"x\",\"hovertemplate\":\"Churn=1\\u003cbr\\u003eTotalCharges=%{x}\\u003cbr\\u003ecount=%{y}\\u003cextra\\u003e\\u003c\\u002fextra\\u003e\",\"legendgroup\":\"1\",\"marker\":{\"color\":\"#EF553B\",\"pattern\":{\"shape\":\"\"}},\"name\":\"1\",\"offsetgroup\":\"1\",\"orientation\":\"v\",\"showlegend\":true,\"x\":[\"108.15\",\"151.65\",\"820.5\",\"3046.05\",\"5036.3\",\"528.35\",\"39.65\",\"20.15\",\"4749.15\",\"30.2\",\"1093.1\",\"316.9\",\"3549.25\",\"1105.4\",\"144.15\",\"1426.4\",\"633.3\",\"1752.55\",\"857.25\",\"79.35\",\"496.9\",\"927.35\",\"113.85\",\"2514.5\",\"7611.85\",\"5238.9\",\"2868.15\",\"1064.65\",\"229.55\",\"2135.5\",\"1502.65\",\"35.45\",\"81.25\",\"70.45\",\"563.65\",\"45.65\",\"655.5\",\"1592.35\",\"273\",\"2651.2\",\"242.8\",\"5000.2\",\"1145.7\",\"503.6\",\"29.95\",\"662.65\",\"1111.65\",\"24.8\",\"531\",\"79.9\",\"1934.45\",\"84.5\",\"268.35\",\"179.35\",\"55.2\",\"84.6\",\"114.1\",\"1120.3\",\"1074.3\",\"48.55\",\"147.15\",\"40.2\",\"80.55\",\"132.2\",\"1364.3\",\"1099.6\",\"1511.2\",\"24.8\",\"70.6\",\"401.1\",\"5624.85\",\"1779.95\",\"70\",\"606.55\",\"435.4\",\"1712.7\",\"73.6\",\"396.1\",\"2303.35\",\"415.55\",\"3058.65\",\"2231.05\",\"4350.1\",\"139.05\",\"511.25\",\"155.8\",\"5293.95\",\"4759.85\",\"6603\",\"168.2\",\"371.9\",\"840.1\",\"846\",\"805.1\",\"492.55\",\"181.5\",\"2566.5\",\"50.65\",\"90.85\",\"214.75\",\"4874.7\",\"2524.45\",\"7007.6\",\"19.9\",\"19.6\",\"233.7\",\"1845.9\",\"75.3\",\"1182.55\",\"518.9\",\"6396.45\",\"69.55\",\"2227.1\",\"385.9\",\"673.25\",\"734.35\",\"55\",\"74.7\",\"1861.5\",\"453.4\",\"994.8\",\"2145\",\"680.05\",\"74.35\",\"139.4\",\"903.6\",\"131.05\",\"1238.45\",\"1782.4\",\"167.5\",\"502.85\",\"334.8\",\"4131.95\",\"1929.35\",\"1758.6\",\"3480\",\"85\",\"834.1\",\"597\",\"3266\",\"2596.15\",\"3527.6\",\"5614.45\",\"233.55\",\"75.3\",\"346.2\",\"85.7\",\"713.75\",\"6786.4\",\"248.95\",\"663.05\",\"137.6\",\"4547.25\",\"4687.9\",\"6985.65\",\"5794.65\",\"855.3\",\"2499.3\",\"89.55\",\"1899.65\",\"45.7\",\"161.5\",\"222.3\",\"74.6\",\"164.3\",\"35.9\",\"96.05\",\"145.15\",\"191.05\",\"75.05\",\"2550.9\",\"62.25\",\"80\",\"91.1\",\"270.7\",\"168.15\",\"2015.35\",\"19.55\",\"381.3\",\"141.5\",\"3105.55\",\"2758.15\",\"3941.7\",\"1008.55\",\"1842.8\",\"1269.55\",\"1907.85\",\"208.85\",\"1444.65\",\"19.9\",\"454.15\",\"3036.75\",\"184.65\",\"89.5\",\"52.2\",\"4874.8\",\"6125.4\",\"1058.25\",\"489.45\",\"4113.1\",\"69.55\",\"6017.65\",\"7250.15\",\"178.7\",\"2317.1\",\"1430.25\",\"644.35\",\"5453.4\",\"5610.7\",\"292.8\",\"44.4\",\"5509.3\",\"229.6\",\"89.9\",\"6413.65\",\"50.8\",\"1463.5\",\"307.4\",\"2104.55\",\"319.15\",\"5084.65\",\"3027.4\",\"1582.75\",\"1043.3\",\"497.55\",\"6215.35\",\"5017.9\",\"24.6\",\"1120.95\",\"923.5\",\"1625.65\",\"918.6\",\"688.65\",\"73.55\",\"205.05\",\"952.3\",\"360.1\",\"434.5\",\"215.8\",\"3395.8\",\"85.15\",\"44.7\",\"45.7\",\"832.35\",\"112.3\",\"174.8\",\"90.55\",\"1359.7\",\"7532.15\",\"69.9\",\"6383.35\",\"86.6\",\"2656.5\",\"2917.5\",\"2416.1\",\"424.45\",\"660.9\",\"1893.95\",\"1612.75\",\"119.75\",\"3204.65\",\"990.85\",\"696.35\",\"819.4\",\"2070.6\",\"273.75\",\"729.95\",\"3013.05\",\"1266.1\",\"2347.9\",\"19.65\",\"526.95\",\"210.75\",\"3706.95\",\"412.5\",\"832.05\",\"185.55\",\"1943.2\",\"2169.8\",\"4853.75\",\"144.55\",\"91.1\",\"713\",\"4527.45\",\"171.15\",\"940.35\",\"1047.7\",\"1622.45\",\"2178.6\",\"168.15\",\"387.2\",\"2839.65\",\"893.55\",\"4284.8\",\"544.55\",\"941\",\"1133.65\",\"35.55\",\"196.9\",\"1162.85\",\"224.05\",\"31.35\",\"1052.4\",\"5610.25\",\"19.85\",\"669.45\",\"1553.95\",\"1236.15\",\"60.15\",\"593.45\",\"4867.95\",\"74.9\",\"80.25\",\"1149.65\",\"740.8\",\"1532.45\",\"250.05\",\"2282.55\",\"143.35\",\"45.85\",\"810.2\",\"2564.3\",\"228.4\",\"1529.2\",\"45.3\",\"289.3\",\"987.95\",\"45.05\",\"75.8\",\"523.15\",\"59.05\",\"4424.2\",\"6127.6\",\"6448.05\",\"676.7\",\"632.95\",\"270.95\",\"483.7\",\"1345.55\",\"8127.6\",\"1281\",\"1553.9\",\"3207.55\",\"5124.55\",\"3474.45\",\"19.45\",\"76.35\",\"69.25\",\"5961.1\",\"25.2\",\"96.45\",\"20.15\",\"7133.25\",\"169.45\",\"1258.6\",\"857.2\",\"1639.3\",\"889.9\",\"1290\",\"330.05\",\"237.95\",\"2452.7\",\"813.85\",\"79.2\",\"347.4\",\"49.95\",\"1554\",\"3217.55\",\"3001.2\",\"6254.2\",\"442.85\",\"553\",\"76\",\"170.85\",\"1308.4\",\"732.5\",\"1504.05\",\"50.45\",\"1132.75\",\"193.6\",\"349.65\",\"332.45\",\"1534.75\",\"20.55\",\"424.15\",\"281\",\"3475.55\",\"896.75\",\"2407.3\",\"6547.7\",\"4346.4\",\"2082.95\",\"102.75\",\"1775.8\",\"145\",\"1146.65\",\"74.7\",\"1313.55\",\"25.8\",\"72.4\",\"1970.5\",\"190.05\",\"1025.95\",\"819.55\",\"330.15\",\"6873.75\",\"45.85\",\"5769.75\",\"91.7\",\"1555.65\",\"74.95\",\"898.35\",\"127.1\",\"6710.5\",\"1704.95\",\"415.95\",\"950.2\",\"3384\",\"165.4\",\"88.8\",\"2755.35\",\"994.55\",\"1169.35\",\"5918.8\",\"2293.6\",\"3029.1\",\"5508.35\",\"655.9\",\"1463.45\",\"5082.8\",\"770.6\",\"3587.25\",\"3541.35\",\"868.5\",\"85.8\",\"79.1\",\"134.5\",\"5341.8\",\"324.6\",\"4812.75\",\"4399.5\",\"50.15\",\"4594.95\",\"2384.15\",\"1616.15\",\"34.7\",\"264.8\",\"6615.15\",\"2200.25\",\"99.75\",\"299.7\",\"639.65\",\"59.85\",\"69.6\",\"418.8\",\"19.5\",\"69.9\",\"183.75\",\"264.85\",\"1178.4\",\"4689.5\",\"1201.15\",\"143.65\",\"390.85\",\"71.65\",\"77.5\",\"3264.5\",\"947.3\",\"1761.05\",\"973.25\",\"76.35\",\"1676.95\",\"2642.05\",\"2661.1\",\"2697.4\",\"1424.5\",\"2572.95\",\"45.1\",\"2122.45\",\"20.05\",\"6937.95\",\"402.6\",\"68.75\",\"46.2\",\"45.15\",\"43.3\",\"2250.65\",\"1441.1\",\"4338.6\",\"45.95\",\"247.25\",\"70.05\",\"165.45\",\"3653.35\",\"1194.3\",\"21\",\"45.1\",\"1527.5\",\"378.4\",\"5124.6\",\"3862.55\",\"50.9\",\"4872.45\",\"5118.95\",\"658.95\",\"246.5\",\"215.2\",\"159.45\",\"5940.85\",\"75.35\",\"75.45\",\"1210.4\",\"5356.45\",\"576.65\",\"825.7\",\"93.55\",\"5885.4\",\"1259\",\"309.1\",\"2257.75\",\"6287.25\",\"1350.15\",\"45.7\",\"69.95\",\"97.1\",\"1710.45\",\"5464.65\",\"2165.05\",\"4941.8\",\"223.15\",\"181.1\",\"341.45\",\"357.75\",\"4533.7\",\"830.85\",\"45.3\",\"7040.85\",\"371.65\",\"6056.15\",\"1390.6\",\"20.2\",\"2361.8\",\"1730.35\",\"2030.3\",\"4065\",\"106.55\",\"1742.75\",\"340.25\",\"95.6\",\"2934.3\",\"4600.7\",\"71.35\",\"20.15\",\"69.75\",\"2931\",\"1400.85\",\"137.85\",\"79.95\",\"19.3\",\"3754.6\",\"627.4\",\"242\",\"54.35\",\"100.4\",\"1716.45\",\"75.3\",\"4837.6\",\"70.55\",\"2745.7\",\"2624.25\",\"184.1\",\"160.75\",\"3004.15\",\"1233.65\",\"527.9\",\"2555.9\",\"179.25\",\"1338.15\",\"91.3\",\"79.5\",\"467.55\",\"7482.1\",\"5427.05\",\"587.1\",\"100.8\",\"1180.95\",\"2625.55\",\"1233.4\",\"740\",\"2088.75\",\"102.45\",\"217.55\",\"146.05\",\"567.45\",\"1384.75\",\"70.9\",\"220.95\",\"2331.3\",\"74.5\",\"6941.2\",\"1043.35\",\"6822.15\",\"71.55\",\"5029.2\",\"7318.2\",\"633.4\",\"321.65\",\"1253.9\",\"25.15\",\"5893.15\",\"5037.55\",\"92.45\",\"2933.2\",\"1258.3\",\"1214.05\",\"5510.65\",\"1973.75\",\"45.95\",\"70.15\",\"85.55\",\"2416.55\",\"3520.75\",\"3467\",\"88.35\",\"777.3\",\"512.45\",\"141.45\",\"1445.3\",\"3640.45\",\"6465\",\"35.9\",\"3777.15\",\"47.5\",\"847.3\",\"546.95\",\"3186.65\",\"1527.35\",\"1531.4\",\"2847.4\",\"1133.9\",\"461.7\",\"77.15\",\"35.25\",\"201\",\"5149.5\",\"5574.75\",\"4541.2\",\"1072\",\"1715.65\",\"706.85\",\"2636.05\",\"189.2\",\"74.25\",\"2187.55\",\"1581.2\",\"69.5\",\"3132.75\",\"19.4\",\"803.3\",\"679.3\",\"2791.5\",\"676.35\",\"1230.25\",\"4154.8\",\"2655.25\",\"1425.45\",\"5742.9\",\"2866.45\",\"54.75\",\"3759.05\",\"94.6\",\"2911.3\",\"231.8\",\"69.75\",\"279.25\",\"6281.45\",\"1131.3\",\"738.2\",\"80.2\",\"6341.45\",\"260.8\",\"19.6\",\"3655.45\",\"140.7\",\"665.45\",\"84.8\",\"5426.85\",\"1127.35\",\"4045.65\",\"2757.85\",\"600\",\"2238.5\",\"90.75\",\"365.65\",\"90.35\",\"19.75\",\"1789.25\",\"2317.1\",\"266.9\",\"301.4\",\"206.6\",\"604.7\",\"1471.75\",\"412.1\",\"583.45\",\"50.1\",\"151.8\",\"293.65\",\"1308.1\",\"2598.95\",\"765.5\",\"793.55\",\"462.8\",\"169.8\",\"44.4\",\"477.7\",\"86.05\",\"174.3\",\"1077.5\",\"95.65\",\"20.95\",\"329.8\",\"297.3\",\"1515.1\",\"3229.65\",\"1178.25\",\"758.6\",\"1863.8\",\"396.3\",\"5551.15\",\"622.9\",\"329.95\",\"1048.85\",\"3351.55\",\"259.8\",\"6890\",\"262.05\",\"2649.15\",\"74.4\",\"3326.2\",\"560.85\",\"1060.2\",\"20.5\",\"347.65\",\"81.95\",\"451.1\",\"455.3\",\"1235.55\",\"2362.1\",\"1873.7\",\"6010.05\",\"7101.5\",\"45.05\",\"71\",\"3309.25\",\"79.7\",\"1254.7\",\"2896.4\",\"69.25\",\"1767.35\",\"1820.45\",\"1742.95\",\"73.5\",\"829.1\",\"2602.9\",\"824.75\",\"1029.75\",\"2854.55\",\"4259.3\",\"2239.65\",\"480.75\",\"635.6\",\"2095\",\"95.05\",\"4242.35\",\"331.9\",\"6283.3\",\"2659.4\",\"298.45\",\"6143.15\",\"1059.55\",\"2180.55\",\"89.15\",\"1036.75\",\"2276.95\",\"196.15\",\"1206.05\",\"1378.25\",\"219\",\"1067.15\",\"79.55\",\"3444.85\",\"84.5\",\"7690.9\",\"1380.1\",\"78.65\",\"45.4\",\"2585.95\",\"58.85\",\"425.9\",\"3678.3\",\"937.5\",\"2483.5\",\"556.35\",\"389.1\",\"187.45\",\"261.25\",\"299.2\",\"323.25\",\"762.1\",\"53.5\",\"25.1\",\"2365.15\",\"308.25\",\"19.45\",\"7372.65\",\"1058.6\",\"2628.6\",\"1023.9\",\"856.35\",\"3734.25\",\"1144.5\",\"45.3\",\"75.6\",\"180.25\",\"19.8\",\"333.6\",\"465.05\",\"431\",\"878.35\",\"2448.75\",\"1329.2\",\"4348.65\",\"93.7\",\"25.05\",\"365.55\",\"2342.2\",\"1498.2\",\"5278.15\",\"93.85\",\"50.45\",\"521.1\",\"1046.1\",\"5763.3\",\"20.1\",\"1900.25\",\"159.15\",\"856.65\",\"4056.75\",\"2435.15\",\"2874.15\",\"1974.8\",\"1218.55\",\"81.7\",\"2171.15\",\"317.25\",\"3474.05\",\"1875.55\",\"69.1\",\"69.6\",\"3066.45\",\"305.55\",\"78.45\",\"255.25\",\"146.9\",\"762.5\",\"338.9\",\"2497.35\",\"4913.3\",\"46.3\",\"4443.45\",\"1095.65\",\"446.05\",\"811.8\",\"1056.95\",\"44.15\",\"834.15\",\"85.45\",\"239.55\",\"59.2\",\"1060.6\",\"54.9\",\"2254.2\",\"180.3\",\"158.4\",\"104.2\",\"95.1\",\"438\",\"325.45\",\"1148.1\",\"355.2\",\"151.3\",\"188.7\",\"5549.4\",\"5685.8\",\"50.6\",\"863.1\",\"69.8\",\"4750.95\",\"2391.8\",\"1687.95\",\"7689.95\",\"229.55\",\"90.55\",\"2274.35\",\"602.55\",\"449.75\",\"4512.7\",\"196.95\",\"131.05\",\"415.05\",\"754.65\",\"75.35\",\"3198.6\",\"20.9\",\"123.65\",\"7534.65\",\"906.85\",\"4888.7\",\"237.25\",\"74.6\",\"342.4\",\"892.65\",\"4822.85\",\"438.4\",\"3019.5\",\"3183.4\",\"79.6\",\"1734.5\",\"2088.8\",\"502.6\",\"50.75\",\"1208.35\",\"2498.4\",\"651.4\",\"223.45\",\"919.4\",\"181.65\",\"45.65\",\"551.35\",\"115.95\",\"165.2\",\"4146.05\",\"81\",\"3017.65\",\"1164.3\",\"2710.25\",\"810.7\",\"36.55\",\"85.5\",\"49.55\",\"178.5\",\"115.1\",\"2745.2\",\"25.25\",\"416.45\",\"4116.15\",\"75.1\",\"3715.65\",\"4273.45\",\"45.8\",\"20.1\",\"328.95\",\"4680.05\",\"69.1\",\"999.45\",\"1888.65\",\"71.15\",\"1240.25\",\"7156.2\",\"270.8\",\"374.5\",\"1520.9\",\"3605.2\",\"1145.35\",\"38.7\",\"70.8\",\"1448.6\",\"291.9\",\"5921.35\",\"249.95\",\"219.65\",\"669\",\"68.95\",\"196.75\",\"318.9\",\"24.45\",\"631.85\",\"307.4\",\"55.8\",\"79.05\",\"95\",\"25.2\",\"4187.75\",\"5154.6\",\"3496.3\",\"914.3\",\"6110.2\",\"28.3\",\"2351.8\",\"679.55\",\"1994.3\",\"1505.85\",\"5638.3\",\"71.65\",\"2542.45\",\"210.3\",\"74.2\",\"4388.4\",\"420.2\",\"2177.45\",\"3913.3\",\"443.9\",\"3436.1\",\"70.85\",\"3110.1\",\"280.85\",\"6144.55\",\"2983.8\",\"1565.7\",\"298.35\",\"4534.9\",\"1157.05\",\"45.75\",\"815.5\",\"80.15\",\"8109.8\",\"108.95\",\"78.8\",\"5127.95\",\"874.8\",\"69.1\",\"1776.55\",\"536.4\",\"80.85\",\"4029.95\",\"51.15\",\"149.55\",\"78.65\",\"42.9\",\"139.35\",\"539.85\",\"4718.25\",\"434.1\",\"545.2\",\"1284.2\",\"646.85\",\"692.1\",\"1727.5\",\"86.6\",\"2979.5\",\"24.25\",\"837.95\",\"362.2\",\"5373.1\",\"2068.55\",\"131.65\",\"24.05\",\"50.55\",\"1415.55\",\"20.5\",\"321.9\",\"482.8\",\"914\",\"1172.95\",\"155.35\",\"3303.05\",\"134.35\",\"70.5\",\"953.45\",\"19.75\",\"937.6\",\"5812.6\",\"1544.05\",\"69.6\",\"4059.35\",\"6851.65\",\"78.05\",\"520\",\"706.6\",\"20.2\",\"2264.05\",\"56.35\",\"2510.2\",\"2111.45\",\"20.25\",\"300.8\",\"85.45\",\"6137\",\"2043.45\",\"2576.2\",\"3515.25\",\"469.8\",\"1457.25\",\"185.6\",\"973.55\",\"41.85\",\"2862.75\",\"343.95\",\"2890.65\",\"1222.05\",\"5743.05\",\"2496.7\",\"90.6\",\"288.05\",\"368.1\",\"256.6\",\"68.5\",\"791.75\",\"69.95\",\"346.4\",\"773.65\",\"1422.05\",\"2467.1\",\"989.45\",\"4830.25\",\"59.75\",\"94.55\",\"6871.9\",\"6529.25\",\"1454.15\",\"1327.15\",\"2404.15\",\"114.7\",\"6975.25\",\"257.05\",\"40.1\",\"2217.15\",\"1129.1\",\"2568.55\",\"3580.3\",\"293.3\",\"2440.15\",\"79.55\",\"2781.85\",\"89.1\",\"1607.2\",\"1490.95\",\"92.65\",\"606.25\",\"19.1\",\"80.3\",\"74.9\",\"751.65\",\"66.95\",\"4515.85\",\"165\",\"3046.4\",\"1808.7\",\"7446.9\",\"25.1\",\"1880.85\",\"477.55\",\"1496.9\",\"70.45\",\"3563.8\",\"24.75\",\"2012.7\",\"242.05\",\"63.75\",\"260.9\",\"2967.35\",\"939.7\",\"1037.75\",\"50.45\",\"3624.3\",\"100.25\",\"1422.1\",\"69.85\",\"858.6\",\"324.3\",\"399.6\",\"3273.55\",\"20.9\",\"69.4\",\"541.15\",\"3229.4\",\"70.1\",\"909.25\",\"5283.95\",\"1617.5\",\"84.3\",\"6440.25\",\"1131.2\",\"585.95\",\"19.95\",\"2186.4\",\"3201.55\",\"661.25\",\"1111.85\",\"3046.15\",\"69.35\",\"272.2\",\"5293.4\",\"50.55\",\"80.55\",\"916.9\",\"1855.65\",\"116.65\",\"2287.25\",\"830.7\",\"20\",\"1054.6\",\"85.05\",\"2110.15\",\"547.65\",\"8684.8\",\"4370.25\",\"251.75\",\"740.3\",\"452.7\",\"19.45\",\"166.3\",\"70\",\"4820.15\",\"3409.6\",\"1270.2\",\"1561.5\",\"31.55\",\"321.75\",\"147.15\",\"2387.75\",\"2660.2\",\"4211.55\",\"990.9\",\"193.8\",\"790.15\",\"2467.75\",\"7262\",\"1914.9\",\"5688.05\",\"5265.1\",\"1772.25\",\"44.45\",\"3067.2\",\"20.25\",\"74.35\",\"62.05\",\"3182.95\",\"541.9\",\"971.3\",\"162.45\",\"216.9\",\"245.2\",\"302.75\",\"60.1\",\"78.95\",\"98.5\",\"244.65\",\"2375.4\",\"2431.35\",\"1451.9\",\"71.1\",\"6979.8\",\"1021.8\",\"94\",\"1424.95\",\"193.6\",\"620.55\",\"1993.8\",\"2597.6\",\"1052.35\",\"53.95\",\"829.55\",\"1312.15\",\"69.8\",\"545.15\",\"494.05\",\"2841.55\",\"486.85\",\"204.7\",\"2995.45\",\"137.95\",\"3762\",\"3233.6\",\"5438.9\",\"1081.45\",\"221.9\",\"74.9\",\"58.9\",\"333.55\",\"3171.15\",\"74.7\",\"455.5\",\"3152.5\",\"2530.4\",\"3186.7\",\"35.75\",\"181.6\",\"1539.45\",\"58.15\",\"225.6\",\"340.85\",\"2515.3\",\"305.95\",\"365.4\",\"90.85\",\"69.4\",\"742.95\",\"20.15\",\"4816.7\",\"1834.95\",\"305.1\",\"155.65\",\"108.7\",\"44.1\",\"712.75\",\"6405\",\"1637.4\",\"6145.85\",\"1740.7\",\"552.95\",\"93.7\",\"1046.5\",\"834.2\",\"4134.85\",\"899.8\",\"108.05\",\"70.3\",\"851.75\",\"575.45\",\"1375.15\",\"152.7\",\"195.05\",\"1660\",\"20.2\",\"6981.35\",\"3615.6\",\"2184.35\",\"1852.85\",\"77.15\",\"338.1\",\"3030.6\",\"3124.5\",\"930.45\",\"673.1\",\"208.7\",\"237.75\",\"221.35\",\"75.3\",\"4062.2\",\"4042.3\",\"164.85\",\"70.4\",\"331.3\",\"1147.45\",\"1078.9\",\"7804.15\",\"226.45\",\"4364.1\",\"2433.9\",\"1217.25\",\"1743.5\",\"69.65\",\"713.1\",\"526.7\",\"3021.6\",\"191.35\",\"2718.3\",\"36.45\",\"2001.5\",\"3825.85\",\"933.3\",\"3184.25\",\"764.95\",\"145.4\",\"156.25\",\"1604.5\",\"4533.9\",\"1587.55\",\"842.9\",\"1761.45\",\"164.5\",\"2724.6\",\"318.5\",\"4990.25\",\"3744.05\",\"7220.35\",\"2139.2\",\"521.3\",\"608\",\"577.6\",\"292.85\",\"198\",\"609.9\",\"79.65\",\"2812.2\",\"80.05\",\"2698.35\",\"1465.75\",\"146.3\",\"51.25\",\"45.6\",\"267.35\",\"288.05\",\"853\",\"934.1\",\"1222.8\",\"5293.2\",\"74.45\",\"2345.2\",\"2335.3\",\"1115.15\",\"291.4\",\"453.75\",\"1597.25\",\"235.5\",\"5639.05\",\"799.65\",\"50.8\",\"144.55\",\"2447.95\",\"3050.15\",\"4517.25\",\"19.9\",\"1200.15\",\"70.6\",\"389.6\",\"523.5\",\"2277.65\",\"24.8\",\"6903.1\",\"1008.7\",\"853.1\",\"794.25\",\"160.8\",\"1174.35\",\"741.7\",\"3019.25\",\"4759.75\",\"19.65\",\"84.65\",\"69.55\",\"347.25\",\"354.05\",\"44.35\",\"586.05\",\"3092.65\",\"415.55\",\"73.65\",\"2405.05\",\"4458.15\",\"474.9\",\"668.4\",\"926.25\",\"2541.25\",\"46\",\"1156.1\",\"1167.8\",\"3912.9\",\"221.7\",\"201.1\",\"2838.7\",\"70.15\",\"296.1\",\"81.1\",\"20.55\",\"6428.4\",\"6252.9\",\"240.45\",\"315.3\",\"55.7\",\"973.45\",\"669.85\",\"267.4\",\"69.85\",\"53.55\",\"6579.05\",\"7856\",\"2169.75\",\"896.9\",\"19.3\",\"49.65\",\"2460.15\",\"370.65\",\"1910.6\",\"890.6\",\"529.5\",\"48.6\",\"2109.35\",\"2265.25\",\"220.6\",\"20.2\",\"229.5\",\"2470.1\",\"1244.5\",\"20.05\",\"3994.45\",\"19.9\",\"667.7\",\"19.95\",\"79.6\",\"75.9\",\"76.2\",\"19.25\",\"3588.4\",\"522.95\",\"70.25\",\"865.55\",\"409.9\",\"60\",\"649.65\",\"20.85\",\"2011.4\",\"6205.5\",\"503.6\",\"1152.7\",\"7674.55\",\"2157.95\",\"7548.1\",\"75.7\",\"1951\",\"384.5\",\"3432.9\",\"463.05\",\"2867.75\",\"71.35\",\"1132.35\",\"20.6\",\"1931.75\",\"818.05\",\"916.75\",\"70.15\",\"6581.9\",\"3692.85\",\"69.65\",\"89.3\",\"3078.1\",\"1426.75\",\"474.8\",\"446.1\",\"416.3\",\"35.85\",\"1451.6\",\"71\",\"746.5\",\"44.4\",\"70.3\",\"79.35\",\"809.75\",\"1470.95\",\"3264.45\",\"246.3\",\"1389.2\",\"1474.75\",\"1460.65\",\"153.05\",\"2119.5\",\"135\",\"1400.55\",\"69.65\",\"1060.2\",\"86\",\"5785.5\",\"79.45\",\"2816.65\",\"4783.5\",\"470.6\",\"4740\",\"1448.8\",\"4254.85\",\"1101.85\",\"20.2\",\"3969.35\",\"1237.85\",\"498.1\",\"294.45\",\"2381.55\",\"613.4\",\"442.2\",\"84.85\",\"654.85\",\"3160.55\",\"740.3\",\"2806.9\",\"1422.65\",\"4138.05\",\"102.5\",\"872.65\",\"757.1\",\"608.8\",\"1139.2\",\"279.55\",\"1483.25\",\"4653.85\",\"4400.75\",\"460.25\",\"5485.5\",\"404.2\",\"7176.55\",\"242.95\",\"866.45\",\"2076.2\",\"7299.65\",\"2291.2\",\"7491.75\",\"7723.9\",\"1032\",\"70.75\",\"130.75\",\"2653.65\",\"3457.9\",\"45.3\",\"178.1\",\"480.6\",\"23.45\",\"29.7\",\"6039.9\",\"151.3\",\"55.4\",\"90.6\",\"156.35\",\"2952.85\",\"5916.45\",\"113.35\",\"1359\",\"1777.9\",\"4504.55\",\"259.8\",\"5568.35\",\"2203.65\",\"2369.05\",\"672.55\",\"1573.7\",\"126.05\",\"64.55\",\"3243.45\",\"79.25\",\"44.9\",\"659.65\",\"118.5\",\"3365.85\",\"195.3\",\"997.65\",\"5275.8\",\"80.5\",\"305.55\",\"900.5\",\"3856.75\",\"1625\",\"3959.35\",\"3969.4\",\"470.95\",\"560.6\",\"25.7\",\"506.9\",\"80.35\",\"76.4\",\"514\",\"880.2\",\"69.95\",\"93.3\",\"169.05\",\"35.05\",\"73\",\"2716.3\",\"70.1\",\"142.35\",\"33.2\",\"287.4\",\"2254.2\",\"7752.3\",\"6585.35\",\"19.7\",\"413.65\",\"714.15\",\"2497.2\",\"5643.4\",\"197.7\",\"79.15\",\"655.85\",\"303.15\",\"1574.45\",\"6441.4\",\"49.9\",\"1358.85\",\"2869.85\",\"49.25\",\"5071.05\",\"5769.6\",\"20.3\",\"700.85\",\"181.7\",\"4016.85\",\"74.3\",\"44.65\",\"1095.3\",\"788.8\",\"364.55\",\"20.4\",\"4213.35\",\"7723.7\",\"154.65\",\"7348.8\",\"2954.5\",\"3807.35\",\"3937.45\",\"418.4\",\"50.5\",\"74.4\",\"2587.7\",\"6219.6\",\"4871.05\",\"4398.15\",\"167.3\",\"94.4\",\"55\",\"101.45\",\"350.3\",\"69.5\",\"18.85\",\"69.2\",\"69.65\",\"4086.3\",\"82.3\",\"267.6\",\"1115.2\",\"5435.6\",\"4186.3\",\"25.05\",\"712.85\",\"48.95\",\"45.3\",\"167.3\",\"930.4\",\"5069.65\",\"324.25\",\"156.4\",\"3626.1\",\"7968.85\",\"152.45\",\"1130.85\",\"4323.45\",\"703.55\",\"56.25\",\"2249.95\",\"159.4\",\"68.65\",\"327.45\",\"1369.8\",\"1107.25\",\"70.85\",\"134.7\",\"2978.3\",\"450.8\",\"1215.6\",\"91.7\",\"7432.05\",\"4026.4\",\"25.3\",\"1193.05\",\"20.1\",\"69.9\",\"4528\",\"80.8\",\"118.3\",\"76.45\",\"1094.5\",\"573.75\",\"2274.9\",\"74.5\",\"1068.85\",\"762.25\",\"582.5\",\"2122.05\",\"69.15\",\"723.4\",\"4627.85\",\"289.1\",\"172.85\",\"85.5\",\"1096.25\",\"228\",\"5746.15\",\"209.1\",\"4481\",\"154.85\",\"593.75\",\"3233.85\",\"1062.1\",\"5440.9\",\"235.1\",\"85\",\"3014.65\",\"184.4\",\"2010.55\",\"69.2\",\"2354.8\",\"3473.4\",\"220.1\",\"6876.05\",\"501\",\"20.2\",\"733.35\",\"1334\",\"113.55\",\"1348.9\",\"308.7\",\"438.25\",\"50.35\",\"3147.5\",\"70.3\",\"5617.75\",\"1776.95\",\"2483.05\",\"5224.35\",\"620.35\",\"519.15\",\"1301.7\",\"1129.75\",\"865.8\",\"79.55\",\"6014.85\",\"2368.4\",\"3545.35\",\"1301\",\"372.45\",\"77.75\",\"95.45\",\"1135.7\",\"2319.8\",\"69.7\",\"573.3\",\"99.75\",\"871.4\",\"780.5\",\"365.35\",\"334.65\",\"43.95\",\"45.1\",\"2868.05\",\"449.75\",\"4414.3\",\"3361.05\",\"69.35\",\"4092.85\",\"216.75\",\"69.6\",\"385\",\"30.5\",\"6859.5\",\"5121.3\",\"1127.2\",\"1747.85\",\"2754.45\",\"2196.15\",\"1692.6\",\"20.5\",\"265.35\",\"1836.25\",\"6418.9\",\"679.85\",\"2804.45\",\"778.1\",\"4367.35\",\"2728.6\",\"106.85\",\"130.1\",\"4036.85\",\"256.25\",\"1917.1\",\"74.45\",\"272.15\",\"70.65\",\"727.8\",\"403.35\",\"75.75\",\"6886.25\",\"306.6\"],\"xaxis\":\"x\",\"yaxis\":\"y\",\"type\":\"histogram\"}],                        {\"template\":{\"data\":{\"histogram2dcontour\":[{\"type\":\"histogram2dcontour\",\"colorbar\":{\"outlinewidth\":0,\"ticks\":\"\"},\"colorscale\":[[0.0,\"#0d0887\"],[0.1111111111111111,\"#46039f\"],[0.2222222222222222,\"#7201a8\"],[0.3333333333333333,\"#9c179e\"],[0.4444444444444444,\"#bd3786\"],[0.5555555555555556,\"#d8576b\"],[0.6666666666666666,\"#ed7953\"],[0.7777777777777778,\"#fb9f3a\"],[0.8888888888888888,\"#fdca26\"],[1.0,\"#f0f921\"]]}],\"choropleth\":[{\"type\":\"choropleth\",\"colorbar\":{\"outlinewidth\":0,\"ticks\":\"\"}}],\"histogram2d\":[{\"type\":\"histogram2d\",\"colorbar\":{\"outlinewidth\":0,\"ticks\":\"\"},\"colorscale\":[[0.0,\"#0d0887\"],[0.1111111111111111,\"#46039f\"],[0.2222222222222222,\"#7201a8\"],[0.3333333333333333,\"#9c179e\"],[0.4444444444444444,\"#bd3786\"],[0.5555555555555556,\"#d8576b\"],[0.6666666666666666,\"#ed7953\"],[0.7777777777777778,\"#fb9f3a\"],[0.8888888888888888,\"#fdca26\"],[1.0,\"#f0f921\"]]}],\"heatmap\":[{\"type\":\"heatmap\",\"colorbar\":{\"outlinewidth\":0,\"ticks\":\"\"},\"colorscale\":[[0.0,\"#0d0887\"],[0.1111111111111111,\"#46039f\"],[0.2222222222222222,\"#7201a8\"],[0.3333333333333333,\"#9c179e\"],[0.4444444444444444,\"#bd3786\"],[0.5555555555555556,\"#d8576b\"],[0.6666666666666666,\"#ed7953\"],[0.7777777777777778,\"#fb9f3a\"],[0.8888888888888888,\"#fdca26\"],[1.0,\"#f0f921\"]]}],\"heatmapgl\":[{\"type\":\"heatmapgl\",\"colorbar\":{\"outlinewidth\":0,\"ticks\":\"\"},\"colorscale\":[[0.0,\"#0d0887\"],[0.1111111111111111,\"#46039f\"],[0.2222222222222222,\"#7201a8\"],[0.3333333333333333,\"#9c179e\"],[0.4444444444444444,\"#bd3786\"],[0.5555555555555556,\"#d8576b\"],[0.6666666666666666,\"#ed7953\"],[0.7777777777777778,\"#fb9f3a\"],[0.8888888888888888,\"#fdca26\"],[1.0,\"#f0f921\"]]}],\"contourcarpet\":[{\"type\":\"contourcarpet\",\"colorbar\":{\"outlinewidth\":0,\"ticks\":\"\"}}],\"contour\":[{\"type\":\"contour\",\"colorbar\":{\"outlinewidth\":0,\"ticks\":\"\"},\"colorscale\":[[0.0,\"#0d0887\"],[0.1111111111111111,\"#46039f\"],[0.2222222222222222,\"#7201a8\"],[0.3333333333333333,\"#9c179e\"],[0.4444444444444444,\"#bd3786\"],[0.5555555555555556,\"#d8576b\"],[0.6666666666666666,\"#ed7953\"],[0.7777777777777778,\"#fb9f3a\"],[0.8888888888888888,\"#fdca26\"],[1.0,\"#f0f921\"]]}],\"surface\":[{\"type\":\"surface\",\"colorbar\":{\"outlinewidth\":0,\"ticks\":\"\"},\"colorscale\":[[0.0,\"#0d0887\"],[0.1111111111111111,\"#46039f\"],[0.2222222222222222,\"#7201a8\"],[0.3333333333333333,\"#9c179e\"],[0.4444444444444444,\"#bd3786\"],[0.5555555555555556,\"#d8576b\"],[0.6666666666666666,\"#ed7953\"],[0.7777777777777778,\"#fb9f3a\"],[0.8888888888888888,\"#fdca26\"],[1.0,\"#f0f921\"]]}],\"mesh3d\":[{\"type\":\"mesh3d\",\"colorbar\":{\"outlinewidth\":0,\"ticks\":\"\"}}],\"scatter\":[{\"fillpattern\":{\"fillmode\":\"overlay\",\"size\":10,\"solidity\":0.2},\"type\":\"scatter\"}],\"parcoords\":[{\"type\":\"parcoords\",\"line\":{\"colorbar\":{\"outlinewidth\":0,\"ticks\":\"\"}}}],\"scatterpolargl\":[{\"type\":\"scatterpolargl\",\"marker\":{\"colorbar\":{\"outlinewidth\":0,\"ticks\":\"\"}}}],\"bar\":[{\"error_x\":{\"color\":\"#2a3f5f\"},\"error_y\":{\"color\":\"#2a3f5f\"},\"marker\":{\"line\":{\"color\":\"#E5ECF6\",\"width\":0.5},\"pattern\":{\"fillmode\":\"overlay\",\"size\":10,\"solidity\":0.2}},\"type\":\"bar\"}],\"scattergeo\":[{\"type\":\"scattergeo\",\"marker\":{\"colorbar\":{\"outlinewidth\":0,\"ticks\":\"\"}}}],\"scatterpolar\":[{\"type\":\"scatterpolar\",\"marker\":{\"colorbar\":{\"outlinewidth\":0,\"ticks\":\"\"}}}],\"histogram\":[{\"marker\":{\"pattern\":{\"fillmode\":\"overlay\",\"size\":10,\"solidity\":0.2}},\"type\":\"histogram\"}],\"scattergl\":[{\"type\":\"scattergl\",\"marker\":{\"colorbar\":{\"outlinewidth\":0,\"ticks\":\"\"}}}],\"scatter3d\":[{\"type\":\"scatter3d\",\"line\":{\"colorbar\":{\"outlinewidth\":0,\"ticks\":\"\"}},\"marker\":{\"colorbar\":{\"outlinewidth\":0,\"ticks\":\"\"}}}],\"scattermapbox\":[{\"type\":\"scattermapbox\",\"marker\":{\"colorbar\":{\"outlinewidth\":0,\"ticks\":\"\"}}}],\"scatterternary\":[{\"type\":\"scatterternary\",\"marker\":{\"colorbar\":{\"outlinewidth\":0,\"ticks\":\"\"}}}],\"scattercarpet\":[{\"type\":\"scattercarpet\",\"marker\":{\"colorbar\":{\"outlinewidth\":0,\"ticks\":\"\"}}}],\"carpet\":[{\"aaxis\":{\"endlinecolor\":\"#2a3f5f\",\"gridcolor\":\"white\",\"linecolor\":\"white\",\"minorgridcolor\":\"white\",\"startlinecolor\":\"#2a3f5f\"},\"baxis\":{\"endlinecolor\":\"#2a3f5f\",\"gridcolor\":\"white\",\"linecolor\":\"white\",\"minorgridcolor\":\"white\",\"startlinecolor\":\"#2a3f5f\"},\"type\":\"carpet\"}],\"table\":[{\"cells\":{\"fill\":{\"color\":\"#EBF0F8\"},\"line\":{\"color\":\"white\"}},\"header\":{\"fill\":{\"color\":\"#C8D4E3\"},\"line\":{\"color\":\"white\"}},\"type\":\"table\"}],\"barpolar\":[{\"marker\":{\"line\":{\"color\":\"#E5ECF6\",\"width\":0.5},\"pattern\":{\"fillmode\":\"overlay\",\"size\":10,\"solidity\":0.2}},\"type\":\"barpolar\"}],\"pie\":[{\"automargin\":true,\"type\":\"pie\"}]},\"layout\":{\"autotypenumbers\":\"strict\",\"colorway\":[\"#636efa\",\"#EF553B\",\"#00cc96\",\"#ab63fa\",\"#FFA15A\",\"#19d3f3\",\"#FF6692\",\"#B6E880\",\"#FF97FF\",\"#FECB52\"],\"font\":{\"color\":\"#2a3f5f\"},\"hovermode\":\"closest\",\"hoverlabel\":{\"align\":\"left\"},\"paper_bgcolor\":\"white\",\"plot_bgcolor\":\"#E5ECF6\",\"polar\":{\"bgcolor\":\"#E5ECF6\",\"angularaxis\":{\"gridcolor\":\"white\",\"linecolor\":\"white\",\"ticks\":\"\"},\"radialaxis\":{\"gridcolor\":\"white\",\"linecolor\":\"white\",\"ticks\":\"\"}},\"ternary\":{\"bgcolor\":\"#E5ECF6\",\"aaxis\":{\"gridcolor\":\"white\",\"linecolor\":\"white\",\"ticks\":\"\"},\"baxis\":{\"gridcolor\":\"white\",\"linecolor\":\"white\",\"ticks\":\"\"},\"caxis\":{\"gridcolor\":\"white\",\"linecolor\":\"white\",\"ticks\":\"\"}},\"coloraxis\":{\"colorbar\":{\"outlinewidth\":0,\"ticks\":\"\"}},\"colorscale\":{\"sequential\":[[0.0,\"#0d0887\"],[0.1111111111111111,\"#46039f\"],[0.2222222222222222,\"#7201a8\"],[0.3333333333333333,\"#9c179e\"],[0.4444444444444444,\"#bd3786\"],[0.5555555555555556,\"#d8576b\"],[0.6666666666666666,\"#ed7953\"],[0.7777777777777778,\"#fb9f3a\"],[0.8888888888888888,\"#fdca26\"],[1.0,\"#f0f921\"]],\"sequentialminus\":[[0.0,\"#0d0887\"],[0.1111111111111111,\"#46039f\"],[0.2222222222222222,\"#7201a8\"],[0.3333333333333333,\"#9c179e\"],[0.4444444444444444,\"#bd3786\"],[0.5555555555555556,\"#d8576b\"],[0.6666666666666666,\"#ed7953\"],[0.7777777777777778,\"#fb9f3a\"],[0.8888888888888888,\"#fdca26\"],[1.0,\"#f0f921\"]],\"diverging\":[[0,\"#8e0152\"],[0.1,\"#c51b7d\"],[0.2,\"#de77ae\"],[0.3,\"#f1b6da\"],[0.4,\"#fde0ef\"],[0.5,\"#f7f7f7\"],[0.6,\"#e6f5d0\"],[0.7,\"#b8e186\"],[0.8,\"#7fbc41\"],[0.9,\"#4d9221\"],[1,\"#276419\"]]},\"xaxis\":{\"gridcolor\":\"white\",\"linecolor\":\"white\",\"ticks\":\"\",\"title\":{\"standoff\":15},\"zerolinecolor\":\"white\",\"automargin\":true,\"zerolinewidth\":2},\"yaxis\":{\"gridcolor\":\"white\",\"linecolor\":\"white\",\"ticks\":\"\",\"title\":{\"standoff\":15},\"zerolinecolor\":\"white\",\"automargin\":true,\"zerolinewidth\":2},\"scene\":{\"xaxis\":{\"backgroundcolor\":\"#E5ECF6\",\"gridcolor\":\"white\",\"linecolor\":\"white\",\"showbackground\":true,\"ticks\":\"\",\"zerolinecolor\":\"white\",\"gridwidth\":2},\"yaxis\":{\"backgroundcolor\":\"#E5ECF6\",\"gridcolor\":\"white\",\"linecolor\":\"white\",\"showbackground\":true,\"ticks\":\"\",\"zerolinecolor\":\"white\",\"gridwidth\":2},\"zaxis\":{\"backgroundcolor\":\"#E5ECF6\",\"gridcolor\":\"white\",\"linecolor\":\"white\",\"showbackground\":true,\"ticks\":\"\",\"zerolinecolor\":\"white\",\"gridwidth\":2}},\"shapedefaults\":{\"line\":{\"color\":\"#2a3f5f\"}},\"annotationdefaults\":{\"arrowcolor\":\"#2a3f5f\",\"arrowhead\":0,\"arrowwidth\":1},\"geo\":{\"bgcolor\":\"white\",\"landcolor\":\"#E5ECF6\",\"subunitcolor\":\"white\",\"showland\":true,\"showlakes\":true,\"lakecolor\":\"white\"},\"title\":{\"x\":0.05},\"mapbox\":{\"style\":\"light\"}}},\"xaxis\":{\"anchor\":\"y\",\"domain\":[0.0,1.0],\"title\":{\"text\":\"TotalCharges\"}},\"yaxis\":{\"anchor\":\"x\",\"domain\":[0.0,1.0],\"title\":{\"text\":\"count\"}},\"legend\":{\"title\":{\"text\":\"Churn\"},\"tracegroupgap\":0},\"margin\":{\"t\":60},\"barmode\":\"relative\",\"title\":{\"text\":\"Churn Rate by Gender\"}},                        {\"responsive\": true}                    ).then(function(){\n",
              "                            \n",
              "var gd = document.getElementById('322ef568-0eaf-4be4-a630-e1ccd17e891e');\n",
              "var x = new MutationObserver(function (mutations, observer) {{\n",
              "        var display = window.getComputedStyle(gd).display;\n",
              "        if (!display || display === 'none') {{\n",
              "            console.log([gd, 'removed!']);\n",
              "            Plotly.purge(gd);\n",
              "            observer.disconnect();\n",
              "        }}\n",
              "}});\n",
              "\n",
              "// Listen for the removal of the full notebook cells\n",
              "var notebookContainer = gd.closest('#notebook-container');\n",
              "if (notebookContainer) {{\n",
              "    x.observe(notebookContainer, {childList: true});\n",
              "}}\n",
              "\n",
              "// Listen for the clearing of the current output cell\n",
              "var outputEl = gd.closest('.output');\n",
              "if (outputEl) {{\n",
              "    x.observe(outputEl, {childList: true});\n",
              "}}\n",
              "\n",
              "                        })                };                            </script>        </div>\n",
              "</body>\n",
              "</html>"
            ]
          },
          "metadata": {}
        }
      ]
    },
    {
      "cell_type": "code",
      "source": [
        "df['TotalCharges'] = pd.to_numeric(df['TotalCharges'], errors='coerce')"
      ],
      "metadata": {
        "id": "Ht9crzhanfEj"
      },
      "execution_count": null,
      "outputs": []
    },
    {
      "cell_type": "code",
      "source": [
        "print(df['TotalCharges'].isnull().sum())"
      ],
      "metadata": {
        "colab": {
          "base_uri": "https://localhost:8080/"
        },
        "id": "XjPww4Q7oArn",
        "outputId": "a1ffd707-ebb9-4c99-f67d-147d6ecea0d3"
      },
      "execution_count": null,
      "outputs": [
        {
          "output_type": "stream",
          "name": "stdout",
          "text": [
            "11\n"
          ]
        }
      ]
    },
    {
      "cell_type": "code",
      "source": [
        "df.dropna(subset=['TotalCharges'], inplace=True)\n",
        "len(df)"
      ],
      "metadata": {
        "colab": {
          "base_uri": "https://localhost:8080/"
        },
        "id": "asmY1K8tq4Y7",
        "outputId": "3245308c-57dc-41d8-ac4c-e21fd507056c"
      },
      "execution_count": null,
      "outputs": [
        {
          "output_type": "execute_result",
          "data": {
            "text/plain": [
              "7032"
            ]
          },
          "metadata": {},
          "execution_count": 19
        }
      ]
    },
    {
      "cell_type": "markdown",
      "source": [
        "**One Hot Encoding**\n",
        "\n",
        "*   Applying pandas get_dummies for one-hot encoding\n",
        "*   Categorical columns: InternetService, Contract, PaymentMethod\n",
        "\n"
      ],
      "metadata": {
        "id": "_-Ze_UtkLehV"
      }
    },
    {
      "cell_type": "code",
      "source": [
        "cat_cols = ['InternetService', 'Contract', 'PaymentMethod']"
      ],
      "metadata": {
        "id": "uWEYqAoM23d4"
      },
      "execution_count": null,
      "outputs": []
    },
    {
      "cell_type": "code",
      "source": [
        "df = pd.get_dummies(df, columns=cat_cols)"
      ],
      "metadata": {
        "id": "b6skmsSn3Kiw"
      },
      "execution_count": null,
      "outputs": []
    },
    {
      "cell_type": "markdown",
      "source": [
        "**Scaling**\n",
        "\n",
        "\n",
        "*   applying MinMax Scaling on the numerical column\n",
        "*   Numerical columns: MonthlyCharges, TotalCharges, tenure\n",
        "\n"
      ],
      "metadata": {
        "id": "WZuc6EbiK31k"
      }
    },
    {
      "cell_type": "code",
      "source": [
        "num_cols = ['tenure', 'MonthlyCharges', 'TotalCharges']"
      ],
      "metadata": {
        "id": "OHi7FoAO4Hiv"
      },
      "execution_count": null,
      "outputs": []
    },
    {
      "cell_type": "code",
      "source": [
        "from sklearn.preprocessing import MinMaxScaler\n",
        "\n",
        "scaler = MinMaxScaler()\n",
        "df[num_cols] = scaler.fit_transform(df[num_cols])"
      ],
      "metadata": {
        "id": "amgzmMbj5eOO"
      },
      "execution_count": null,
      "outputs": []
    },
    {
      "cell_type": "code",
      "source": [
        "input_cols = df.columns.tolist()\n",
        "input_cols.remove('Churn')\n",
        "target_col = 'Churn'"
      ],
      "metadata": {
        "id": "WSLNqkRq57cg"
      },
      "execution_count": null,
      "outputs": []
    },
    {
      "cell_type": "markdown",
      "source": [
        "**Train-Test Split**\n",
        "\n",
        "*   using 20% of the data as *test*\n",
        "\n"
      ],
      "metadata": {
        "id": "dTJnHP1bKmJv"
      }
    },
    {
      "cell_type": "code",
      "source": [
        "from sklearn.model_selection import train_test_split\n",
        "\n",
        "x = df[input_cols]\n",
        "y = df[target_col]\n",
        "\n",
        "x_train, x_test, y_train, y_test = train_test_split(x, y, test_size=0.2, random_state=42)"
      ],
      "metadata": {
        "id": "2b_pHTh66Wgj"
      },
      "execution_count": null,
      "outputs": []
    },
    {
      "cell_type": "code",
      "source": [
        "x_test.shape"
      ],
      "metadata": {
        "colab": {
          "base_uri": "https://localhost:8080/"
        },
        "id": "jRliCuqc6smZ",
        "outputId": "e7df7bc2-46b4-490e-b045-9941b360cc74"
      },
      "execution_count": null,
      "outputs": [
        {
          "output_type": "execute_result",
          "data": {
            "text/plain": [
              "(1407, 26)"
            ]
          },
          "metadata": {},
          "execution_count": 26
        }
      ]
    },
    {
      "cell_type": "markdown",
      "source": [
        "**Creation of Model**\n",
        "\n",
        "\n",
        "*   A dense neural network has been created\n",
        "*   It has a hidden layer and using relu, sigmoid as activation fucntion\n",
        "\n"
      ],
      "metadata": {
        "id": "RAI2i8tkKB7X"
      }
    },
    {
      "cell_type": "code",
      "source": [
        "import tensorflow as tf\n",
        "from tensorflow import keras"
      ],
      "metadata": {
        "id": "sLHFtiwu623l"
      },
      "execution_count": null,
      "outputs": []
    },
    {
      "cell_type": "code",
      "source": [
        "model = keras.Sequential([\n",
        "    keras.layers.Dense(16, input_shape=(x_train.shape[1],), activation='relu'),\n",
        "    keras.layers.Dense(8, activation='relu'),\n",
        "    keras.layers.Dense(1, activation='sigmoid')\n",
        "])\n",
        "\n",
        "\n",
        "model.compile(optimizer='adam', loss='binary_crossentropy', metrics=['accuracy'])\n",
        "\n",
        "model.fit(x_train, y_train, epochs=100)"
      ],
      "metadata": {
        "colab": {
          "base_uri": "https://localhost:8080/"
        },
        "collapsed": true,
        "id": "-nT-s0Yy6-Qe",
        "outputId": "7bea85b3-38ae-47ea-95f5-49c0b06a8932"
      },
      "execution_count": null,
      "outputs": [
        {
          "output_type": "stream",
          "name": "stdout",
          "text": [
            "Epoch 1/100\n"
          ]
        },
        {
          "output_type": "stream",
          "name": "stderr",
          "text": [
            "/usr/local/lib/python3.11/dist-packages/keras/src/layers/core/dense.py:87: UserWarning:\n",
            "\n",
            "Do not pass an `input_shape`/`input_dim` argument to a layer. When using Sequential models, prefer using an `Input(shape)` object as the first layer in the model instead.\n",
            "\n"
          ]
        },
        {
          "output_type": "stream",
          "name": "stdout",
          "text": [
            "\u001b[1m176/176\u001b[0m \u001b[32m━━━━━━━━━━━━━━━━━━━━\u001b[0m\u001b[37m\u001b[0m \u001b[1m2s\u001b[0m 2ms/step - accuracy: 0.7344 - loss: 0.5426\n",
            "Epoch 2/100\n",
            "\u001b[1m176/176\u001b[0m \u001b[32m━━━━━━━━━━━━━━━━━━━━\u001b[0m\u001b[37m\u001b[0m \u001b[1m1s\u001b[0m 2ms/step - accuracy: 0.7859 - loss: 0.4484\n",
            "Epoch 3/100\n",
            "\u001b[1m176/176\u001b[0m \u001b[32m━━━━━━━━━━━━━━━━━━━━\u001b[0m\u001b[37m\u001b[0m \u001b[1m1s\u001b[0m 2ms/step - accuracy: 0.7965 - loss: 0.4221\n",
            "Epoch 4/100\n",
            "\u001b[1m176/176\u001b[0m \u001b[32m━━━━━━━━━━━━━━━━━━━━\u001b[0m\u001b[37m\u001b[0m \u001b[1m1s\u001b[0m 3ms/step - accuracy: 0.7993 - loss: 0.4175\n",
            "Epoch 5/100\n",
            "\u001b[1m176/176\u001b[0m \u001b[32m━━━━━━━━━━━━━━━━━━━━\u001b[0m\u001b[37m\u001b[0m \u001b[1m1s\u001b[0m 4ms/step - accuracy: 0.8084 - loss: 0.4105\n",
            "Epoch 6/100\n",
            "\u001b[1m176/176\u001b[0m \u001b[32m━━━━━━━━━━━━━━━━━━━━\u001b[0m\u001b[37m\u001b[0m \u001b[1m1s\u001b[0m 4ms/step - accuracy: 0.8083 - loss: 0.4137\n",
            "Epoch 7/100\n",
            "\u001b[1m176/176\u001b[0m \u001b[32m━━━━━━━━━━━━━━━━━━━━\u001b[0m\u001b[37m\u001b[0m \u001b[1m1s\u001b[0m 4ms/step - accuracy: 0.8037 - loss: 0.4202\n",
            "Epoch 8/100\n",
            "\u001b[1m176/176\u001b[0m \u001b[32m━━━━━━━━━━━━━━━━━━━━\u001b[0m\u001b[37m\u001b[0m \u001b[1m1s\u001b[0m 5ms/step - accuracy: 0.8139 - loss: 0.3983\n",
            "Epoch 9/100\n",
            "\u001b[1m176/176\u001b[0m \u001b[32m━━━━━━━━━━━━━━━━━━━━\u001b[0m\u001b[37m\u001b[0m \u001b[1m2s\u001b[0m 9ms/step - accuracy: 0.8085 - loss: 0.4131\n",
            "Epoch 10/100\n",
            "\u001b[1m176/176\u001b[0m \u001b[32m━━━━━━━━━━━━━━━━━━━━\u001b[0m\u001b[37m\u001b[0m \u001b[1m2s\u001b[0m 6ms/step - accuracy: 0.8044 - loss: 0.4156\n",
            "Epoch 11/100\n",
            "\u001b[1m176/176\u001b[0m \u001b[32m━━━━━━━━━━━━━━━━━━━━\u001b[0m\u001b[37m\u001b[0m \u001b[1m1s\u001b[0m 4ms/step - accuracy: 0.7981 - loss: 0.4135\n",
            "Epoch 12/100\n",
            "\u001b[1m176/176\u001b[0m \u001b[32m━━━━━━━━━━━━━━━━━━━━\u001b[0m\u001b[37m\u001b[0m \u001b[1m2s\u001b[0m 9ms/step - accuracy: 0.8074 - loss: 0.4050\n",
            "Epoch 13/100\n",
            "\u001b[1m176/176\u001b[0m \u001b[32m━━━━━━━━━━━━━━━━━━━━\u001b[0m\u001b[37m\u001b[0m \u001b[1m2s\u001b[0m 5ms/step - accuracy: 0.8133 - loss: 0.3960\n",
            "Epoch 14/100\n",
            "\u001b[1m176/176\u001b[0m \u001b[32m━━━━━━━━━━━━━━━━━━━━\u001b[0m\u001b[37m\u001b[0m \u001b[1m2s\u001b[0m 7ms/step - accuracy: 0.8001 - loss: 0.4113\n",
            "Epoch 15/100\n",
            "\u001b[1m176/176\u001b[0m \u001b[32m━━━━━━━━━━━━━━━━━━━━\u001b[0m\u001b[37m\u001b[0m \u001b[1m2s\u001b[0m 4ms/step - accuracy: 0.8119 - loss: 0.4046\n",
            "Epoch 16/100\n",
            "\u001b[1m176/176\u001b[0m \u001b[32m━━━━━━━━━━━━━━━━━━━━\u001b[0m\u001b[37m\u001b[0m \u001b[1m2s\u001b[0m 7ms/step - accuracy: 0.8093 - loss: 0.4028\n",
            "Epoch 17/100\n",
            "\u001b[1m176/176\u001b[0m \u001b[32m━━━━━━━━━━━━━━━━━━━━\u001b[0m\u001b[37m\u001b[0m \u001b[1m2s\u001b[0m 2ms/step - accuracy: 0.8089 - loss: 0.3982\n",
            "Epoch 18/100\n",
            "\u001b[1m176/176\u001b[0m \u001b[32m━━━━━━━━━━━━━━━━━━━━\u001b[0m\u001b[37m\u001b[0m \u001b[1m1s\u001b[0m 2ms/step - accuracy: 0.8039 - loss: 0.4077\n",
            "Epoch 19/100\n",
            "\u001b[1m176/176\u001b[0m \u001b[32m━━━━━━━━━━━━━━━━━━━━\u001b[0m\u001b[37m\u001b[0m \u001b[1m0s\u001b[0m 2ms/step - accuracy: 0.8236 - loss: 0.3947\n",
            "Epoch 20/100\n",
            "\u001b[1m176/176\u001b[0m \u001b[32m━━━━━━━━━━━━━━━━━━━━\u001b[0m\u001b[37m\u001b[0m \u001b[1m1s\u001b[0m 2ms/step - accuracy: 0.8094 - loss: 0.4046\n",
            "Epoch 21/100\n",
            "\u001b[1m176/176\u001b[0m \u001b[32m━━━━━━━━━━━━━━━━━━━━\u001b[0m\u001b[37m\u001b[0m \u001b[1m1s\u001b[0m 2ms/step - accuracy: 0.8164 - loss: 0.4020\n",
            "Epoch 22/100\n",
            "\u001b[1m176/176\u001b[0m \u001b[32m━━━━━━━━━━━━━━━━━━━━\u001b[0m\u001b[37m\u001b[0m \u001b[1m1s\u001b[0m 2ms/step - accuracy: 0.8110 - loss: 0.4019\n",
            "Epoch 23/100\n",
            "\u001b[1m176/176\u001b[0m \u001b[32m━━━━━━━━━━━━━━━━━━━━\u001b[0m\u001b[37m\u001b[0m \u001b[1m1s\u001b[0m 2ms/step - accuracy: 0.8173 - loss: 0.3956\n",
            "Epoch 24/100\n",
            "\u001b[1m176/176\u001b[0m \u001b[32m━━━━━━━━━━━━━━━━━━━━\u001b[0m\u001b[37m\u001b[0m \u001b[1m0s\u001b[0m 2ms/step - accuracy: 0.8059 - loss: 0.4108\n",
            "Epoch 25/100\n",
            "\u001b[1m176/176\u001b[0m \u001b[32m━━━━━━━━━━━━━━━━━━━━\u001b[0m\u001b[37m\u001b[0m \u001b[1m1s\u001b[0m 2ms/step - accuracy: 0.8194 - loss: 0.3940\n",
            "Epoch 26/100\n",
            "\u001b[1m176/176\u001b[0m \u001b[32m━━━━━━━━━━━━━━━━━━━━\u001b[0m\u001b[37m\u001b[0m \u001b[1m1s\u001b[0m 2ms/step - accuracy: 0.8201 - loss: 0.3869\n",
            "Epoch 27/100\n",
            "\u001b[1m176/176\u001b[0m \u001b[32m━━━━━━━━━━━━━━━━━━━━\u001b[0m\u001b[37m\u001b[0m \u001b[1m1s\u001b[0m 2ms/step - accuracy: 0.8109 - loss: 0.4027\n",
            "Epoch 28/100\n",
            "\u001b[1m176/176\u001b[0m \u001b[32m━━━━━━━━━━━━━━━━━━━━\u001b[0m\u001b[37m\u001b[0m \u001b[1m1s\u001b[0m 2ms/step - accuracy: 0.8134 - loss: 0.3973\n",
            "Epoch 29/100\n",
            "\u001b[1m176/176\u001b[0m \u001b[32m━━━━━━━━━━━━━━━━━━━━\u001b[0m\u001b[37m\u001b[0m \u001b[1m1s\u001b[0m 2ms/step - accuracy: 0.8183 - loss: 0.3901\n",
            "Epoch 30/100\n",
            "\u001b[1m176/176\u001b[0m \u001b[32m━━━━━━━━━━━━━━━━━━━━\u001b[0m\u001b[37m\u001b[0m \u001b[1m1s\u001b[0m 2ms/step - accuracy: 0.8204 - loss: 0.3901\n",
            "Epoch 31/100\n",
            "\u001b[1m176/176\u001b[0m \u001b[32m━━━━━━━━━━━━━━━━━━━━\u001b[0m\u001b[37m\u001b[0m \u001b[1m1s\u001b[0m 2ms/step - accuracy: 0.8164 - loss: 0.3869\n",
            "Epoch 32/100\n",
            "\u001b[1m176/176\u001b[0m \u001b[32m━━━━━━━━━━━━━━━━━━━━\u001b[0m\u001b[37m\u001b[0m \u001b[1m0s\u001b[0m 2ms/step - accuracy: 0.8094 - loss: 0.3964\n",
            "Epoch 33/100\n",
            "\u001b[1m176/176\u001b[0m \u001b[32m━━━━━━━━━━━━━━━━━━━━\u001b[0m\u001b[37m\u001b[0m \u001b[1m1s\u001b[0m 2ms/step - accuracy: 0.8144 - loss: 0.3916\n",
            "Epoch 34/100\n",
            "\u001b[1m176/176\u001b[0m \u001b[32m━━━━━━━━━━━━━━━━━━━━\u001b[0m\u001b[37m\u001b[0m \u001b[1m1s\u001b[0m 3ms/step - accuracy: 0.8056 - loss: 0.4011\n",
            "Epoch 35/100\n",
            "\u001b[1m176/176\u001b[0m \u001b[32m━━━━━━━━━━━━━━━━━━━━\u001b[0m\u001b[37m\u001b[0m \u001b[1m1s\u001b[0m 3ms/step - accuracy: 0.8194 - loss: 0.3893\n",
            "Epoch 36/100\n",
            "\u001b[1m176/176\u001b[0m \u001b[32m━━━━━━━━━━━━━━━━━━━━\u001b[0m\u001b[37m\u001b[0m \u001b[1m1s\u001b[0m 3ms/step - accuracy: 0.8208 - loss: 0.3938\n",
            "Epoch 37/100\n",
            "\u001b[1m176/176\u001b[0m \u001b[32m━━━━━━━━━━━━━━━━━━━━\u001b[0m\u001b[37m\u001b[0m \u001b[1m1s\u001b[0m 3ms/step - accuracy: 0.8192 - loss: 0.3888\n",
            "Epoch 38/100\n",
            "\u001b[1m176/176\u001b[0m \u001b[32m━━━━━━━━━━━━━━━━━━━━\u001b[0m\u001b[37m\u001b[0m \u001b[1m1s\u001b[0m 2ms/step - accuracy: 0.8150 - loss: 0.3918\n",
            "Epoch 39/100\n",
            "\u001b[1m176/176\u001b[0m \u001b[32m━━━━━━━━━━━━━━━━━━━━\u001b[0m\u001b[37m\u001b[0m \u001b[1m1s\u001b[0m 2ms/step - accuracy: 0.8178 - loss: 0.3934\n",
            "Epoch 40/100\n",
            "\u001b[1m176/176\u001b[0m \u001b[32m━━━━━━━━━━━━━━━━━━━━\u001b[0m\u001b[37m\u001b[0m \u001b[1m0s\u001b[0m 2ms/step - accuracy: 0.8236 - loss: 0.3765\n",
            "Epoch 41/100\n",
            "\u001b[1m176/176\u001b[0m \u001b[32m━━━━━━━━━━━━━━━━━━━━\u001b[0m\u001b[37m\u001b[0m \u001b[1m1s\u001b[0m 2ms/step - accuracy: 0.8263 - loss: 0.3747\n",
            "Epoch 42/100\n",
            "\u001b[1m176/176\u001b[0m \u001b[32m━━━━━━━━━━━━━━━━━━━━\u001b[0m\u001b[37m\u001b[0m \u001b[1m0s\u001b[0m 2ms/step - accuracy: 0.8272 - loss: 0.3752\n",
            "Epoch 43/100\n",
            "\u001b[1m176/176\u001b[0m \u001b[32m━━━━━━━━━━━━━━━━━━━━\u001b[0m\u001b[37m\u001b[0m \u001b[1m1s\u001b[0m 2ms/step - accuracy: 0.8208 - loss: 0.3842\n",
            "Epoch 44/100\n",
            "\u001b[1m176/176\u001b[0m \u001b[32m━━━━━━━━━━━━━━━━━━━━\u001b[0m\u001b[37m\u001b[0m \u001b[1m1s\u001b[0m 2ms/step - accuracy: 0.8084 - loss: 0.3985\n",
            "Epoch 45/100\n",
            "\u001b[1m176/176\u001b[0m \u001b[32m━━━━━━━━━━━━━━━━━━━━\u001b[0m\u001b[37m\u001b[0m \u001b[1m1s\u001b[0m 2ms/step - accuracy: 0.8117 - loss: 0.3970\n",
            "Epoch 46/100\n",
            "\u001b[1m176/176\u001b[0m \u001b[32m━━━━━━━━━━━━━━━━━━━━\u001b[0m\u001b[37m\u001b[0m \u001b[1m1s\u001b[0m 2ms/step - accuracy: 0.8173 - loss: 0.3905\n",
            "Epoch 47/100\n",
            "\u001b[1m176/176\u001b[0m \u001b[32m━━━━━━━━━━━━━━━━━━━━\u001b[0m\u001b[37m\u001b[0m \u001b[1m1s\u001b[0m 2ms/step - accuracy: 0.8205 - loss: 0.3884\n",
            "Epoch 48/100\n",
            "\u001b[1m176/176\u001b[0m \u001b[32m━━━━━━━━━━━━━━━━━━━━\u001b[0m\u001b[37m\u001b[0m \u001b[1m1s\u001b[0m 2ms/step - accuracy: 0.8157 - loss: 0.3841\n",
            "Epoch 49/100\n",
            "\u001b[1m176/176\u001b[0m \u001b[32m━━━━━━━━━━━━━━━━━━━━\u001b[0m\u001b[37m\u001b[0m \u001b[1m1s\u001b[0m 2ms/step - accuracy: 0.8081 - loss: 0.3911\n",
            "Epoch 50/100\n",
            "\u001b[1m176/176\u001b[0m \u001b[32m━━━━━━━━━━━━━━━━━━━━\u001b[0m\u001b[37m\u001b[0m \u001b[1m0s\u001b[0m 2ms/step - accuracy: 0.8268 - loss: 0.3777\n",
            "Epoch 51/100\n",
            "\u001b[1m176/176\u001b[0m \u001b[32m━━━━━━━━━━━━━━━━━━━━\u001b[0m\u001b[37m\u001b[0m \u001b[1m1s\u001b[0m 2ms/step - accuracy: 0.8233 - loss: 0.3738\n",
            "Epoch 52/100\n",
            "\u001b[1m176/176\u001b[0m \u001b[32m━━━━━━━━━━━━━━━━━━━━\u001b[0m\u001b[37m\u001b[0m \u001b[1m1s\u001b[0m 2ms/step - accuracy: 0.8152 - loss: 0.3988\n",
            "Epoch 53/100\n",
            "\u001b[1m176/176\u001b[0m \u001b[32m━━━━━━━━━━━━━━━━━━━━\u001b[0m\u001b[37m\u001b[0m \u001b[1m1s\u001b[0m 2ms/step - accuracy: 0.8144 - loss: 0.3989\n",
            "Epoch 54/100\n",
            "\u001b[1m176/176\u001b[0m \u001b[32m━━━━━━━━━━━━━━━━━━━━\u001b[0m\u001b[37m\u001b[0m \u001b[1m1s\u001b[0m 3ms/step - accuracy: 0.8166 - loss: 0.3841\n",
            "Epoch 55/100\n",
            "\u001b[1m176/176\u001b[0m \u001b[32m━━━━━━━━━━━━━━━━━━━━\u001b[0m\u001b[37m\u001b[0m \u001b[1m1s\u001b[0m 3ms/step - accuracy: 0.8151 - loss: 0.3822\n",
            "Epoch 56/100\n",
            "\u001b[1m176/176\u001b[0m \u001b[32m━━━━━━━━━━━━━━━━━━━━\u001b[0m\u001b[37m\u001b[0m \u001b[1m1s\u001b[0m 3ms/step - accuracy: 0.8290 - loss: 0.3742\n",
            "Epoch 57/100\n",
            "\u001b[1m176/176\u001b[0m \u001b[32m━━━━━━━━━━━━━━━━━━━━\u001b[0m\u001b[37m\u001b[0m \u001b[1m1s\u001b[0m 3ms/step - accuracy: 0.8210 - loss: 0.3874\n",
            "Epoch 58/100\n",
            "\u001b[1m176/176\u001b[0m \u001b[32m━━━━━━━━━━━━━━━━━━━━\u001b[0m\u001b[37m\u001b[0m \u001b[1m1s\u001b[0m 2ms/step - accuracy: 0.8267 - loss: 0.3820\n",
            "Epoch 59/100\n",
            "\u001b[1m176/176\u001b[0m \u001b[32m━━━━━━━━━━━━━━━━━━━━\u001b[0m\u001b[37m\u001b[0m \u001b[1m1s\u001b[0m 2ms/step - accuracy: 0.8269 - loss: 0.3761\n",
            "Epoch 60/100\n",
            "\u001b[1m176/176\u001b[0m \u001b[32m━━━━━━━━━━━━━━━━━━━━\u001b[0m\u001b[37m\u001b[0m \u001b[1m1s\u001b[0m 2ms/step - accuracy: 0.8245 - loss: 0.3804\n",
            "Epoch 61/100\n",
            "\u001b[1m176/176\u001b[0m \u001b[32m━━━━━━━━━━━━━━━━━━━━\u001b[0m\u001b[37m\u001b[0m \u001b[1m1s\u001b[0m 2ms/step - accuracy: 0.8274 - loss: 0.3733\n",
            "Epoch 62/100\n",
            "\u001b[1m176/176\u001b[0m \u001b[32m━━━━━━━━━━━━━━━━━━━━\u001b[0m\u001b[37m\u001b[0m \u001b[1m0s\u001b[0m 2ms/step - accuracy: 0.8257 - loss: 0.3673\n",
            "Epoch 63/100\n",
            "\u001b[1m176/176\u001b[0m \u001b[32m━━━━━━━━━━━━━━━━━━━━\u001b[0m\u001b[37m\u001b[0m \u001b[1m1s\u001b[0m 2ms/step - accuracy: 0.8264 - loss: 0.3821\n",
            "Epoch 64/100\n",
            "\u001b[1m176/176\u001b[0m \u001b[32m━━━━━━━━━━━━━━━━━━━━\u001b[0m\u001b[37m\u001b[0m \u001b[1m1s\u001b[0m 2ms/step - accuracy: 0.8236 - loss: 0.3815\n",
            "Epoch 65/100\n",
            "\u001b[1m176/176\u001b[0m \u001b[32m━━━━━━━━━━━━━━━━━━━━\u001b[0m\u001b[37m\u001b[0m \u001b[1m0s\u001b[0m 2ms/step - accuracy: 0.8220 - loss: 0.3895\n",
            "Epoch 66/100\n",
            "\u001b[1m176/176\u001b[0m \u001b[32m━━━━━━━━━━━━━━━━━━━━\u001b[0m\u001b[37m\u001b[0m \u001b[1m0s\u001b[0m 2ms/step - accuracy: 0.8153 - loss: 0.3834\n",
            "Epoch 67/100\n",
            "\u001b[1m176/176\u001b[0m \u001b[32m━━━━━━━━━━━━━━━━━━━━\u001b[0m\u001b[37m\u001b[0m \u001b[1m1s\u001b[0m 2ms/step - accuracy: 0.8280 - loss: 0.3686\n",
            "Epoch 68/100\n",
            "\u001b[1m176/176\u001b[0m \u001b[32m━━━━━━━━━━━━━━━━━━━━\u001b[0m\u001b[37m\u001b[0m \u001b[1m0s\u001b[0m 2ms/step - accuracy: 0.8184 - loss: 0.3824\n",
            "Epoch 69/100\n",
            "\u001b[1m176/176\u001b[0m \u001b[32m━━━━━━━━━━━━━━━━━━━━\u001b[0m\u001b[37m\u001b[0m \u001b[1m1s\u001b[0m 2ms/step - accuracy: 0.8246 - loss: 0.3855\n",
            "Epoch 70/100\n",
            "\u001b[1m176/176\u001b[0m \u001b[32m━━━━━━━━━━━━━━━━━━━━\u001b[0m\u001b[37m\u001b[0m \u001b[1m1s\u001b[0m 2ms/step - accuracy: 0.8148 - loss: 0.3844\n",
            "Epoch 71/100\n",
            "\u001b[1m176/176\u001b[0m \u001b[32m━━━━━━━━━━━━━━━━━━━━\u001b[0m\u001b[37m\u001b[0m \u001b[1m1s\u001b[0m 2ms/step - accuracy: 0.8146 - loss: 0.3915\n",
            "Epoch 72/100\n",
            "\u001b[1m176/176\u001b[0m \u001b[32m━━━━━━━━━━━━━━━━━━━━\u001b[0m\u001b[37m\u001b[0m \u001b[1m1s\u001b[0m 2ms/step - accuracy: 0.8119 - loss: 0.3959\n",
            "Epoch 73/100\n",
            "\u001b[1m176/176\u001b[0m \u001b[32m━━━━━━━━━━━━━━━━━━━━\u001b[0m\u001b[37m\u001b[0m \u001b[1m1s\u001b[0m 2ms/step - accuracy: 0.8195 - loss: 0.3834\n",
            "Epoch 74/100\n",
            "\u001b[1m176/176\u001b[0m \u001b[32m━━━━━━━━━━━━━━━━━━━━\u001b[0m\u001b[37m\u001b[0m \u001b[1m0s\u001b[0m 2ms/step - accuracy: 0.8189 - loss: 0.3883\n",
            "Epoch 75/100\n",
            "\u001b[1m176/176\u001b[0m \u001b[32m━━━━━━━━━━━━━━━━━━━━\u001b[0m\u001b[37m\u001b[0m \u001b[1m1s\u001b[0m 3ms/step - accuracy: 0.8252 - loss: 0.3747\n",
            "Epoch 76/100\n",
            "\u001b[1m176/176\u001b[0m \u001b[32m━━━━━━━━━━━━━━━━━━━━\u001b[0m\u001b[37m\u001b[0m \u001b[1m1s\u001b[0m 3ms/step - accuracy: 0.8241 - loss: 0.3759\n",
            "Epoch 77/100\n",
            "\u001b[1m176/176\u001b[0m \u001b[32m━━━━━━━━━━━━━━━━━━━━\u001b[0m\u001b[37m\u001b[0m \u001b[1m1s\u001b[0m 3ms/step - accuracy: 0.8286 - loss: 0.3722\n",
            "Epoch 78/100\n",
            "\u001b[1m176/176\u001b[0m \u001b[32m━━━━━━━━━━━━━━━━━━━━\u001b[0m\u001b[37m\u001b[0m \u001b[1m1s\u001b[0m 3ms/step - accuracy: 0.8270 - loss: 0.3760\n",
            "Epoch 79/100\n",
            "\u001b[1m176/176\u001b[0m \u001b[32m━━━━━━━━━━━━━━━━━━━━\u001b[0m\u001b[37m\u001b[0m \u001b[1m1s\u001b[0m 3ms/step - accuracy: 0.8313 - loss: 0.3640\n",
            "Epoch 80/100\n",
            "\u001b[1m176/176\u001b[0m \u001b[32m━━━━━━━━━━━━━━━━━━━━\u001b[0m\u001b[37m\u001b[0m \u001b[1m0s\u001b[0m 2ms/step - accuracy: 0.8249 - loss: 0.3751\n",
            "Epoch 81/100\n",
            "\u001b[1m176/176\u001b[0m \u001b[32m━━━━━━━━━━━━━━━━━━━━\u001b[0m\u001b[37m\u001b[0m \u001b[1m1s\u001b[0m 2ms/step - accuracy: 0.8270 - loss: 0.3798\n",
            "Epoch 82/100\n",
            "\u001b[1m176/176\u001b[0m \u001b[32m━━━━━━━━━━━━━━━━━━━━\u001b[0m\u001b[37m\u001b[0m \u001b[1m1s\u001b[0m 2ms/step - accuracy: 0.8239 - loss: 0.3774\n",
            "Epoch 83/100\n",
            "\u001b[1m176/176\u001b[0m \u001b[32m━━━━━━━━━━━━━━━━━━━━\u001b[0m\u001b[37m\u001b[0m \u001b[1m1s\u001b[0m 2ms/step - accuracy: 0.8255 - loss: 0.3739\n",
            "Epoch 84/100\n",
            "\u001b[1m176/176\u001b[0m \u001b[32m━━━━━━━━━━━━━━━━━━━━\u001b[0m\u001b[37m\u001b[0m \u001b[1m1s\u001b[0m 2ms/step - accuracy: 0.8199 - loss: 0.3838\n",
            "Epoch 85/100\n",
            "\u001b[1m176/176\u001b[0m \u001b[32m━━━━━━━━━━━━━━━━━━━━\u001b[0m\u001b[37m\u001b[0m \u001b[1m1s\u001b[0m 2ms/step - accuracy: 0.8338 - loss: 0.3665\n",
            "Epoch 86/100\n",
            "\u001b[1m176/176\u001b[0m \u001b[32m━━━━━━━━━━━━━━━━━━━━\u001b[0m\u001b[37m\u001b[0m \u001b[1m1s\u001b[0m 2ms/step - accuracy: 0.8184 - loss: 0.3776\n",
            "Epoch 87/100\n",
            "\u001b[1m176/176\u001b[0m \u001b[32m━━━━━━━━━━━━━━━━━━━━\u001b[0m\u001b[37m\u001b[0m \u001b[1m1s\u001b[0m 2ms/step - accuracy: 0.8258 - loss: 0.3727\n",
            "Epoch 88/100\n",
            "\u001b[1m176/176\u001b[0m \u001b[32m━━━━━━━━━━━━━━━━━━━━\u001b[0m\u001b[37m\u001b[0m \u001b[1m1s\u001b[0m 2ms/step - accuracy: 0.8313 - loss: 0.3770\n",
            "Epoch 89/100\n",
            "\u001b[1m176/176\u001b[0m \u001b[32m━━━━━━━━━━━━━━━━━━━━\u001b[0m\u001b[37m\u001b[0m \u001b[1m0s\u001b[0m 2ms/step - accuracy: 0.8277 - loss: 0.3728\n",
            "Epoch 90/100\n",
            "\u001b[1m176/176\u001b[0m \u001b[32m━━━━━━━━━━━━━━━━━━━━\u001b[0m\u001b[37m\u001b[0m \u001b[1m1s\u001b[0m 2ms/step - accuracy: 0.8301 - loss: 0.3734\n",
            "Epoch 91/100\n",
            "\u001b[1m176/176\u001b[0m \u001b[32m━━━━━━━━━━━━━━━━━━━━\u001b[0m\u001b[37m\u001b[0m \u001b[1m1s\u001b[0m 2ms/step - accuracy: 0.8241 - loss: 0.3777\n",
            "Epoch 92/100\n",
            "\u001b[1m176/176\u001b[0m \u001b[32m━━━━━━━━━━━━━━━━━━━━\u001b[0m\u001b[37m\u001b[0m \u001b[1m1s\u001b[0m 2ms/step - accuracy: 0.8252 - loss: 0.3754\n",
            "Epoch 93/100\n",
            "\u001b[1m176/176\u001b[0m \u001b[32m━━━━━━━━━━━━━━━━━━━━\u001b[0m\u001b[37m\u001b[0m \u001b[1m1s\u001b[0m 2ms/step - accuracy: 0.8314 - loss: 0.3711\n",
            "Epoch 94/100\n",
            "\u001b[1m176/176\u001b[0m \u001b[32m━━━━━━━━━━━━━━━━━━━━\u001b[0m\u001b[37m\u001b[0m \u001b[1m1s\u001b[0m 2ms/step - accuracy: 0.8210 - loss: 0.3775\n",
            "Epoch 95/100\n",
            "\u001b[1m176/176\u001b[0m \u001b[32m━━━━━━━━━━━━━━━━━━━━\u001b[0m\u001b[37m\u001b[0m \u001b[1m0s\u001b[0m 2ms/step - accuracy: 0.8296 - loss: 0.3659\n",
            "Epoch 96/100\n",
            "\u001b[1m176/176\u001b[0m \u001b[32m━━━━━━━━━━━━━━━━━━━━\u001b[0m\u001b[37m\u001b[0m \u001b[1m1s\u001b[0m 2ms/step - accuracy: 0.8236 - loss: 0.3855\n",
            "Epoch 97/100\n",
            "\u001b[1m176/176\u001b[0m \u001b[32m━━━━━━━━━━━━━━━━━━━━\u001b[0m\u001b[37m\u001b[0m \u001b[1m1s\u001b[0m 3ms/step - accuracy: 0.8253 - loss: 0.3772\n",
            "Epoch 98/100\n",
            "\u001b[1m176/176\u001b[0m \u001b[32m━━━━━━━━━━━━━━━━━━━━\u001b[0m\u001b[37m\u001b[0m \u001b[1m1s\u001b[0m 3ms/step - accuracy: 0.8242 - loss: 0.3808\n",
            "Epoch 99/100\n",
            "\u001b[1m176/176\u001b[0m \u001b[32m━━━━━━━━━━━━━━━━━━━━\u001b[0m\u001b[37m\u001b[0m \u001b[1m1s\u001b[0m 3ms/step - accuracy: 0.8240 - loss: 0.3689\n",
            "Epoch 100/100\n",
            "\u001b[1m176/176\u001b[0m \u001b[32m━━━━━━━━━━━━━━━━━━━━\u001b[0m\u001b[37m\u001b[0m \u001b[1m1s\u001b[0m 3ms/step - accuracy: 0.8289 - loss: 0.3713\n"
          ]
        },
        {
          "output_type": "execute_result",
          "data": {
            "text/plain": [
              "<keras.src.callbacks.history.History at 0x7fa22939ee90>"
            ]
          },
          "metadata": {},
          "execution_count": 28
        }
      ]
    },
    {
      "cell_type": "code",
      "source": [
        "model.evaluate(x_test, y_test)"
      ],
      "metadata": {
        "colab": {
          "base_uri": "https://localhost:8080/"
        },
        "id": "ELxUHCo8-aZA",
        "outputId": "99e429d1-4201-4c87-972a-58ce16d0771f"
      },
      "execution_count": null,
      "outputs": [
        {
          "output_type": "stream",
          "name": "stdout",
          "text": [
            "\u001b[1m44/44\u001b[0m \u001b[32m━━━━━━━━━━━━━━━━━━━━\u001b[0m\u001b[37m\u001b[0m \u001b[1m0s\u001b[0m 2ms/step - accuracy: 0.7642 - loss: 0.4729\n"
          ]
        },
        {
          "output_type": "execute_result",
          "data": {
            "text/plain": [
              "[0.47524502873420715, 0.7704335451126099]"
            ]
          },
          "metadata": {},
          "execution_count": 29
        }
      ]
    },
    {
      "cell_type": "code",
      "source": [
        "y_predict = model.predict(x_test)"
      ],
      "metadata": {
        "colab": {
          "base_uri": "https://localhost:8080/"
        },
        "id": "6M1k03_P-eBY",
        "outputId": "28a10cd1-c5b2-4709-a451-1301aa5c8887"
      },
      "execution_count": null,
      "outputs": [
        {
          "output_type": "stream",
          "name": "stdout",
          "text": [
            "\u001b[1m44/44\u001b[0m \u001b[32m━━━━━━━━━━━━━━━━━━━━\u001b[0m\u001b[37m\u001b[0m \u001b[1m0s\u001b[0m 2ms/step\n"
          ]
        }
      ]
    },
    {
      "cell_type": "code",
      "source": [
        "y_predict = (y_predict > 0.5).astype(int).flatten()"
      ],
      "metadata": {
        "id": "OtOwznaS-zrg"
      },
      "execution_count": null,
      "outputs": []
    },
    {
      "cell_type": "markdown",
      "source": [
        "**Evaluation and Visualization**\n",
        "\n",
        "\n",
        "*   evaluating the prediction on several metrices\n",
        "*   for visualization a confusion_matrix has been created\n",
        "\n"
      ],
      "metadata": {
        "id": "3bUV0qy7KVcM"
      }
    },
    {
      "cell_type": "code",
      "source": [
        "from sklearn.metrics import classification_report\n",
        "\n",
        "print(classification_report(y_test, y_predict))"
      ],
      "metadata": {
        "colab": {
          "base_uri": "https://localhost:8080/"
        },
        "id": "5Do5AvtK_5_2",
        "outputId": "dfd3f77f-cad1-4410-d91a-1af3e517b453"
      },
      "execution_count": null,
      "outputs": [
        {
          "output_type": "stream",
          "name": "stdout",
          "text": [
            "              precision    recall  f1-score   support\n",
            "\n",
            "           0       0.83      0.86      0.85      1033\n",
            "           1       0.57      0.53      0.55       374\n",
            "\n",
            "    accuracy                           0.77      1407\n",
            "   macro avg       0.70      0.69      0.70      1407\n",
            "weighted avg       0.76      0.77      0.77      1407\n",
            "\n"
          ]
        }
      ]
    },
    {
      "cell_type": "code",
      "source": [
        "from sklearn.metrics import confusion_matrix\n",
        "import seaborn as sns\n",
        "import matplotlib.pyplot as plt\n",
        "\n",
        "cm = confusion_matrix(y_test, y_predict)\n",
        "\n",
        "plt.figure(figsize=(8, 6))\n",
        "sns.heatmap(cm, annot=True, fmt='d', cmap='Blues', xticklabels=['Not Churn', 'Churn'], yticklabels=['Not Churn', 'Churn'])\n",
        "plt.xlabel('Predicted')\n",
        "plt.ylabel('Actual')\n",
        "plt.title('Confusion Matrix')\n",
        "plt.show()"
      ],
      "metadata": {
        "colab": {
          "base_uri": "https://localhost:8080/",
          "height": 564
        },
        "id": "bScAXgF5AGiD",
        "outputId": "5d1008a8-15f4-4983-8505-3d1deeb8a046"
      },
      "execution_count": null,
      "outputs": [
        {
          "output_type": "display_data",
          "data": {
            "text/plain": [
              "<Figure size 800x600 with 2 Axes>"
            ],
            "image/png": "[encoded data removed]"
          },
          "metadata": {}
        }
      ]
    },
    {
      "cell_type": "code",
      "source": [
        "df[:2000].to_csv('data.csv', index=False)"
      ],
      "metadata": {
        "id": "m7EOiCPSWzS6"
      },
      "execution_count": null,
      "outputs": []
    }
  ]
}